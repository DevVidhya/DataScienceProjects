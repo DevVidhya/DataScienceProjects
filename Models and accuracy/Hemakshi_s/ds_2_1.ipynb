{
  "nbformat": 4,
  "nbformat_minor": 0,
  "metadata": {
    "colab": {
      "name": "ds_2_1.ipynb",
      "provenance": [],
      "collapsed_sections": []
    },
    "kernelspec": {
      "name": "python3",
      "display_name": "Python 3"
    }
  },
  "cells": [
    {
      "cell_type": "markdown",
      "metadata": {
        "id": "ptvq58W5UCcw"
      },
      "source": [
        "Uploading the data set"
      ]
    },
    {
      "cell_type": "code",
      "metadata": {
        "colab": {
          "resources": {
            "http://localhost:8080/nbextensions/google.colab/files.js": {
              "data": "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",
              "ok": true,
              "headers": [
                [
                  "content-type",
                  "application/javascript"
                ]
              ],
              "status": 200,
              "status_text": ""
            }
          },
          "base_uri": "https://localhost:8080/",
          "height": 140
        },
        "id": "gx-5REq0SgmR",
        "outputId": "bf07d6b1-9da8-4c7e-e20b-2aaca5bdd93b"
      },
      "source": [
        "from google.colab import files\n",
        "uploaded = files.upload()"
      ],
      "execution_count": null,
      "outputs": [
        {
          "output_type": "display_data",
          "data": {
            "text/html": [
              "\n",
              "     <input type=\"file\" id=\"files-041f6c4a-969b-48a8-905d-89a2fd1f75fb\" name=\"files[]\" multiple disabled\n",
              "        style=\"border:none\" />\n",
              "     <output id=\"result-041f6c4a-969b-48a8-905d-89a2fd1f75fb\">\n",
              "      Upload widget is only available when the cell has been executed in the\n",
              "      current browser session. Please rerun this cell to enable.\n",
              "      </output>\n",
              "      <script src=\"/nbextensions/google.colab/files.js\"></script> "
            ],
            "text/plain": [
              "<IPython.core.display.HTML object>"
            ]
          },
          "metadata": {
            "tags": []
          }
        },
        {
          "output_type": "stream",
          "text": [
            "Saving Dataset Details.txt to Dataset Details.txt\n",
            "Saving target.csv to target.csv\n",
            "Saving features.csv to features.csv\n"
          ],
          "name": "stdout"
        }
      ]
    },
    {
      "cell_type": "markdown",
      "metadata": {
        "id": "OUurIyhDWFoL"
      },
      "source": [
        "Importing libraries"
      ]
    },
    {
      "cell_type": "code",
      "metadata": {
        "id": "kpUJ1_NIV7JA"
      },
      "source": [
        "import pandas as pd\n",
        "import matplotlib.pyplot as plt\n",
        "import matplotlib.patches as mpatches\n",
        "import numpy as np"
      ],
      "execution_count": null,
      "outputs": []
    },
    {
      "cell_type": "markdown",
      "metadata": {
        "id": "AYWkuohxWXJQ"
      },
      "source": [
        "Reading the dataset"
      ]
    },
    {
      "cell_type": "code",
      "metadata": {
        "colab": {
          "base_uri": "https://localhost:8080/"
        },
        "id": "BHPQjQXtWJnh",
        "outputId": "22e24b69-2552-4852-b023-01dde373668c"
      },
      "source": [
        "X = pd.read_csv('features.csv', header = None)\n",
        "Y = pd.read_csv('target.csv', header = None)\n",
        "print(X, Y)"
      ],
      "execution_count": null,
      "outputs": [
        {
          "output_type": "stream",
          "text": [
            "                0           1\n",
            "0    1.417837e+06  130.331364\n",
            "1    1.170866e+06  114.834354\n",
            "2    1.326528e+06   52.048800\n",
            "3    1.436353e+06   56.271637\n",
            "4    1.667446e+06  112.761949\n",
            "..            ...         ...\n",
            "495  1.070062e+06   89.464539\n",
            "496  1.464367e+06   98.961825\n",
            "497  1.342927e+06   40.139589\n",
            "498  1.476000e+06   78.434960\n",
            "499  1.518822e+06  119.876434\n",
            "\n",
            "[500 rows x 2 columns]           0\n",
            "0      Male\n",
            "1    Female\n",
            "2    Female\n",
            "3    Female\n",
            "4      Male\n",
            "..      ...\n",
            "495  Female\n",
            "496    Male\n",
            "497  Female\n",
            "498    Male\n",
            "499    Male\n",
            "\n",
            "[500 rows x 1 columns]\n"
          ],
          "name": "stdout"
        }
      ]
    },
    {
      "cell_type": "markdown",
      "metadata": {
        "id": "lg5uH5LeeBVr"
      },
      "source": [
        "Replacing taget values from string to boolean"
      ]
    },
    {
      "cell_type": "code",
      "metadata": {
        "colab": {
          "base_uri": "https://localhost:8080/"
        },
        "id": "bvaS8xqCdpB7",
        "outputId": "2b146d62-3334-4f77-cb3e-a8162cdd545d"
      },
      "source": [
        "Y = Y.replace(to_replace='Male', value = '1')\n",
        "Y = Y.replace(to_replace='Female', value = '0')\n",
        "print(Y)"
      ],
      "execution_count": null,
      "outputs": [
        {
          "output_type": "stream",
          "text": [
            "     0\n",
            "0    1\n",
            "1    0\n",
            "2    0\n",
            "3    0\n",
            "4    1\n",
            "..  ..\n",
            "495  0\n",
            "496  1\n",
            "497  0\n",
            "498  1\n",
            "499  1\n",
            "\n",
            "[500 rows x 1 columns]\n"
          ],
          "name": "stdout"
        }
      ]
    },
    {
      "cell_type": "markdown",
      "metadata": {
        "id": "iRprlMX-cyU8"
      },
      "source": [
        "Separating the male and female data for plotting"
      ]
    },
    {
      "cell_type": "code",
      "metadata": {
        "colab": {
          "base_uri": "https://localhost:8080/"
        },
        "id": "8e73tCu3ZRiN",
        "outputId": "7c3a5910-2526-493c-8171-9ada4a5fc823"
      },
      "source": [
        "height, weight = X[0], X[1]\n",
        "\n",
        "male_height = []\n",
        "male_weight = []\n",
        "female_height = []\n",
        "female_weight = []\n",
        "\n",
        "for i in range(len(Y[0])):\n",
        "  if Y[0][i] == '1':\n",
        "    male_height.append(height[i])\n",
        "    male_weight.append(weight[i])\n",
        "  else:\n",
        "    female_height.append(height[i])\n",
        "    female_weight.append(weight[i])\n",
        "\n",
        "print(len(male_height), len(male_weight), len(female_height), len(female_weight))\n"
      ],
      "execution_count": null,
      "outputs": [
        {
          "output_type": "stream",
          "text": [
            "177 177 323 323\n"
          ],
          "name": "stdout"
        }
      ]
    },
    {
      "cell_type": "markdown",
      "metadata": {
        "id": "sB0zNnfk4wOM"
      },
      "source": [
        "Plotting the data"
      ]
    },
    {
      "cell_type": "code",
      "metadata": {
        "colab": {
          "base_uri": "https://localhost:8080/",
          "height": 279
        },
        "id": "B_4_JLUoWqIl",
        "outputId": "5933bf48-f10f-4f1b-ccaf-157929ec347a"
      },
      "source": [
        "red_patch = mpatches.Patch(color='red', label='Male')\n",
        "blue_patch = mpatches.Patch(color='blue', label='Female')\n",
        "plt.legend(handles=[red_patch, blue_patch], loc = 'upper right', bbox_to_anchor = (1.3, 1))\n",
        "plt.scatter(male_height, male_weight, c='r')\n",
        "plt.scatter(female_height, female_weight, c='b')\n",
        "plt.xlabel('Height in micrometer')\n",
        "plt.ylabel('Weight in kg')\n",
        "plt.show()"
      ],
      "execution_count": null,
      "outputs": [
        {
          "output_type": "display_data",
          "data": {
            "image/png": "[encoded data removed]",
            "text/plain": [
              "<Figure size 432x288 with 1 Axes>"
            ]
          },
          "metadata": {
            "tags": [],
            "needs_background": "light"
          }
        }
      ]
    },
    {
      "cell_type": "markdown",
      "metadata": {
        "id": "j81pLZm6lQ7c"
      },
      "source": [
        "Splitting data into training and testing, 2 : 1 ratio."
      ]
    },
    {
      "cell_type": "code",
      "metadata": {
        "colab": {
          "base_uri": "https://localhost:8080/"
        },
        "id": "e2z7h-70iYlE",
        "outputId": "93029971-8040-4f45-9965-7792c4e2efa3"
      },
      "source": [
        "from sklearn.model_selection import train_test_split\n",
        "X_Train, X_Test, Y_Train, Y_Test = train_test_split(X, Y, test_size=0.33, random_state=42, shuffle=True)\n",
        "\n",
        "print(len(X_Train), len(X_Test), len(Y_Train), len(Y_Test))"
      ],
      "execution_count": null,
      "outputs": [
        {
          "output_type": "stream",
          "text": [
            "335 165 335 165\n"
          ],
          "name": "stdout"
        }
      ]
    },
    {
      "cell_type": "markdown",
      "metadata": {
        "id": "s_lQDqNvlsqg"
      },
      "source": [
        "Apply decision tree algorithm"
      ]
    },
    {
      "cell_type": "code",
      "metadata": {
        "id": "rlYtpyo1loVF"
      },
      "source": [
        "from sklearn import tree\n",
        "\n",
        "DT_Classfier = tree.DecisionTreeClassifier()\n",
        "DT_Classfier = DT_Classfier.fit(X_Train, Y_Train)\n",
        "DT_Prediction = DT_Classfier.predict(X_Test)"
      ],
      "execution_count": null,
      "outputs": []
    },
    {
      "cell_type": "markdown",
      "metadata": {
        "id": "S6lJTocdnJJJ"
      },
      "source": [
        "Calculate the metrics for the prediction"
      ]
    },
    {
      "cell_type": "code",
      "metadata": {
        "colab": {
          "base_uri": "https://localhost:8080/"
        },
        "id": "B0-fhhC6m7Sp",
        "outputId": "3a8052d7-62e2-4af1-c1ea-13436779bd43"
      },
      "source": [
        "from sklearn.metrics import classification_report, confusion_matrix\n",
        "\n",
        "print(classification_report(Y_test, DT_Prediction))\n",
        "print()\n",
        "\n",
        "matrix = confusion_matrix(Y_test, DT_Prediction)\n",
        "print(\"The confusion Matrix: \")\n",
        "print(confusion_matrix(Y_test, DT_Prediction))\n",
        "print()\n"
      ],
      "execution_count": null,
      "outputs": [
        {
          "output_type": "stream",
          "text": [
            "              precision    recall  f1-score   support\n",
            "\n",
            "           0       0.99      1.00      1.00       113\n",
            "           1       1.00      0.98      0.99        52\n",
            "\n",
            "    accuracy                           0.99       165\n",
            "   macro avg       1.00      0.99      0.99       165\n",
            "weighted avg       0.99      0.99      0.99       165\n",
            "\n",
            "\n",
            "The confusion Matrix: \n",
            "[[113   0]\n",
            " [  1  51]]\n",
            "\n"
          ],
          "name": "stdout"
        }
      ]
    },
    {
      "cell_type": "markdown",
      "metadata": {
        "id": "Bg77tFs6rgsy"
      },
      "source": [
        "**Conclusion:** since all the scores are high for both the classes, we can say that the classifier is working properly."
      ]
    },
    {
      "cell_type": "markdown",
      "metadata": {
        "id": "lfVQRtM9xmKa"
      },
      "source": [
        "Now for KNN classification."
      ]
    },
    {
      "cell_type": "code",
      "metadata": {
        "id": "6jEIb-fxuRda"
      },
      "source": [
        "from sklearn.neighbors import KNeighborsClassifier\n",
        "\n",
        "error_rate = []\n",
        "\n",
        "for i in range(1, 40):\n",
        "  KNN_Classifier = KNeighborsClassifier(n_neighbors=i+1)\n",
        "  KNN_Classifier.fit(X_Train, Y_Train.values.ravel())\n",
        "  KNN_prediction = KNN_Classifier.predict(X_Test)\n",
        "  error_rate.append(np.mean(KNN_prediction != Y_Test[0]))"
      ],
      "execution_count": null,
      "outputs": []
    },
    {
      "cell_type": "markdown",
      "metadata": {
        "id": "gCdEg0x6zqHn"
      },
      "source": [
        "Plotting the error rate against the K value"
      ]
    },
    {
      "cell_type": "code",
      "metadata": {
        "colab": {
          "base_uri": "https://localhost:8080/",
          "height": 295
        },
        "id": "rYhQQ0t_y3jk",
        "outputId": "4710a1a6-0f4a-4378-c9fa-03920844b492"
      },
      "source": [
        "plt.plot(range(1, 40),error_rate,color='blue',linestyle='dashed',marker='o',markerfacecolor='red',markersize=10)\n",
        "plt.title('Error Rate vs. K Value')\n",
        "plt.xlabel('K')\n",
        "plt.ylabel('Error Rate')\n",
        "plt.show()"
      ],
      "execution_count": null,
      "outputs": [
        {
          "output_type": "display_data",
          "data": {
            "image/png": "[encoded data removed]",
            "text/plain": [
              "<Figure size 432x288 with 1 Axes>"
            ]
          },
          "metadata": {
            "tags": [],
            "needs_background": "light"
          }
        }
      ]
    },
    {
      "cell_type": "markdown",
      "metadata": {
        "id": "kQ71DXwWz2-V"
      },
      "source": [
        "Error rate is minimum somewhere in the range 5 to 11, so we will choose K = 10"
      ]
    },
    {
      "cell_type": "code",
      "metadata": {
        "id": "iObE0XdHzwN-"
      },
      "source": [
        "KNN_Classifier = KNeighborsClassifier(n_neighbors=10)\n",
        "KNN_Classifier.fit(X_Train, Y_Train.values.ravel())\n",
        "KNN_prediction = KNN_Classifier.predict(X_Test)"
      ],
      "execution_count": null,
      "outputs": []
    },
    {
      "cell_type": "markdown",
      "metadata": {
        "id": "BB579G57xqmM"
      },
      "source": [
        "Calculating metrics for KNN Classifier"
      ]
    },
    {
      "cell_type": "code",
      "metadata": {
        "colab": {
          "base_uri": "https://localhost:8080/"
        },
        "id": "ZZJZDZHBxkKr",
        "outputId": "f1e4a24b-b30b-4bdf-f977-45434d5b27c4"
      },
      "source": [
        "print(classification_report(Y_test, KNN_prediction))\n",
        "print()\n",
        "\n",
        "matrix = confusion_matrix(Y_test, KNN_prediction)\n",
        "print(\"The confusion Matrix: \")\n",
        "print(confusion_matrix(Y_test, KNN_prediction))\n",
        "print()"
      ],
      "execution_count": null,
      "outputs": [
        {
          "output_type": "stream",
          "text": [
            "              precision    recall  f1-score   support\n",
            "\n",
            "           0       0.98      0.83      0.90       113\n",
            "           1       0.72      0.96      0.83        52\n",
            "\n",
            "    accuracy                           0.87       165\n",
            "   macro avg       0.85      0.90      0.86       165\n",
            "weighted avg       0.90      0.87      0.88       165\n",
            "\n",
            "\n",
            "The confusion Matrix: \n",
            "[[94 19]\n",
            " [ 2 50]]\n",
            "\n"
          ],
          "name": "stdout"
        }
      ]
    },
    {
      "cell_type": "markdown",
      "metadata": {
        "id": "aJBrn18k0LzL"
      },
      "source": [
        "**Conclusion**, The accuracy and other scores is lower than that of the Decision Tree. So next we will use normalization and see if it improves the result or not."
      ]
    },
    {
      "cell_type": "markdown",
      "metadata": {
        "id": "dS5jCv0z0xu5"
      },
      "source": [
        "Applying min max normalisation and verifying if the values are between 0 and 1 or not"
      ]
    },
    {
      "cell_type": "code",
      "metadata": {
        "colab": {
          "base_uri": "https://localhost:8080/"
        },
        "id": "ArW5WXtO0IrE",
        "outputId": "ddd2a793-ec5c-4c76-b4c7-02aebe8e5ed9"
      },
      "source": [
        "from sklearn.preprocessing import MinMaxScaler\n",
        "\n",
        "scaler = MinMaxScaler()\n",
        "scaler.fit(X)\n",
        "\n",
        "X_scaled = scaler.transform(X)\n",
        "\n",
        "print(X_scaled.min(axis=0))\n",
        "print(X_scaled.max(axis=0))\n",
        "\n",
        "print(X_scaled.shape)"
      ],
      "execution_count": null,
      "outputs": [
        {
          "output_type": "stream",
          "text": [
            "[0. 0.]\n",
            "[1. 1.]\n",
            "(500, 2)\n"
          ],
          "name": "stdout"
        }
      ]
    },
    {
      "cell_type": "markdown",
      "metadata": {
        "id": "SzrcjqUD1hS2"
      },
      "source": [
        "Visualization of the scaled data\n"
      ]
    },
    {
      "cell_type": "code",
      "metadata": {
        "colab": {
          "base_uri": "https://localhost:8080/",
          "height": 279
        },
        "id": "gbvPM5gs1meM",
        "outputId": "48bcddb5-1446-4adf-966d-fa8a2f670abf"
      },
      "source": [
        "height, weight = X_scaled[:, 0], X_scaled[:, 1]\n",
        "\n",
        "male_height = []\n",
        "male_weight = []\n",
        "female_height = []\n",
        "female_weight = []\n",
        "\n",
        "for i in range(len(Y[0])):\n",
        "  if Y[0][i] == '1':\n",
        "    male_height.append(height[i])\n",
        "    male_weight.append(weight[i])\n",
        "  else:\n",
        "    female_height.append(height[i])\n",
        "    female_weight.append(weight[i])\n",
        "\n",
        "red_patch = mpatches.Patch(color='red', label='Male')\n",
        "blue_patch = mpatches.Patch(color='blue', label='Female')\n",
        "plt.legend(handles=[red_patch, blue_patch], loc = 'upper right', bbox_to_anchor = (1.3, 1))\n",
        "plt.scatter(male_height, male_weight, c='r')\n",
        "plt.scatter(female_height, female_weight, c='b')\n",
        "plt.xlabel('Height in micrometer')\n",
        "plt.ylabel('Weight in kg')\n",
        "plt.show()\n"
      ],
      "execution_count": null,
      "outputs": [
        {
          "output_type": "display_data",
          "data": {
            "image/png": "[encoded data removed]",
            "text/plain": [
              "<Figure size 432x288 with 1 Axes>"
            ]
          },
          "metadata": {
            "tags": [],
            "needs_background": "light"
          }
        }
      ]
    },
    {
      "cell_type": "markdown",
      "metadata": {
        "id": "L6ehdCtH20Z9"
      },
      "source": [
        "The distribution remains almost the same, now applying the KNN on this normalised data"
      ]
    },
    {
      "cell_type": "code",
      "metadata": {
        "colab": {
          "base_uri": "https://localhost:8080/",
          "height": 295
        },
        "id": "P5M5Vbn93pf4",
        "outputId": "d6e78ecc-ee42-41cb-ae55-d1915413a1f7"
      },
      "source": [
        "X_Train_scaled, X_Test_scaled, Y_Train_scaled, Y_Test_scaled = train_test_split(X_scaled, Y, test_size=0.33, random_state=42, shuffle=True)\n",
        "\n",
        "error_rate = []\n",
        "\n",
        "for i in range(1, 40):\n",
        "  KNN_Classifier_scaled = KNeighborsClassifier(n_neighbors=i)\n",
        "  KNN_Classifier_scaled.fit(X_Train_scaled, Y_Train_scaled.values.ravel())\n",
        "  KNN_prediction_scaled = KNN_Classifier_scaled.predict(X_Test_scaled)\n",
        "  error_rate.append(np.mean(KNN_prediction_scaled != Y_Test_scaled[0]))\n",
        "\n",
        "plt.plot(range(1, 40),error_rate,color='blue',linestyle='dashed',marker='o',markerfacecolor='red',markersize=10)\n",
        "plt.title('Error Rate vs. K Value')\n",
        "plt.xlabel('K')\n",
        "plt.ylabel('Error Rate')\n",
        "plt.show()"
      ],
      "execution_count": null,
      "outputs": [
        {
          "output_type": "display_data",
          "data": {
            "image/png": "[encoded data removed]",
            "text/plain": [
              "<Figure size 432x288 with 1 Axes>"
            ]
          },
          "metadata": {
            "tags": [],
            "needs_background": "light"
          }
        }
      ]
    },
    {
      "cell_type": "markdown",
      "metadata": {
        "id": "7q1Fx1HF31gK"
      },
      "source": [
        "Now the error rate becomes stabalised near 20 to 25, so choosing K = 25."
      ]
    },
    {
      "cell_type": "code",
      "metadata": {
        "colab": {
          "base_uri": "https://localhost:8080/"
        },
        "id": "3R-_468e5xpH",
        "outputId": "1c137218-4365-4aee-8e2e-43d6e07a86ae"
      },
      "source": [
        "KNN_Classifier_scaled = KNeighborsClassifier(n_neighbors=25)\n",
        "KNN_Classifier_scaled.fit(X_Train_scaled, Y_Train_scaled.values.ravel())\n",
        "KNN_prediction_scaled = KNN_Classifier_scaled.predict(X_Test_scaled)\n",
        "\n",
        "print(classification_report(Y_Test_scaled, KNN_prediction_scaled))\n",
        "print()\n",
        "\n",
        "print(\"The confusion Matrix: \")\n",
        "print(confusion_matrix(Y_Test_scaled, KNN_prediction_scaled))\n",
        "print()"
      ],
      "execution_count": null,
      "outputs": [
        {
          "output_type": "stream",
          "text": [
            "              precision    recall  f1-score   support\n",
            "\n",
            "           0       0.97      1.00      0.98       113\n",
            "           1       1.00      0.92      0.96        52\n",
            "\n",
            "    accuracy                           0.98       165\n",
            "   macro avg       0.98      0.96      0.97       165\n",
            "weighted avg       0.98      0.98      0.98       165\n",
            "\n",
            "\n",
            "The confusion Matrix: \n",
            "[[113   0]\n",
            " [  4  48]]\n",
            "\n"
          ],
          "name": "stdout"
        }
      ]
    },
    {
      "cell_type": "markdown",
      "metadata": {
        "id": "o1L_vAQV6sFi"
      },
      "source": [
        "We can observe that, accuracy as well as all other scores improved after normalisation. Now the this classifier has results close to the decision tree classifier."
      ]
    },
    {
      "cell_type": "markdown",
      "metadata": {
        "id": "cZIMS7O089bz"
      },
      "source": [
        "For unnormalised dataset the auc value is 0.9, and the roc curve is as follows"
      ]
    },
    {
      "cell_type": "code",
      "metadata": {
        "colab": {
          "base_uri": "https://localhost:8080/",
          "height": 296
        },
        "id": "x3N3BFWX6_0F",
        "outputId": "a2a5ce9a-411b-4903-cfa0-f942673a9dbd"
      },
      "source": [
        "from sklearn.metrics import plot_roc_curve\n",
        "\n",
        "plot_roc_curve(KNN_Classifier, X_Test, Y_Test)\n",
        "plt.plot()"
      ],
      "execution_count": null,
      "outputs": [
        {
          "output_type": "execute_result",
          "data": {
            "text/plain": [
              "[]"
            ]
          },
          "metadata": {
            "tags": []
          },
          "execution_count": 234
        },
        {
          "output_type": "display_data",
          "data": {
            "image/png": "[encoded data removed]",
            "text/plain": [
              "<Figure size 432x288 with 1 Axes>"
            ]
          },
          "metadata": {
            "tags": [],
            "needs_background": "light"
          }
        }
      ]
    },
    {
      "cell_type": "markdown",
      "metadata": {
        "id": "wcUwgbql9G4w"
      },
      "source": [
        "For normalised dataset the auc value is 1.0, and the roc curve is as follows"
      ]
    },
    {
      "cell_type": "code",
      "metadata": {
        "colab": {
          "base_uri": "https://localhost:8080/",
          "height": 296
        },
        "id": "7rmyE0j58vJ5",
        "outputId": "fa21f0f7-0e4a-493b-f24e-429391d15a57"
      },
      "source": [
        "plot_roc_curve(KNN_Classifier_scaled, X_Test_scaled, Y_Test_scaled)\n",
        "plt.plot()"
      ],
      "execution_count": null,
      "outputs": [
        {
          "output_type": "execute_result",
          "data": {
            "text/plain": [
              "[]"
            ]
          },
          "metadata": {
            "tags": []
          },
          "execution_count": 235
        },
        {
          "output_type": "display_data",
          "data": {
            "image/png": "[encoded data removed]",
            "text/plain": [
              "<Figure size 432x288 with 1 Axes>"
            ]
          },
          "metadata": {
            "tags": [],
            "needs_background": "light"
          }
        }
      ]
    },
    {
      "cell_type": "markdown",
      "metadata": {
        "id": "7TW1dUDB9KZP"
      },
      "source": [
        "The normalised data classifier has higher AUC value, the higher the AUC value the better is the classifier."
      ]
    }
  ]
}