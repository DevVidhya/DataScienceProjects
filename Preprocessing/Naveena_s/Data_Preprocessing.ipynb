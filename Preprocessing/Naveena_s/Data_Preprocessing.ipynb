{
  "nbformat": 4,
  "nbformat_minor": 0,
  "metadata": {
    "kernelspec": {
      "display_name": "Python 3",
      "language": "python",
      "name": "python3"
    },
    "language_info": {
      "codemirror_mode": {
        "name": "ipython",
        "version": 3
      },
      "file_extension": ".py",
      "mimetype": "text/x-python",
      "name": "python",
      "nbconvert_exporter": "python",
      "pygments_lexer": "ipython3",
      "version": "3.8.5"
    },
    "colab": {
      "name": "Data-Preprocessing.ipynb",
      "provenance": [],
      "collapsed_sections": []
    }
  },
  "cells": [
    {
      "cell_type": "markdown",
      "metadata": {
        "id": "T_fy-eHLa6qF"
      },
      "source": [
        "### **Import Libraries and the upload dataset**\n",
        "\n",
        "The following modules are used to utilize the functionalities they provide\n",
        "- pandas - for data manipulation \n",
        "- datetime - for conversion of month-year to integer value"
      ]
    },
    {
      "cell_type": "code",
      "metadata": {
        "id": "IkgIto_1KIi-"
      },
      "source": [
        "import pandas as pd\n",
        "import datetime"
      ],
      "execution_count": null,
      "outputs": []
    },
    {
      "cell_type": "markdown",
      "metadata": {
        "id": "dUuSr3TDaRlA"
      },
      "source": [
        "# **DATA PREPROCESSING ASSIGNMENT**\n",
        "\n",
        "**Submitted By:**\n",
        "\n",
        "- 106117044 - Lisa R \n",
        "- 106117068 - Naveena P\n",
        "- 106117069 - Navin Elamparithi P\n",
        "- 106117098 - Sruthi Susan Kuriakose\n",
        "- 106117110 - Voleti Lakshmi Sravani\n"
      ]
    },
    {
      "cell_type": "code",
      "metadata": {
        "id": "_IFzzONaa97I",
        "colab": {
          "base_uri": "https://localhost:8080/"
        },
        "outputId": "07d742bb-888a-4a35-fa45-de273c94d0e4"
      },
      "source": [
        "from google.colab import drive\n",
        "drive.mount('/content/drive')"
      ],
      "execution_count": null,
      "outputs": [
        {
          "output_type": "stream",
          "text": [
            "Drive already mounted at /content/drive; to attempt to forcibly remount, call drive.mount(\"/content/drive\", force_remount=True).\n"
          ],
          "name": "stdout"
        }
      ]
    },
    {
      "cell_type": "code",
      "metadata": {
        "id": "9NxXSfsoKIjF"
      },
      "source": [
        "#note to teammates: change the path of the dataset accordingly\n",
        "\n",
        "data = pd.read_csv('/content/drive/My Drive/lending-club-loans.csv', low_memory = False);\n",
        "\n",
        "data_desc = pd.read_csv('/content/drive/My Drive/LCDataDictionary.csv')"
      ],
      "execution_count": null,
      "outputs": []
    },
    {
      "cell_type": "code",
      "metadata": {
        "id": "KR5nVtlQKIjL",
        "colab": {
          "base_uri": "https://localhost:8080/",
          "height": 1026
        },
        "outputId": "7e457219-2bc4-4dd9-d5a8-3e126204fabe"
      },
      "source": [
        "data"
      ],
      "execution_count": null,
      "outputs": [
        {
          "output_type": "execute_result",
          "data": {
            "text/html": [
              "<div>\n",
              "<style scoped>\n",
              "    .dataframe tbody tr th:only-of-type {\n",
              "        vertical-align: middle;\n",
              "    }\n",
              "\n",
              "    .dataframe tbody tr th {\n",
              "        vertical-align: top;\n",
              "    }\n",
              "\n",
              "    .dataframe thead th {\n",
              "        text-align: right;\n",
              "    }\n",
              "</style>\n",
              "<table border=\"1\" class=\"dataframe\">\n",
              "  <thead>\n",
              "    <tr style=\"text-align: right;\">\n",
              "      <th></th>\n",
              "      <th>id</th>\n",
              "      <th>member_id</th>\n",
              "      <th>loan_amnt</th>\n",
              "      <th>funded_amnt</th>\n",
              "      <th>funded_amnt_inv</th>\n",
              "      <th>term</th>\n",
              "      <th>int_rate</th>\n",
              "      <th>installment</th>\n",
              "      <th>grade</th>\n",
              "      <th>sub_grade</th>\n",
              "      <th>emp_title</th>\n",
              "      <th>emp_length</th>\n",
              "      <th>home_ownership</th>\n",
              "      <th>annual_inc</th>\n",
              "      <th>verification_status</th>\n",
              "      <th>issue_d</th>\n",
              "      <th>loan_status</th>\n",
              "      <th>pymnt_plan</th>\n",
              "      <th>url</th>\n",
              "      <th>desc</th>\n",
              "      <th>purpose</th>\n",
              "      <th>title</th>\n",
              "      <th>zip_code</th>\n",
              "      <th>addr_state</th>\n",
              "      <th>dti</th>\n",
              "      <th>delinq_2yrs</th>\n",
              "      <th>earliest_cr_line</th>\n",
              "      <th>fico_range_low</th>\n",
              "      <th>fico_range_high</th>\n",
              "      <th>inq_last_6mths</th>\n",
              "      <th>mths_since_last_delinq</th>\n",
              "      <th>mths_since_last_record</th>\n",
              "      <th>open_acc</th>\n",
              "      <th>pub_rec</th>\n",
              "      <th>revol_bal</th>\n",
              "      <th>revol_util</th>\n",
              "      <th>total_acc</th>\n",
              "      <th>initial_list_status</th>\n",
              "      <th>out_prncp</th>\n",
              "      <th>out_prncp_inv</th>\n",
              "      <th>...</th>\n",
              "      <th>inq_fi</th>\n",
              "      <th>total_cu_tl</th>\n",
              "      <th>inq_last_12m</th>\n",
              "      <th>acc_open_past_24mths</th>\n",
              "      <th>avg_cur_bal</th>\n",
              "      <th>bc_open_to_buy</th>\n",
              "      <th>bc_util</th>\n",
              "      <th>chargeoff_within_12_mths</th>\n",
              "      <th>delinq_amnt</th>\n",
              "      <th>mo_sin_old_il_acct</th>\n",
              "      <th>mo_sin_old_rev_tl_op</th>\n",
              "      <th>mo_sin_rcnt_rev_tl_op</th>\n",
              "      <th>mo_sin_rcnt_tl</th>\n",
              "      <th>mort_acc</th>\n",
              "      <th>mths_since_recent_bc</th>\n",
              "      <th>mths_since_recent_bc_dlq</th>\n",
              "      <th>mths_since_recent_inq</th>\n",
              "      <th>mths_since_recent_revol_delinq</th>\n",
              "      <th>num_accts_ever_120_pd</th>\n",
              "      <th>num_actv_bc_tl</th>\n",
              "      <th>num_actv_rev_tl</th>\n",
              "      <th>num_bc_sats</th>\n",
              "      <th>num_bc_tl</th>\n",
              "      <th>num_il_tl</th>\n",
              "      <th>num_op_rev_tl</th>\n",
              "      <th>num_rev_accts</th>\n",
              "      <th>num_rev_tl_bal_gt_0</th>\n",
              "      <th>num_sats</th>\n",
              "      <th>num_tl_120dpd_2m</th>\n",
              "      <th>num_tl_30dpd</th>\n",
              "      <th>num_tl_90g_dpd_24m</th>\n",
              "      <th>num_tl_op_past_12m</th>\n",
              "      <th>pct_tl_nvr_dlq</th>\n",
              "      <th>percent_bc_gt_75</th>\n",
              "      <th>pub_rec_bankruptcies</th>\n",
              "      <th>tax_liens</th>\n",
              "      <th>tot_hi_cred_lim</th>\n",
              "      <th>total_bal_ex_mort</th>\n",
              "      <th>total_bc_limit</th>\n",
              "      <th>total_il_high_credit_limit</th>\n",
              "    </tr>\n",
              "  </thead>\n",
              "  <tbody>\n",
              "    <tr>\n",
              "      <th>0</th>\n",
              "      <td>1077501</td>\n",
              "      <td>1296599.0</td>\n",
              "      <td>5000.0</td>\n",
              "      <td>5000.0</td>\n",
              "      <td>4975.0</td>\n",
              "      <td>36 months</td>\n",
              "      <td>10.65%</td>\n",
              "      <td>162.87</td>\n",
              "      <td>B</td>\n",
              "      <td>B2</td>\n",
              "      <td>NaN</td>\n",
              "      <td>10+ years</td>\n",
              "      <td>RENT</td>\n",
              "      <td>24000.0</td>\n",
              "      <td>Verified</td>\n",
              "      <td>Dec-11</td>\n",
              "      <td>Fully Paid</td>\n",
              "      <td>False</td>\n",
              "      <td>https://lendingclub.com/browse/loanDetail.acti...</td>\n",
              "      <td>Borrower added on 12/22/11 &gt; I need to upgra...</td>\n",
              "      <td>credit_card</td>\n",
              "      <td>Computer</td>\n",
              "      <td>860xx</td>\n",
              "      <td>AZ</td>\n",
              "      <td>27.65</td>\n",
              "      <td>0.0</td>\n",
              "      <td>Jan-85</td>\n",
              "      <td>735.0</td>\n",
              "      <td>739.0</td>\n",
              "      <td>1.0</td>\n",
              "      <td>NaN</td>\n",
              "      <td>NaN</td>\n",
              "      <td>3.0</td>\n",
              "      <td>0.0</td>\n",
              "      <td>13648.0</td>\n",
              "      <td>0.837</td>\n",
              "      <td>9.0</td>\n",
              "      <td>False</td>\n",
              "      <td>0.00</td>\n",
              "      <td>0.00</td>\n",
              "      <td>...</td>\n",
              "      <td>NaN</td>\n",
              "      <td>NaN</td>\n",
              "      <td>NaN</td>\n",
              "      <td>NaN</td>\n",
              "      <td>NaN</td>\n",
              "      <td>NaN</td>\n",
              "      <td>NaN</td>\n",
              "      <td>False</td>\n",
              "      <td>0.0</td>\n",
              "      <td>NaN</td>\n",
              "      <td>NaN</td>\n",
              "      <td>NaN</td>\n",
              "      <td>NaN</td>\n",
              "      <td>NaN</td>\n",
              "      <td>NaN</td>\n",
              "      <td>NaN</td>\n",
              "      <td>NaN</td>\n",
              "      <td>NaN</td>\n",
              "      <td>NaN</td>\n",
              "      <td>NaN</td>\n",
              "      <td>NaN</td>\n",
              "      <td>NaN</td>\n",
              "      <td>NaN</td>\n",
              "      <td>NaN</td>\n",
              "      <td>NaN</td>\n",
              "      <td>NaN</td>\n",
              "      <td>NaN</td>\n",
              "      <td>NaN</td>\n",
              "      <td>NaN</td>\n",
              "      <td>NaN</td>\n",
              "      <td>NaN</td>\n",
              "      <td>NaN</td>\n",
              "      <td>NaN</td>\n",
              "      <td>NaN</td>\n",
              "      <td>0.0</td>\n",
              "      <td>False</td>\n",
              "      <td>NaN</td>\n",
              "      <td>NaN</td>\n",
              "      <td>NaN</td>\n",
              "      <td>NaN</td>\n",
              "    </tr>\n",
              "    <tr>\n",
              "      <th>1</th>\n",
              "      <td>1077430</td>\n",
              "      <td>1314167.0</td>\n",
              "      <td>2500.0</td>\n",
              "      <td>2500.0</td>\n",
              "      <td>2500.0</td>\n",
              "      <td>60 months</td>\n",
              "      <td>15.27%</td>\n",
              "      <td>59.83</td>\n",
              "      <td>C</td>\n",
              "      <td>C4</td>\n",
              "      <td>Ryder</td>\n",
              "      <td>&lt; 1 year</td>\n",
              "      <td>RENT</td>\n",
              "      <td>30000.0</td>\n",
              "      <td>Source Verified</td>\n",
              "      <td>Dec-11</td>\n",
              "      <td>Charged Off</td>\n",
              "      <td>False</td>\n",
              "      <td>https://lendingclub.com/browse/loanDetail.acti...</td>\n",
              "      <td>Borrower added on 12/22/11 &gt; I plan to use t...</td>\n",
              "      <td>car</td>\n",
              "      <td>bike</td>\n",
              "      <td>309xx</td>\n",
              "      <td>GA</td>\n",
              "      <td>1.00</td>\n",
              "      <td>0.0</td>\n",
              "      <td>Apr-99</td>\n",
              "      <td>740.0</td>\n",
              "      <td>744.0</td>\n",
              "      <td>5.0</td>\n",
              "      <td>NaN</td>\n",
              "      <td>NaN</td>\n",
              "      <td>3.0</td>\n",
              "      <td>0.0</td>\n",
              "      <td>1687.0</td>\n",
              "      <td>0.094</td>\n",
              "      <td>4.0</td>\n",
              "      <td>False</td>\n",
              "      <td>0.00</td>\n",
              "      <td>0.00</td>\n",
              "      <td>...</td>\n",
              "      <td>NaN</td>\n",
              "      <td>NaN</td>\n",
              "      <td>NaN</td>\n",
              "      <td>NaN</td>\n",
              "      <td>NaN</td>\n",
              "      <td>NaN</td>\n",
              "      <td>NaN</td>\n",
              "      <td>False</td>\n",
              "      <td>0.0</td>\n",
              "      <td>NaN</td>\n",
              "      <td>NaN</td>\n",
              "      <td>NaN</td>\n",
              "      <td>NaN</td>\n",
              "      <td>NaN</td>\n",
              "      <td>NaN</td>\n",
              "      <td>NaN</td>\n",
              "      <td>NaN</td>\n",
              "      <td>NaN</td>\n",
              "      <td>NaN</td>\n",
              "      <td>NaN</td>\n",
              "      <td>NaN</td>\n",
              "      <td>NaN</td>\n",
              "      <td>NaN</td>\n",
              "      <td>NaN</td>\n",
              "      <td>NaN</td>\n",
              "      <td>NaN</td>\n",
              "      <td>NaN</td>\n",
              "      <td>NaN</td>\n",
              "      <td>NaN</td>\n",
              "      <td>NaN</td>\n",
              "      <td>NaN</td>\n",
              "      <td>NaN</td>\n",
              "      <td>NaN</td>\n",
              "      <td>NaN</td>\n",
              "      <td>0.0</td>\n",
              "      <td>False</td>\n",
              "      <td>NaN</td>\n",
              "      <td>NaN</td>\n",
              "      <td>NaN</td>\n",
              "      <td>NaN</td>\n",
              "    </tr>\n",
              "    <tr>\n",
              "      <th>2</th>\n",
              "      <td>1077175</td>\n",
              "      <td>1313524.0</td>\n",
              "      <td>2400.0</td>\n",
              "      <td>2400.0</td>\n",
              "      <td>2400.0</td>\n",
              "      <td>36 months</td>\n",
              "      <td>15.96%</td>\n",
              "      <td>84.33</td>\n",
              "      <td>C</td>\n",
              "      <td>C5</td>\n",
              "      <td>NaN</td>\n",
              "      <td>10+ years</td>\n",
              "      <td>RENT</td>\n",
              "      <td>12252.0</td>\n",
              "      <td>Not Verified</td>\n",
              "      <td>Dec-11</td>\n",
              "      <td>Fully Paid</td>\n",
              "      <td>False</td>\n",
              "      <td>https://lendingclub.com/browse/loanDetail.acti...</td>\n",
              "      <td>NaN</td>\n",
              "      <td>small_business</td>\n",
              "      <td>real estate business</td>\n",
              "      <td>606xx</td>\n",
              "      <td>IL</td>\n",
              "      <td>8.72</td>\n",
              "      <td>0.0</td>\n",
              "      <td>Nov-01</td>\n",
              "      <td>735.0</td>\n",
              "      <td>739.0</td>\n",
              "      <td>2.0</td>\n",
              "      <td>NaN</td>\n",
              "      <td>NaN</td>\n",
              "      <td>2.0</td>\n",
              "      <td>0.0</td>\n",
              "      <td>2956.0</td>\n",
              "      <td>0.985</td>\n",
              "      <td>10.0</td>\n",
              "      <td>False</td>\n",
              "      <td>0.00</td>\n",
              "      <td>0.00</td>\n",
              "      <td>...</td>\n",
              "      <td>NaN</td>\n",
              "      <td>NaN</td>\n",
              "      <td>NaN</td>\n",
              "      <td>NaN</td>\n",
              "      <td>NaN</td>\n",
              "      <td>NaN</td>\n",
              "      <td>NaN</td>\n",
              "      <td>False</td>\n",
              "      <td>0.0</td>\n",
              "      <td>NaN</td>\n",
              "      <td>NaN</td>\n",
              "      <td>NaN</td>\n",
              "      <td>NaN</td>\n",
              "      <td>NaN</td>\n",
              "      <td>NaN</td>\n",
              "      <td>NaN</td>\n",
              "      <td>NaN</td>\n",
              "      <td>NaN</td>\n",
              "      <td>NaN</td>\n",
              "      <td>NaN</td>\n",
              "      <td>NaN</td>\n",
              "      <td>NaN</td>\n",
              "      <td>NaN</td>\n",
              "      <td>NaN</td>\n",
              "      <td>NaN</td>\n",
              "      <td>NaN</td>\n",
              "      <td>NaN</td>\n",
              "      <td>NaN</td>\n",
              "      <td>NaN</td>\n",
              "      <td>NaN</td>\n",
              "      <td>NaN</td>\n",
              "      <td>NaN</td>\n",
              "      <td>NaN</td>\n",
              "      <td>NaN</td>\n",
              "      <td>0.0</td>\n",
              "      <td>False</td>\n",
              "      <td>NaN</td>\n",
              "      <td>NaN</td>\n",
              "      <td>NaN</td>\n",
              "      <td>NaN</td>\n",
              "    </tr>\n",
              "    <tr>\n",
              "      <th>3</th>\n",
              "      <td>1076863</td>\n",
              "      <td>1277178.0</td>\n",
              "      <td>10000.0</td>\n",
              "      <td>10000.0</td>\n",
              "      <td>10000.0</td>\n",
              "      <td>36 months</td>\n",
              "      <td>13.49%</td>\n",
              "      <td>339.31</td>\n",
              "      <td>C</td>\n",
              "      <td>C1</td>\n",
              "      <td>AIR RESOURCES BOARD</td>\n",
              "      <td>10+ years</td>\n",
              "      <td>RENT</td>\n",
              "      <td>49200.0</td>\n",
              "      <td>Source Verified</td>\n",
              "      <td>Dec-11</td>\n",
              "      <td>Fully Paid</td>\n",
              "      <td>False</td>\n",
              "      <td>https://lendingclub.com/browse/loanDetail.acti...</td>\n",
              "      <td>Borrower added on 12/21/11 &gt; to pay for prop...</td>\n",
              "      <td>other</td>\n",
              "      <td>personel</td>\n",
              "      <td>917xx</td>\n",
              "      <td>CA</td>\n",
              "      <td>20.00</td>\n",
              "      <td>0.0</td>\n",
              "      <td>Feb-96</td>\n",
              "      <td>690.0</td>\n",
              "      <td>694.0</td>\n",
              "      <td>1.0</td>\n",
              "      <td>35.0</td>\n",
              "      <td>NaN</td>\n",
              "      <td>10.0</td>\n",
              "      <td>0.0</td>\n",
              "      <td>5598.0</td>\n",
              "      <td>0.210</td>\n",
              "      <td>37.0</td>\n",
              "      <td>False</td>\n",
              "      <td>0.00</td>\n",
              "      <td>0.00</td>\n",
              "      <td>...</td>\n",
              "      <td>NaN</td>\n",
              "      <td>NaN</td>\n",
              "      <td>NaN</td>\n",
              "      <td>NaN</td>\n",
              "      <td>NaN</td>\n",
              "      <td>NaN</td>\n",
              "      <td>NaN</td>\n",
              "      <td>False</td>\n",
              "      <td>0.0</td>\n",
              "      <td>NaN</td>\n",
              "      <td>NaN</td>\n",
              "      <td>NaN</td>\n",
              "      <td>NaN</td>\n",
              "      <td>NaN</td>\n",
              "      <td>NaN</td>\n",
              "      <td>NaN</td>\n",
              "      <td>NaN</td>\n",
              "      <td>NaN</td>\n",
              "      <td>NaN</td>\n",
              "      <td>NaN</td>\n",
              "      <td>NaN</td>\n",
              "      <td>NaN</td>\n",
              "      <td>NaN</td>\n",
              "      <td>NaN</td>\n",
              "      <td>NaN</td>\n",
              "      <td>NaN</td>\n",
              "      <td>NaN</td>\n",
              "      <td>NaN</td>\n",
              "      <td>NaN</td>\n",
              "      <td>NaN</td>\n",
              "      <td>NaN</td>\n",
              "      <td>NaN</td>\n",
              "      <td>NaN</td>\n",
              "      <td>NaN</td>\n",
              "      <td>0.0</td>\n",
              "      <td>False</td>\n",
              "      <td>NaN</td>\n",
              "      <td>NaN</td>\n",
              "      <td>NaN</td>\n",
              "      <td>NaN</td>\n",
              "    </tr>\n",
              "    <tr>\n",
              "      <th>4</th>\n",
              "      <td>1075358</td>\n",
              "      <td>1311748.0</td>\n",
              "      <td>3000.0</td>\n",
              "      <td>3000.0</td>\n",
              "      <td>3000.0</td>\n",
              "      <td>60 months</td>\n",
              "      <td>12.69%</td>\n",
              "      <td>67.79</td>\n",
              "      <td>B</td>\n",
              "      <td>B5</td>\n",
              "      <td>University Medical Group</td>\n",
              "      <td>1 year</td>\n",
              "      <td>RENT</td>\n",
              "      <td>80000.0</td>\n",
              "      <td>Source Verified</td>\n",
              "      <td>Dec-11</td>\n",
              "      <td>Current</td>\n",
              "      <td>False</td>\n",
              "      <td>https://lendingclub.com/browse/loanDetail.acti...</td>\n",
              "      <td>Borrower added on 12/21/11 &gt; I plan on combi...</td>\n",
              "      <td>other</td>\n",
              "      <td>Personal</td>\n",
              "      <td>972xx</td>\n",
              "      <td>OR</td>\n",
              "      <td>17.94</td>\n",
              "      <td>0.0</td>\n",
              "      <td>Jan-96</td>\n",
              "      <td>695.0</td>\n",
              "      <td>699.0</td>\n",
              "      <td>0.0</td>\n",
              "      <td>38.0</td>\n",
              "      <td>NaN</td>\n",
              "      <td>15.0</td>\n",
              "      <td>0.0</td>\n",
              "      <td>27783.0</td>\n",
              "      <td>0.539</td>\n",
              "      <td>38.0</td>\n",
              "      <td>False</td>\n",
              "      <td>270.78</td>\n",
              "      <td>270.78</td>\n",
              "      <td>...</td>\n",
              "      <td>NaN</td>\n",
              "      <td>NaN</td>\n",
              "      <td>NaN</td>\n",
              "      <td>NaN</td>\n",
              "      <td>NaN</td>\n",
              "      <td>NaN</td>\n",
              "      <td>NaN</td>\n",
              "      <td>False</td>\n",
              "      <td>0.0</td>\n",
              "      <td>NaN</td>\n",
              "      <td>NaN</td>\n",
              "      <td>NaN</td>\n",
              "      <td>NaN</td>\n",
              "      <td>NaN</td>\n",
              "      <td>NaN</td>\n",
              "      <td>NaN</td>\n",
              "      <td>NaN</td>\n",
              "      <td>NaN</td>\n",
              "      <td>NaN</td>\n",
              "      <td>NaN</td>\n",
              "      <td>NaN</td>\n",
              "      <td>NaN</td>\n",
              "      <td>NaN</td>\n",
              "      <td>NaN</td>\n",
              "      <td>NaN</td>\n",
              "      <td>NaN</td>\n",
              "      <td>NaN</td>\n",
              "      <td>NaN</td>\n",
              "      <td>NaN</td>\n",
              "      <td>NaN</td>\n",
              "      <td>NaN</td>\n",
              "      <td>NaN</td>\n",
              "      <td>NaN</td>\n",
              "      <td>NaN</td>\n",
              "      <td>0.0</td>\n",
              "      <td>False</td>\n",
              "      <td>NaN</td>\n",
              "      <td>NaN</td>\n",
              "      <td>NaN</td>\n",
              "      <td>NaN</td>\n",
              "    </tr>\n",
              "    <tr>\n",
              "      <th>...</th>\n",
              "      <td>...</td>\n",
              "      <td>...</td>\n",
              "      <td>...</td>\n",
              "      <td>...</td>\n",
              "      <td>...</td>\n",
              "      <td>...</td>\n",
              "      <td>...</td>\n",
              "      <td>...</td>\n",
              "      <td>...</td>\n",
              "      <td>...</td>\n",
              "      <td>...</td>\n",
              "      <td>...</td>\n",
              "      <td>...</td>\n",
              "      <td>...</td>\n",
              "      <td>...</td>\n",
              "      <td>...</td>\n",
              "      <td>...</td>\n",
              "      <td>...</td>\n",
              "      <td>...</td>\n",
              "      <td>...</td>\n",
              "      <td>...</td>\n",
              "      <td>...</td>\n",
              "      <td>...</td>\n",
              "      <td>...</td>\n",
              "      <td>...</td>\n",
              "      <td>...</td>\n",
              "      <td>...</td>\n",
              "      <td>...</td>\n",
              "      <td>...</td>\n",
              "      <td>...</td>\n",
              "      <td>...</td>\n",
              "      <td>...</td>\n",
              "      <td>...</td>\n",
              "      <td>...</td>\n",
              "      <td>...</td>\n",
              "      <td>...</td>\n",
              "      <td>...</td>\n",
              "      <td>...</td>\n",
              "      <td>...</td>\n",
              "      <td>...</td>\n",
              "      <td>...</td>\n",
              "      <td>...</td>\n",
              "      <td>...</td>\n",
              "      <td>...</td>\n",
              "      <td>...</td>\n",
              "      <td>...</td>\n",
              "      <td>...</td>\n",
              "      <td>...</td>\n",
              "      <td>...</td>\n",
              "      <td>...</td>\n",
              "      <td>...</td>\n",
              "      <td>...</td>\n",
              "      <td>...</td>\n",
              "      <td>...</td>\n",
              "      <td>...</td>\n",
              "      <td>...</td>\n",
              "      <td>...</td>\n",
              "      <td>...</td>\n",
              "      <td>...</td>\n",
              "      <td>...</td>\n",
              "      <td>...</td>\n",
              "      <td>...</td>\n",
              "      <td>...</td>\n",
              "      <td>...</td>\n",
              "      <td>...</td>\n",
              "      <td>...</td>\n",
              "      <td>...</td>\n",
              "      <td>...</td>\n",
              "      <td>...</td>\n",
              "      <td>...</td>\n",
              "      <td>...</td>\n",
              "      <td>...</td>\n",
              "      <td>...</td>\n",
              "      <td>...</td>\n",
              "      <td>...</td>\n",
              "      <td>...</td>\n",
              "      <td>...</td>\n",
              "      <td>...</td>\n",
              "      <td>...</td>\n",
              "      <td>...</td>\n",
              "      <td>...</td>\n",
              "    </tr>\n",
              "    <tr>\n",
              "      <th>42548</th>\n",
              "      <td>505136</td>\n",
              "      <td>650770.0</td>\n",
              "      <td>20000.0</td>\n",
              "      <td>20000.0</td>\n",
              "      <td>19500.0</td>\n",
              "      <td>36 months</td>\n",
              "      <td>9.88%</td>\n",
              "      <td>644.21</td>\n",
              "      <td>B</td>\n",
              "      <td>B1</td>\n",
              "      <td>Columbia University</td>\n",
              "      <td>&lt; 1 year</td>\n",
              "      <td>RENT</td>\n",
              "      <td>55000.0</td>\n",
              "      <td>Not Verified</td>\n",
              "      <td>May-10</td>\n",
              "      <td>Fully Paid</td>\n",
              "      <td>False</td>\n",
              "      <td>https://lendingclub.com/browse/loanDetail.acti...</td>\n",
              "      <td>Borrower added on 04/23/10 &gt; Purchase of a C...</td>\n",
              "      <td>major_purchase</td>\n",
              "      <td>Coop</td>\n",
              "      <td>100xx</td>\n",
              "      <td>NY</td>\n",
              "      <td>3.34</td>\n",
              "      <td>0.0</td>\n",
              "      <td>Aug-95</td>\n",
              "      <td>800.0</td>\n",
              "      <td>804.0</td>\n",
              "      <td>2.0</td>\n",
              "      <td>NaN</td>\n",
              "      <td>NaN</td>\n",
              "      <td>15.0</td>\n",
              "      <td>0.0</td>\n",
              "      <td>4134.0</td>\n",
              "      <td>0.082</td>\n",
              "      <td>36.0</td>\n",
              "      <td>False</td>\n",
              "      <td>0.00</td>\n",
              "      <td>0.00</td>\n",
              "      <td>...</td>\n",
              "      <td>NaN</td>\n",
              "      <td>NaN</td>\n",
              "      <td>NaN</td>\n",
              "      <td>NaN</td>\n",
              "      <td>NaN</td>\n",
              "      <td>NaN</td>\n",
              "      <td>NaN</td>\n",
              "      <td>False</td>\n",
              "      <td>0.0</td>\n",
              "      <td>NaN</td>\n",
              "      <td>NaN</td>\n",
              "      <td>NaN</td>\n",
              "      <td>NaN</td>\n",
              "      <td>NaN</td>\n",
              "      <td>NaN</td>\n",
              "      <td>NaN</td>\n",
              "      <td>NaN</td>\n",
              "      <td>NaN</td>\n",
              "      <td>NaN</td>\n",
              "      <td>NaN</td>\n",
              "      <td>NaN</td>\n",
              "      <td>NaN</td>\n",
              "      <td>NaN</td>\n",
              "      <td>NaN</td>\n",
              "      <td>NaN</td>\n",
              "      <td>NaN</td>\n",
              "      <td>NaN</td>\n",
              "      <td>NaN</td>\n",
              "      <td>NaN</td>\n",
              "      <td>NaN</td>\n",
              "      <td>NaN</td>\n",
              "      <td>NaN</td>\n",
              "      <td>NaN</td>\n",
              "      <td>NaN</td>\n",
              "      <td>0.0</td>\n",
              "      <td>False</td>\n",
              "      <td>NaN</td>\n",
              "      <td>NaN</td>\n",
              "      <td>NaN</td>\n",
              "      <td>NaN</td>\n",
              "    </tr>\n",
              "    <tr>\n",
              "      <th>42549</th>\n",
              "      <td>473367</td>\n",
              "      <td>598172.0</td>\n",
              "      <td>1750.0</td>\n",
              "      <td>1750.0</td>\n",
              "      <td>1750.0</td>\n",
              "      <td>36 months</td>\n",
              "      <td>11.83%</td>\n",
              "      <td>57.99</td>\n",
              "      <td>B</td>\n",
              "      <td>B3</td>\n",
              "      <td>Yavapai County</td>\n",
              "      <td>3 years</td>\n",
              "      <td>MORTGAGE</td>\n",
              "      <td>40000.0</td>\n",
              "      <td>Not Verified</td>\n",
              "      <td>Jan-10</td>\n",
              "      <td>Fully Paid</td>\n",
              "      <td>False</td>\n",
              "      <td>https://lendingclub.com/browse/loanDetail.acti...</td>\n",
              "      <td>Borrower added on 12/31/09 &gt; Thanks for the ...</td>\n",
              "      <td>debt_consolidation</td>\n",
              "      <td>New Start</td>\n",
              "      <td>863xx</td>\n",
              "      <td>AZ</td>\n",
              "      <td>22.44</td>\n",
              "      <td>0.0</td>\n",
              "      <td>Oct-92</td>\n",
              "      <td>705.0</td>\n",
              "      <td>709.0</td>\n",
              "      <td>1.0</td>\n",
              "      <td>NaN</td>\n",
              "      <td>NaN</td>\n",
              "      <td>11.0</td>\n",
              "      <td>0.0</td>\n",
              "      <td>7757.0</td>\n",
              "      <td>0.930</td>\n",
              "      <td>24.0</td>\n",
              "      <td>False</td>\n",
              "      <td>0.00</td>\n",
              "      <td>0.00</td>\n",
              "      <td>...</td>\n",
              "      <td>NaN</td>\n",
              "      <td>NaN</td>\n",
              "      <td>NaN</td>\n",
              "      <td>NaN</td>\n",
              "      <td>NaN</td>\n",
              "      <td>NaN</td>\n",
              "      <td>NaN</td>\n",
              "      <td>False</td>\n",
              "      <td>0.0</td>\n",
              "      <td>NaN</td>\n",
              "      <td>NaN</td>\n",
              "      <td>NaN</td>\n",
              "      <td>NaN</td>\n",
              "      <td>NaN</td>\n",
              "      <td>NaN</td>\n",
              "      <td>NaN</td>\n",
              "      <td>NaN</td>\n",
              "      <td>NaN</td>\n",
              "      <td>NaN</td>\n",
              "      <td>NaN</td>\n",
              "      <td>NaN</td>\n",
              "      <td>NaN</td>\n",
              "      <td>NaN</td>\n",
              "      <td>NaN</td>\n",
              "      <td>NaN</td>\n",
              "      <td>NaN</td>\n",
              "      <td>NaN</td>\n",
              "      <td>NaN</td>\n",
              "      <td>NaN</td>\n",
              "      <td>NaN</td>\n",
              "      <td>NaN</td>\n",
              "      <td>NaN</td>\n",
              "      <td>NaN</td>\n",
              "      <td>NaN</td>\n",
              "      <td>0.0</td>\n",
              "      <td>False</td>\n",
              "      <td>NaN</td>\n",
              "      <td>NaN</td>\n",
              "      <td>NaN</td>\n",
              "      <td>NaN</td>\n",
              "    </tr>\n",
              "    <tr>\n",
              "      <th>42550</th>\n",
              "      <td>70686</td>\n",
              "      <td>70681.0</td>\n",
              "      <td>5000.0</td>\n",
              "      <td>5000.0</td>\n",
              "      <td>0.0</td>\n",
              "      <td>36 months</td>\n",
              "      <td>7.75%</td>\n",
              "      <td>156.11</td>\n",
              "      <td>A</td>\n",
              "      <td>A3</td>\n",
              "      <td>Homemaker</td>\n",
              "      <td>10+ years</td>\n",
              "      <td>MORTGAGE</td>\n",
              "      <td>70000.0</td>\n",
              "      <td>Not Verified</td>\n",
              "      <td>Jun-07</td>\n",
              "      <td>Does not meet the credit policy. Status:Fully ...</td>\n",
              "      <td>False</td>\n",
              "      <td>https://lendingclub.com/browse/loanDetail.acti...</td>\n",
              "      <td>I need to make several improvements around the...</td>\n",
              "      <td>other</td>\n",
              "      <td>Aroundthehouse</td>\n",
              "      <td>068xx</td>\n",
              "      <td>CT</td>\n",
              "      <td>8.81</td>\n",
              "      <td>NaN</td>\n",
              "      <td>NaN</td>\n",
              "      <td>770.0</td>\n",
              "      <td>774.0</td>\n",
              "      <td>NaN</td>\n",
              "      <td>NaN</td>\n",
              "      <td>NaN</td>\n",
              "      <td>NaN</td>\n",
              "      <td>NaN</td>\n",
              "      <td>0.0</td>\n",
              "      <td>NaN</td>\n",
              "      <td>NaN</td>\n",
              "      <td>False</td>\n",
              "      <td>0.00</td>\n",
              "      <td>0.00</td>\n",
              "      <td>...</td>\n",
              "      <td>NaN</td>\n",
              "      <td>NaN</td>\n",
              "      <td>NaN</td>\n",
              "      <td>NaN</td>\n",
              "      <td>NaN</td>\n",
              "      <td>NaN</td>\n",
              "      <td>NaN</td>\n",
              "      <td>NaN</td>\n",
              "      <td>NaN</td>\n",
              "      <td>NaN</td>\n",
              "      <td>NaN</td>\n",
              "      <td>NaN</td>\n",
              "      <td>NaN</td>\n",
              "      <td>NaN</td>\n",
              "      <td>NaN</td>\n",
              "      <td>NaN</td>\n",
              "      <td>NaN</td>\n",
              "      <td>NaN</td>\n",
              "      <td>NaN</td>\n",
              "      <td>NaN</td>\n",
              "      <td>NaN</td>\n",
              "      <td>NaN</td>\n",
              "      <td>NaN</td>\n",
              "      <td>NaN</td>\n",
              "      <td>NaN</td>\n",
              "      <td>NaN</td>\n",
              "      <td>NaN</td>\n",
              "      <td>NaN</td>\n",
              "      <td>NaN</td>\n",
              "      <td>NaN</td>\n",
              "      <td>NaN</td>\n",
              "      <td>NaN</td>\n",
              "      <td>NaN</td>\n",
              "      <td>NaN</td>\n",
              "      <td>NaN</td>\n",
              "      <td>NaN</td>\n",
              "      <td>NaN</td>\n",
              "      <td>NaN</td>\n",
              "      <td>NaN</td>\n",
              "      <td>NaN</td>\n",
              "    </tr>\n",
              "    <tr>\n",
              "      <th>42551</th>\n",
              "      <td>Total amount funded in policy code 1: 460296150</td>\n",
              "      <td>NaN</td>\n",
              "      <td>NaN</td>\n",
              "      <td>NaN</td>\n",
              "      <td>NaN</td>\n",
              "      <td>NaN</td>\n",
              "      <td>NaN</td>\n",
              "      <td>NaN</td>\n",
              "      <td>NaN</td>\n",
              "      <td>NaN</td>\n",
              "      <td>NaN</td>\n",
              "      <td>NaN</td>\n",
              "      <td>NaN</td>\n",
              "      <td>NaN</td>\n",
              "      <td>NaN</td>\n",
              "      <td>NaN</td>\n",
              "      <td>NaN</td>\n",
              "      <td>NaN</td>\n",
              "      <td>NaN</td>\n",
              "      <td>NaN</td>\n",
              "      <td>NaN</td>\n",
              "      <td>NaN</td>\n",
              "      <td>NaN</td>\n",
              "      <td>NaN</td>\n",
              "      <td>NaN</td>\n",
              "      <td>NaN</td>\n",
              "      <td>NaN</td>\n",
              "      <td>NaN</td>\n",
              "      <td>NaN</td>\n",
              "      <td>NaN</td>\n",
              "      <td>NaN</td>\n",
              "      <td>NaN</td>\n",
              "      <td>NaN</td>\n",
              "      <td>NaN</td>\n",
              "      <td>NaN</td>\n",
              "      <td>NaN</td>\n",
              "      <td>NaN</td>\n",
              "      <td>NaN</td>\n",
              "      <td>NaN</td>\n",
              "      <td>NaN</td>\n",
              "      <td>...</td>\n",
              "      <td>NaN</td>\n",
              "      <td>NaN</td>\n",
              "      <td>NaN</td>\n",
              "      <td>NaN</td>\n",
              "      <td>NaN</td>\n",
              "      <td>NaN</td>\n",
              "      <td>NaN</td>\n",
              "      <td>NaN</td>\n",
              "      <td>NaN</td>\n",
              "      <td>NaN</td>\n",
              "      <td>NaN</td>\n",
              "      <td>NaN</td>\n",
              "      <td>NaN</td>\n",
              "      <td>NaN</td>\n",
              "      <td>NaN</td>\n",
              "      <td>NaN</td>\n",
              "      <td>NaN</td>\n",
              "      <td>NaN</td>\n",
              "      <td>NaN</td>\n",
              "      <td>NaN</td>\n",
              "      <td>NaN</td>\n",
              "      <td>NaN</td>\n",
              "      <td>NaN</td>\n",
              "      <td>NaN</td>\n",
              "      <td>NaN</td>\n",
              "      <td>NaN</td>\n",
              "      <td>NaN</td>\n",
              "      <td>NaN</td>\n",
              "      <td>NaN</td>\n",
              "      <td>NaN</td>\n",
              "      <td>NaN</td>\n",
              "      <td>NaN</td>\n",
              "      <td>NaN</td>\n",
              "      <td>NaN</td>\n",
              "      <td>NaN</td>\n",
              "      <td>NaN</td>\n",
              "      <td>NaN</td>\n",
              "      <td>NaN</td>\n",
              "      <td>NaN</td>\n",
              "      <td>NaN</td>\n",
              "    </tr>\n",
              "    <tr>\n",
              "      <th>42552</th>\n",
              "      <td>Total amount funded in policy code 2: 0</td>\n",
              "      <td>NaN</td>\n",
              "      <td>NaN</td>\n",
              "      <td>NaN</td>\n",
              "      <td>NaN</td>\n",
              "      <td>NaN</td>\n",
              "      <td>NaN</td>\n",
              "      <td>NaN</td>\n",
              "      <td>NaN</td>\n",
              "      <td>NaN</td>\n",
              "      <td>NaN</td>\n",
              "      <td>NaN</td>\n",
              "      <td>NaN</td>\n",
              "      <td>NaN</td>\n",
              "      <td>NaN</td>\n",
              "      <td>NaN</td>\n",
              "      <td>NaN</td>\n",
              "      <td>NaN</td>\n",
              "      <td>NaN</td>\n",
              "      <td>NaN</td>\n",
              "      <td>NaN</td>\n",
              "      <td>NaN</td>\n",
              "      <td>NaN</td>\n",
              "      <td>NaN</td>\n",
              "      <td>NaN</td>\n",
              "      <td>NaN</td>\n",
              "      <td>NaN</td>\n",
              "      <td>NaN</td>\n",
              "      <td>NaN</td>\n",
              "      <td>NaN</td>\n",
              "      <td>NaN</td>\n",
              "      <td>NaN</td>\n",
              "      <td>NaN</td>\n",
              "      <td>NaN</td>\n",
              "      <td>NaN</td>\n",
              "      <td>NaN</td>\n",
              "      <td>NaN</td>\n",
              "      <td>NaN</td>\n",
              "      <td>NaN</td>\n",
              "      <td>NaN</td>\n",
              "      <td>...</td>\n",
              "      <td>NaN</td>\n",
              "      <td>NaN</td>\n",
              "      <td>NaN</td>\n",
              "      <td>NaN</td>\n",
              "      <td>NaN</td>\n",
              "      <td>NaN</td>\n",
              "      <td>NaN</td>\n",
              "      <td>NaN</td>\n",
              "      <td>NaN</td>\n",
              "      <td>NaN</td>\n",
              "      <td>NaN</td>\n",
              "      <td>NaN</td>\n",
              "      <td>NaN</td>\n",
              "      <td>NaN</td>\n",
              "      <td>NaN</td>\n",
              "      <td>NaN</td>\n",
              "      <td>NaN</td>\n",
              "      <td>NaN</td>\n",
              "      <td>NaN</td>\n",
              "      <td>NaN</td>\n",
              "      <td>NaN</td>\n",
              "      <td>NaN</td>\n",
              "      <td>NaN</td>\n",
              "      <td>NaN</td>\n",
              "      <td>NaN</td>\n",
              "      <td>NaN</td>\n",
              "      <td>NaN</td>\n",
              "      <td>NaN</td>\n",
              "      <td>NaN</td>\n",
              "      <td>NaN</td>\n",
              "      <td>NaN</td>\n",
              "      <td>NaN</td>\n",
              "      <td>NaN</td>\n",
              "      <td>NaN</td>\n",
              "      <td>NaN</td>\n",
              "      <td>NaN</td>\n",
              "      <td>NaN</td>\n",
              "      <td>NaN</td>\n",
              "      <td>NaN</td>\n",
              "      <td>NaN</td>\n",
              "    </tr>\n",
              "  </tbody>\n",
              "</table>\n",
              "<p>42553 rows × 115 columns</p>\n",
              "</div>"
            ],
            "text/plain": [
              "                                                    id  ...  total_il_high_credit_limit\n",
              "0                                              1077501  ...                         NaN\n",
              "1                                              1077430  ...                         NaN\n",
              "2                                              1077175  ...                         NaN\n",
              "3                                              1076863  ...                         NaN\n",
              "4                                              1075358  ...                         NaN\n",
              "...                                                ...  ...                         ...\n",
              "42548                                           505136  ...                         NaN\n",
              "42549                                           473367  ...                         NaN\n",
              "42550                                            70686  ...                         NaN\n",
              "42551  Total amount funded in policy code 1: 460296150  ...                         NaN\n",
              "42552          Total amount funded in policy code 2: 0  ...                         NaN\n",
              "\n",
              "[42553 rows x 115 columns]"
            ]
          },
          "metadata": {
            "tags": []
          },
          "execution_count": 4
        }
      ]
    },
    {
      "cell_type": "markdown",
      "metadata": {
        "id": "xVe5-qehKIjX"
      },
      "source": [
        "### **Identify and Handle Missing values, Null Values and Typos**\n",
        "\n",
        "First, we drop rows and columns with all values as null/missing."
      ]
    },
    {
      "cell_type": "code",
      "metadata": {
        "id": "uSlJUV78KIjZ",
        "colab": {
          "base_uri": "https://localhost:8080/"
        },
        "outputId": "c74a562b-476e-4093-c495-c26f453f39c5"
      },
      "source": [
        "#dimensions before preprocessing\n",
        "data.shape"
      ],
      "execution_count": null,
      "outputs": [
        {
          "output_type": "execute_result",
          "data": {
            "text/plain": [
              "(42553, 115)"
            ]
          },
          "metadata": {
            "tags": []
          },
          "execution_count": 5
        }
      ]
    },
    {
      "cell_type": "markdown",
      "metadata": {
        "id": "l9xMJo9ibufA"
      },
      "source": [
        "Dimensions after removing the rows with all null/missing"
      ]
    },
    {
      "cell_type": "code",
      "metadata": {
        "id": "sbl3f_6eKIjl",
        "colab": {
          "base_uri": "https://localhost:8080/"
        },
        "outputId": "8d14fd8a-5f6f-4062-e45e-8216766faa42"
      },
      "source": [
        "#rows\n",
        "\n",
        "data.dropna(axis=0, how = 'all', inplace = True)\n",
        "\n",
        "#dimensions after removing the rows with all null/missing\n",
        "data.shape"
      ],
      "execution_count": null,
      "outputs": [
        {
          "output_type": "execute_result",
          "data": {
            "text/plain": [
              "(42553, 115)"
            ]
          },
          "metadata": {
            "tags": []
          },
          "execution_count": 6
        }
      ]
    },
    {
      "cell_type": "markdown",
      "metadata": {
        "id": "fVUnlMAvbqxx"
      },
      "source": [
        "Dimensions after removing the columns with all null/missing"
      ]
    },
    {
      "cell_type": "code",
      "metadata": {
        "id": "8xjvjqt-KIj2",
        "colab": {
          "base_uri": "https://localhost:8080/"
        },
        "outputId": "4119b6ca-ceda-46a7-a0b6-8347991112d8"
      },
      "source": [
        "#columns\n",
        "\n",
        "data.dropna(axis=1, how = 'all', inplace = True)\n",
        "\n",
        "#dimensions after removing the columns with all null/missing\n",
        "data.shape"
      ],
      "execution_count": null,
      "outputs": [
        {
          "output_type": "execute_result",
          "data": {
            "text/plain": [
              "(42553, 61)"
            ]
          },
          "metadata": {
            "tags": []
          },
          "execution_count": 7
        }
      ]
    },
    {
      "cell_type": "markdown",
      "metadata": {
        "id": "MEH-MHX2KIkB"
      },
      "source": [
        "\n",
        "\n",
        "Remove the rows which has more than 50% of values as NULL/empty as they do not contribute to the result much"
      ]
    },
    {
      "cell_type": "code",
      "metadata": {
        "id": "NLo9MEURKIkD",
        "colab": {
          "base_uri": "https://localhost:8080/"
        },
        "outputId": "f05f9565-acc8-4cc1-b67b-5981e85c6553"
      },
      "source": [
        "\n",
        "data.dropna(axis=0, thresh = 0.5* data.isnull().sum(axis = 1), inplace = True)\n",
        "data.shape"
      ],
      "execution_count": null,
      "outputs": [
        {
          "output_type": "execute_result",
          "data": {
            "text/plain": [
              "(42550, 61)"
            ]
          },
          "metadata": {
            "tags": []
          },
          "execution_count": 8
        }
      ]
    },
    {
      "cell_type": "code",
      "metadata": {
        "id": "PRKKHZO8KIkJ",
        "colab": {
          "base_uri": "https://localhost:8080/"
        },
        "outputId": "0d15edb0-dd36-4391-d544-222dbca459d4"
      },
      "source": [
        "\n",
        "data.dropna(axis=1, thresh = 0.5 * data.isnull().sum(axis = 0) , inplace = True)\n",
        "data.shape"
      ],
      "execution_count": null,
      "outputs": [
        {
          "output_type": "execute_result",
          "data": {
            "text/plain": [
              "(42550, 59)"
            ]
          },
          "metadata": {
            "tags": []
          },
          "execution_count": 9
        }
      ]
    },
    {
      "cell_type": "code",
      "metadata": {
        "id": "06dcplzcKIkO",
        "colab": {
          "base_uri": "https://localhost:8080/",
          "height": 959
        },
        "outputId": "81ac152c-8883-44bf-d229-77a40bf69226"
      },
      "source": [
        "data\n"
      ],
      "execution_count": null,
      "outputs": [
        {
          "output_type": "execute_result",
          "data": {
            "text/html": [
              "<div>\n",
              "<style scoped>\n",
              "    .dataframe tbody tr th:only-of-type {\n",
              "        vertical-align: middle;\n",
              "    }\n",
              "\n",
              "    .dataframe tbody tr th {\n",
              "        vertical-align: top;\n",
              "    }\n",
              "\n",
              "    .dataframe thead th {\n",
              "        text-align: right;\n",
              "    }\n",
              "</style>\n",
              "<table border=\"1\" class=\"dataframe\">\n",
              "  <thead>\n",
              "    <tr style=\"text-align: right;\">\n",
              "      <th></th>\n",
              "      <th>id</th>\n",
              "      <th>member_id</th>\n",
              "      <th>loan_amnt</th>\n",
              "      <th>funded_amnt</th>\n",
              "      <th>funded_amnt_inv</th>\n",
              "      <th>term</th>\n",
              "      <th>int_rate</th>\n",
              "      <th>installment</th>\n",
              "      <th>grade</th>\n",
              "      <th>sub_grade</th>\n",
              "      <th>emp_title</th>\n",
              "      <th>emp_length</th>\n",
              "      <th>home_ownership</th>\n",
              "      <th>annual_inc</th>\n",
              "      <th>verification_status</th>\n",
              "      <th>issue_d</th>\n",
              "      <th>loan_status</th>\n",
              "      <th>pymnt_plan</th>\n",
              "      <th>url</th>\n",
              "      <th>desc</th>\n",
              "      <th>purpose</th>\n",
              "      <th>title</th>\n",
              "      <th>zip_code</th>\n",
              "      <th>addr_state</th>\n",
              "      <th>dti</th>\n",
              "      <th>delinq_2yrs</th>\n",
              "      <th>earliest_cr_line</th>\n",
              "      <th>fico_range_low</th>\n",
              "      <th>fico_range_high</th>\n",
              "      <th>inq_last_6mths</th>\n",
              "      <th>mths_since_last_delinq</th>\n",
              "      <th>open_acc</th>\n",
              "      <th>pub_rec</th>\n",
              "      <th>revol_bal</th>\n",
              "      <th>revol_util</th>\n",
              "      <th>total_acc</th>\n",
              "      <th>initial_list_status</th>\n",
              "      <th>out_prncp</th>\n",
              "      <th>out_prncp_inv</th>\n",
              "      <th>total_pymnt</th>\n",
              "      <th>total_pymnt_inv</th>\n",
              "      <th>total_rec_prncp</th>\n",
              "      <th>total_rec_int</th>\n",
              "      <th>total_rec_late_fee</th>\n",
              "      <th>recoveries</th>\n",
              "      <th>collection_recovery_fee</th>\n",
              "      <th>last_pymnt_d</th>\n",
              "      <th>last_pymnt_amnt</th>\n",
              "      <th>last_credit_pull_d</th>\n",
              "      <th>last_fico_range_high</th>\n",
              "      <th>last_fico_range_low</th>\n",
              "      <th>collections_12_mths_ex_med</th>\n",
              "      <th>policy_code</th>\n",
              "      <th>application_type</th>\n",
              "      <th>acc_now_delinq</th>\n",
              "      <th>chargeoff_within_12_mths</th>\n",
              "      <th>delinq_amnt</th>\n",
              "      <th>pub_rec_bankruptcies</th>\n",
              "      <th>tax_liens</th>\n",
              "    </tr>\n",
              "  </thead>\n",
              "  <tbody>\n",
              "    <tr>\n",
              "      <th>0</th>\n",
              "      <td>1077501</td>\n",
              "      <td>1296599.0</td>\n",
              "      <td>5000.0</td>\n",
              "      <td>5000.0</td>\n",
              "      <td>4975.00000</td>\n",
              "      <td>36 months</td>\n",
              "      <td>10.65%</td>\n",
              "      <td>162.87</td>\n",
              "      <td>B</td>\n",
              "      <td>B2</td>\n",
              "      <td>NaN</td>\n",
              "      <td>10+ years</td>\n",
              "      <td>RENT</td>\n",
              "      <td>24000.0</td>\n",
              "      <td>Verified</td>\n",
              "      <td>Dec-11</td>\n",
              "      <td>Fully Paid</td>\n",
              "      <td>False</td>\n",
              "      <td>https://lendingclub.com/browse/loanDetail.acti...</td>\n",
              "      <td>Borrower added on 12/22/11 &gt; I need to upgra...</td>\n",
              "      <td>credit_card</td>\n",
              "      <td>Computer</td>\n",
              "      <td>860xx</td>\n",
              "      <td>AZ</td>\n",
              "      <td>27.65</td>\n",
              "      <td>0.0</td>\n",
              "      <td>Jan-85</td>\n",
              "      <td>735.0</td>\n",
              "      <td>739.0</td>\n",
              "      <td>1.0</td>\n",
              "      <td>NaN</td>\n",
              "      <td>3.0</td>\n",
              "      <td>0.0</td>\n",
              "      <td>13648.0</td>\n",
              "      <td>0.837</td>\n",
              "      <td>9.0</td>\n",
              "      <td>False</td>\n",
              "      <td>0.00</td>\n",
              "      <td>0.00</td>\n",
              "      <td>5863.155187</td>\n",
              "      <td>5833.84</td>\n",
              "      <td>5000.00</td>\n",
              "      <td>863.16</td>\n",
              "      <td>0.00</td>\n",
              "      <td>0.00</td>\n",
              "      <td>0.0000</td>\n",
              "      <td>Jan-15</td>\n",
              "      <td>171.62</td>\n",
              "      <td>Sep-16</td>\n",
              "      <td>744.0</td>\n",
              "      <td>740.0</td>\n",
              "      <td>False</td>\n",
              "      <td>True</td>\n",
              "      <td>INDIVIDUAL</td>\n",
              "      <td>False</td>\n",
              "      <td>False</td>\n",
              "      <td>0.0</td>\n",
              "      <td>0.0</td>\n",
              "      <td>False</td>\n",
              "    </tr>\n",
              "    <tr>\n",
              "      <th>1</th>\n",
              "      <td>1077430</td>\n",
              "      <td>1314167.0</td>\n",
              "      <td>2500.0</td>\n",
              "      <td>2500.0</td>\n",
              "      <td>2500.00000</td>\n",
              "      <td>60 months</td>\n",
              "      <td>15.27%</td>\n",
              "      <td>59.83</td>\n",
              "      <td>C</td>\n",
              "      <td>C4</td>\n",
              "      <td>Ryder</td>\n",
              "      <td>&lt; 1 year</td>\n",
              "      <td>RENT</td>\n",
              "      <td>30000.0</td>\n",
              "      <td>Source Verified</td>\n",
              "      <td>Dec-11</td>\n",
              "      <td>Charged Off</td>\n",
              "      <td>False</td>\n",
              "      <td>https://lendingclub.com/browse/loanDetail.acti...</td>\n",
              "      <td>Borrower added on 12/22/11 &gt; I plan to use t...</td>\n",
              "      <td>car</td>\n",
              "      <td>bike</td>\n",
              "      <td>309xx</td>\n",
              "      <td>GA</td>\n",
              "      <td>1.00</td>\n",
              "      <td>0.0</td>\n",
              "      <td>Apr-99</td>\n",
              "      <td>740.0</td>\n",
              "      <td>744.0</td>\n",
              "      <td>5.0</td>\n",
              "      <td>NaN</td>\n",
              "      <td>3.0</td>\n",
              "      <td>0.0</td>\n",
              "      <td>1687.0</td>\n",
              "      <td>0.094</td>\n",
              "      <td>4.0</td>\n",
              "      <td>False</td>\n",
              "      <td>0.00</td>\n",
              "      <td>0.00</td>\n",
              "      <td>1008.710000</td>\n",
              "      <td>1008.71</td>\n",
              "      <td>456.46</td>\n",
              "      <td>435.17</td>\n",
              "      <td>0.00</td>\n",
              "      <td>117.08</td>\n",
              "      <td>1.1100</td>\n",
              "      <td>Apr-13</td>\n",
              "      <td>119.66</td>\n",
              "      <td>Sep-16</td>\n",
              "      <td>499.0</td>\n",
              "      <td>0.0</td>\n",
              "      <td>False</td>\n",
              "      <td>True</td>\n",
              "      <td>INDIVIDUAL</td>\n",
              "      <td>False</td>\n",
              "      <td>False</td>\n",
              "      <td>0.0</td>\n",
              "      <td>0.0</td>\n",
              "      <td>False</td>\n",
              "    </tr>\n",
              "    <tr>\n",
              "      <th>2</th>\n",
              "      <td>1077175</td>\n",
              "      <td>1313524.0</td>\n",
              "      <td>2400.0</td>\n",
              "      <td>2400.0</td>\n",
              "      <td>2400.00000</td>\n",
              "      <td>36 months</td>\n",
              "      <td>15.96%</td>\n",
              "      <td>84.33</td>\n",
              "      <td>C</td>\n",
              "      <td>C5</td>\n",
              "      <td>NaN</td>\n",
              "      <td>10+ years</td>\n",
              "      <td>RENT</td>\n",
              "      <td>12252.0</td>\n",
              "      <td>Not Verified</td>\n",
              "      <td>Dec-11</td>\n",
              "      <td>Fully Paid</td>\n",
              "      <td>False</td>\n",
              "      <td>https://lendingclub.com/browse/loanDetail.acti...</td>\n",
              "      <td>NaN</td>\n",
              "      <td>small_business</td>\n",
              "      <td>real estate business</td>\n",
              "      <td>606xx</td>\n",
              "      <td>IL</td>\n",
              "      <td>8.72</td>\n",
              "      <td>0.0</td>\n",
              "      <td>Nov-01</td>\n",
              "      <td>735.0</td>\n",
              "      <td>739.0</td>\n",
              "      <td>2.0</td>\n",
              "      <td>NaN</td>\n",
              "      <td>2.0</td>\n",
              "      <td>0.0</td>\n",
              "      <td>2956.0</td>\n",
              "      <td>0.985</td>\n",
              "      <td>10.0</td>\n",
              "      <td>False</td>\n",
              "      <td>0.00</td>\n",
              "      <td>0.00</td>\n",
              "      <td>3005.666844</td>\n",
              "      <td>3005.67</td>\n",
              "      <td>2400.00</td>\n",
              "      <td>605.67</td>\n",
              "      <td>0.00</td>\n",
              "      <td>0.00</td>\n",
              "      <td>0.0000</td>\n",
              "      <td>Jun-14</td>\n",
              "      <td>649.91</td>\n",
              "      <td>Sep-16</td>\n",
              "      <td>719.0</td>\n",
              "      <td>715.0</td>\n",
              "      <td>False</td>\n",
              "      <td>True</td>\n",
              "      <td>INDIVIDUAL</td>\n",
              "      <td>False</td>\n",
              "      <td>False</td>\n",
              "      <td>0.0</td>\n",
              "      <td>0.0</td>\n",
              "      <td>False</td>\n",
              "    </tr>\n",
              "    <tr>\n",
              "      <th>3</th>\n",
              "      <td>1076863</td>\n",
              "      <td>1277178.0</td>\n",
              "      <td>10000.0</td>\n",
              "      <td>10000.0</td>\n",
              "      <td>10000.00000</td>\n",
              "      <td>36 months</td>\n",
              "      <td>13.49%</td>\n",
              "      <td>339.31</td>\n",
              "      <td>C</td>\n",
              "      <td>C1</td>\n",
              "      <td>AIR RESOURCES BOARD</td>\n",
              "      <td>10+ years</td>\n",
              "      <td>RENT</td>\n",
              "      <td>49200.0</td>\n",
              "      <td>Source Verified</td>\n",
              "      <td>Dec-11</td>\n",
              "      <td>Fully Paid</td>\n",
              "      <td>False</td>\n",
              "      <td>https://lendingclub.com/browse/loanDetail.acti...</td>\n",
              "      <td>Borrower added on 12/21/11 &gt; to pay for prop...</td>\n",
              "      <td>other</td>\n",
              "      <td>personel</td>\n",
              "      <td>917xx</td>\n",
              "      <td>CA</td>\n",
              "      <td>20.00</td>\n",
              "      <td>0.0</td>\n",
              "      <td>Feb-96</td>\n",
              "      <td>690.0</td>\n",
              "      <td>694.0</td>\n",
              "      <td>1.0</td>\n",
              "      <td>35.0</td>\n",
              "      <td>10.0</td>\n",
              "      <td>0.0</td>\n",
              "      <td>5598.0</td>\n",
              "      <td>0.210</td>\n",
              "      <td>37.0</td>\n",
              "      <td>False</td>\n",
              "      <td>0.00</td>\n",
              "      <td>0.00</td>\n",
              "      <td>12231.890000</td>\n",
              "      <td>12231.89</td>\n",
              "      <td>10000.00</td>\n",
              "      <td>2214.92</td>\n",
              "      <td>16.97</td>\n",
              "      <td>0.00</td>\n",
              "      <td>0.0000</td>\n",
              "      <td>Jan-15</td>\n",
              "      <td>357.48</td>\n",
              "      <td>Apr-16</td>\n",
              "      <td>604.0</td>\n",
              "      <td>600.0</td>\n",
              "      <td>False</td>\n",
              "      <td>True</td>\n",
              "      <td>INDIVIDUAL</td>\n",
              "      <td>False</td>\n",
              "      <td>False</td>\n",
              "      <td>0.0</td>\n",
              "      <td>0.0</td>\n",
              "      <td>False</td>\n",
              "    </tr>\n",
              "    <tr>\n",
              "      <th>4</th>\n",
              "      <td>1075358</td>\n",
              "      <td>1311748.0</td>\n",
              "      <td>3000.0</td>\n",
              "      <td>3000.0</td>\n",
              "      <td>3000.00000</td>\n",
              "      <td>60 months</td>\n",
              "      <td>12.69%</td>\n",
              "      <td>67.79</td>\n",
              "      <td>B</td>\n",
              "      <td>B5</td>\n",
              "      <td>University Medical Group</td>\n",
              "      <td>1 year</td>\n",
              "      <td>RENT</td>\n",
              "      <td>80000.0</td>\n",
              "      <td>Source Verified</td>\n",
              "      <td>Dec-11</td>\n",
              "      <td>Current</td>\n",
              "      <td>False</td>\n",
              "      <td>https://lendingclub.com/browse/loanDetail.acti...</td>\n",
              "      <td>Borrower added on 12/21/11 &gt; I plan on combi...</td>\n",
              "      <td>other</td>\n",
              "      <td>Personal</td>\n",
              "      <td>972xx</td>\n",
              "      <td>OR</td>\n",
              "      <td>17.94</td>\n",
              "      <td>0.0</td>\n",
              "      <td>Jan-96</td>\n",
              "      <td>695.0</td>\n",
              "      <td>699.0</td>\n",
              "      <td>0.0</td>\n",
              "      <td>38.0</td>\n",
              "      <td>15.0</td>\n",
              "      <td>0.0</td>\n",
              "      <td>27783.0</td>\n",
              "      <td>0.539</td>\n",
              "      <td>38.0</td>\n",
              "      <td>False</td>\n",
              "      <td>270.78</td>\n",
              "      <td>270.78</td>\n",
              "      <td>3784.490000</td>\n",
              "      <td>3784.49</td>\n",
              "      <td>2729.22</td>\n",
              "      <td>1055.27</td>\n",
              "      <td>0.00</td>\n",
              "      <td>0.00</td>\n",
              "      <td>0.0000</td>\n",
              "      <td>Sep-16</td>\n",
              "      <td>67.79</td>\n",
              "      <td>Sep-16</td>\n",
              "      <td>694.0</td>\n",
              "      <td>690.0</td>\n",
              "      <td>False</td>\n",
              "      <td>True</td>\n",
              "      <td>INDIVIDUAL</td>\n",
              "      <td>False</td>\n",
              "      <td>False</td>\n",
              "      <td>0.0</td>\n",
              "      <td>0.0</td>\n",
              "      <td>False</td>\n",
              "    </tr>\n",
              "    <tr>\n",
              "      <th>...</th>\n",
              "      <td>...</td>\n",
              "      <td>...</td>\n",
              "      <td>...</td>\n",
              "      <td>...</td>\n",
              "      <td>...</td>\n",
              "      <td>...</td>\n",
              "      <td>...</td>\n",
              "      <td>...</td>\n",
              "      <td>...</td>\n",
              "      <td>...</td>\n",
              "      <td>...</td>\n",
              "      <td>...</td>\n",
              "      <td>...</td>\n",
              "      <td>...</td>\n",
              "      <td>...</td>\n",
              "      <td>...</td>\n",
              "      <td>...</td>\n",
              "      <td>...</td>\n",
              "      <td>...</td>\n",
              "      <td>...</td>\n",
              "      <td>...</td>\n",
              "      <td>...</td>\n",
              "      <td>...</td>\n",
              "      <td>...</td>\n",
              "      <td>...</td>\n",
              "      <td>...</td>\n",
              "      <td>...</td>\n",
              "      <td>...</td>\n",
              "      <td>...</td>\n",
              "      <td>...</td>\n",
              "      <td>...</td>\n",
              "      <td>...</td>\n",
              "      <td>...</td>\n",
              "      <td>...</td>\n",
              "      <td>...</td>\n",
              "      <td>...</td>\n",
              "      <td>...</td>\n",
              "      <td>...</td>\n",
              "      <td>...</td>\n",
              "      <td>...</td>\n",
              "      <td>...</td>\n",
              "      <td>...</td>\n",
              "      <td>...</td>\n",
              "      <td>...</td>\n",
              "      <td>...</td>\n",
              "      <td>...</td>\n",
              "      <td>...</td>\n",
              "      <td>...</td>\n",
              "      <td>...</td>\n",
              "      <td>...</td>\n",
              "      <td>...</td>\n",
              "      <td>...</td>\n",
              "      <td>...</td>\n",
              "      <td>...</td>\n",
              "      <td>...</td>\n",
              "      <td>...</td>\n",
              "      <td>...</td>\n",
              "      <td>...</td>\n",
              "      <td>...</td>\n",
              "    </tr>\n",
              "    <tr>\n",
              "      <th>42546</th>\n",
              "      <td>670124</td>\n",
              "      <td>856744.0</td>\n",
              "      <td>20000.0</td>\n",
              "      <td>20000.0</td>\n",
              "      <td>14999.99653</td>\n",
              "      <td>60 months</td>\n",
              "      <td>17.51%</td>\n",
              "      <td>502.56</td>\n",
              "      <td>E</td>\n",
              "      <td>E4</td>\n",
              "      <td>Get Fresh Sales, Inc</td>\n",
              "      <td>3 years</td>\n",
              "      <td>MORTGAGE</td>\n",
              "      <td>64480.0</td>\n",
              "      <td>Source Verified</td>\n",
              "      <td>Feb-11</td>\n",
              "      <td>Charged Off</td>\n",
              "      <td>False</td>\n",
              "      <td>https://lendingclub.com/browse/loanDetail.acti...</td>\n",
              "      <td>NaN</td>\n",
              "      <td>credit_card</td>\n",
              "      <td>Debt refinance</td>\n",
              "      <td>891xx</td>\n",
              "      <td>NV</td>\n",
              "      <td>15.97</td>\n",
              "      <td>0.0</td>\n",
              "      <td>Apr-77</td>\n",
              "      <td>695.0</td>\n",
              "      <td>699.0</td>\n",
              "      <td>0.0</td>\n",
              "      <td>NaN</td>\n",
              "      <td>18.0</td>\n",
              "      <td>1.0</td>\n",
              "      <td>25058.0</td>\n",
              "      <td>0.731</td>\n",
              "      <td>32.0</td>\n",
              "      <td>False</td>\n",
              "      <td>0.00</td>\n",
              "      <td>0.00</td>\n",
              "      <td>5527.140000</td>\n",
              "      <td>4140.46</td>\n",
              "      <td>2486.34</td>\n",
              "      <td>3023.23</td>\n",
              "      <td>0.00</td>\n",
              "      <td>17.57</td>\n",
              "      <td>0.0000</td>\n",
              "      <td>Jan-12</td>\n",
              "      <td>502.56</td>\n",
              "      <td>Sep-16</td>\n",
              "      <td>674.0</td>\n",
              "      <td>670.0</td>\n",
              "      <td>False</td>\n",
              "      <td>True</td>\n",
              "      <td>INDIVIDUAL</td>\n",
              "      <td>False</td>\n",
              "      <td>False</td>\n",
              "      <td>0.0</td>\n",
              "      <td>1.0</td>\n",
              "      <td>False</td>\n",
              "    </tr>\n",
              "    <tr>\n",
              "      <th>42547</th>\n",
              "      <td>567541</td>\n",
              "      <td>730106.0</td>\n",
              "      <td>16000.0</td>\n",
              "      <td>16000.0</td>\n",
              "      <td>15605.38428</td>\n",
              "      <td>60 months</td>\n",
              "      <td>6.91%</td>\n",
              "      <td>316.15</td>\n",
              "      <td>A</td>\n",
              "      <td>A5</td>\n",
              "      <td>Adams, Hoefer, Holwadel &amp; Eldridge</td>\n",
              "      <td>2 years</td>\n",
              "      <td>MORTGAGE</td>\n",
              "      <td>47500.0</td>\n",
              "      <td>Source Verified</td>\n",
              "      <td>Oct-10</td>\n",
              "      <td>Charged Off</td>\n",
              "      <td>False</td>\n",
              "      <td>https://lendingclub.com/browse/loanDetail.acti...</td>\n",
              "      <td>Borrower added on 10/20/10 &gt; I purchased a h...</td>\n",
              "      <td>debt_consolidation</td>\n",
              "      <td>Consolidation Loan</td>\n",
              "      <td>700xx</td>\n",
              "      <td>LA</td>\n",
              "      <td>10.64</td>\n",
              "      <td>0.0</td>\n",
              "      <td>May-01</td>\n",
              "      <td>735.0</td>\n",
              "      <td>739.0</td>\n",
              "      <td>0.0</td>\n",
              "      <td>NaN</td>\n",
              "      <td>11.0</td>\n",
              "      <td>0.0</td>\n",
              "      <td>14636.0</td>\n",
              "      <td>0.684</td>\n",
              "      <td>18.0</td>\n",
              "      <td>False</td>\n",
              "      <td>0.00</td>\n",
              "      <td>0.00</td>\n",
              "      <td>12905.790000</td>\n",
              "      <td>12391.15</td>\n",
              "      <td>9476.72</td>\n",
              "      <td>2525.96</td>\n",
              "      <td>0.00</td>\n",
              "      <td>903.11</td>\n",
              "      <td>8.9209</td>\n",
              "      <td>Jan-14</td>\n",
              "      <td>316.15</td>\n",
              "      <td>Sep-16</td>\n",
              "      <td>534.0</td>\n",
              "      <td>530.0</td>\n",
              "      <td>False</td>\n",
              "      <td>True</td>\n",
              "      <td>INDIVIDUAL</td>\n",
              "      <td>False</td>\n",
              "      <td>False</td>\n",
              "      <td>0.0</td>\n",
              "      <td>0.0</td>\n",
              "      <td>False</td>\n",
              "    </tr>\n",
              "    <tr>\n",
              "      <th>42548</th>\n",
              "      <td>505136</td>\n",
              "      <td>650770.0</td>\n",
              "      <td>20000.0</td>\n",
              "      <td>20000.0</td>\n",
              "      <td>19500.00000</td>\n",
              "      <td>36 months</td>\n",
              "      <td>9.88%</td>\n",
              "      <td>644.21</td>\n",
              "      <td>B</td>\n",
              "      <td>B1</td>\n",
              "      <td>Columbia University</td>\n",
              "      <td>&lt; 1 year</td>\n",
              "      <td>RENT</td>\n",
              "      <td>55000.0</td>\n",
              "      <td>Not Verified</td>\n",
              "      <td>May-10</td>\n",
              "      <td>Fully Paid</td>\n",
              "      <td>False</td>\n",
              "      <td>https://lendingclub.com/browse/loanDetail.acti...</td>\n",
              "      <td>Borrower added on 04/23/10 &gt; Purchase of a C...</td>\n",
              "      <td>major_purchase</td>\n",
              "      <td>Coop</td>\n",
              "      <td>100xx</td>\n",
              "      <td>NY</td>\n",
              "      <td>3.34</td>\n",
              "      <td>0.0</td>\n",
              "      <td>Aug-95</td>\n",
              "      <td>800.0</td>\n",
              "      <td>804.0</td>\n",
              "      <td>2.0</td>\n",
              "      <td>NaN</td>\n",
              "      <td>15.0</td>\n",
              "      <td>0.0</td>\n",
              "      <td>4134.0</td>\n",
              "      <td>0.082</td>\n",
              "      <td>36.0</td>\n",
              "      <td>False</td>\n",
              "      <td>0.00</td>\n",
              "      <td>0.00</td>\n",
              "      <td>23193.055940</td>\n",
              "      <td>22613.23</td>\n",
              "      <td>19999.99</td>\n",
              "      <td>3193.07</td>\n",
              "      <td>0.00</td>\n",
              "      <td>0.00</td>\n",
              "      <td>0.0000</td>\n",
              "      <td>May-13</td>\n",
              "      <td>680.70</td>\n",
              "      <td>May-13</td>\n",
              "      <td>839.0</td>\n",
              "      <td>835.0</td>\n",
              "      <td>False</td>\n",
              "      <td>True</td>\n",
              "      <td>INDIVIDUAL</td>\n",
              "      <td>False</td>\n",
              "      <td>False</td>\n",
              "      <td>0.0</td>\n",
              "      <td>0.0</td>\n",
              "      <td>False</td>\n",
              "    </tr>\n",
              "    <tr>\n",
              "      <th>42549</th>\n",
              "      <td>473367</td>\n",
              "      <td>598172.0</td>\n",
              "      <td>1750.0</td>\n",
              "      <td>1750.0</td>\n",
              "      <td>1750.00000</td>\n",
              "      <td>36 months</td>\n",
              "      <td>11.83%</td>\n",
              "      <td>57.99</td>\n",
              "      <td>B</td>\n",
              "      <td>B3</td>\n",
              "      <td>Yavapai County</td>\n",
              "      <td>3 years</td>\n",
              "      <td>MORTGAGE</td>\n",
              "      <td>40000.0</td>\n",
              "      <td>Not Verified</td>\n",
              "      <td>Jan-10</td>\n",
              "      <td>Fully Paid</td>\n",
              "      <td>False</td>\n",
              "      <td>https://lendingclub.com/browse/loanDetail.acti...</td>\n",
              "      <td>Borrower added on 12/31/09 &gt; Thanks for the ...</td>\n",
              "      <td>debt_consolidation</td>\n",
              "      <td>New Start</td>\n",
              "      <td>863xx</td>\n",
              "      <td>AZ</td>\n",
              "      <td>22.44</td>\n",
              "      <td>0.0</td>\n",
              "      <td>Oct-92</td>\n",
              "      <td>705.0</td>\n",
              "      <td>709.0</td>\n",
              "      <td>1.0</td>\n",
              "      <td>NaN</td>\n",
              "      <td>11.0</td>\n",
              "      <td>0.0</td>\n",
              "      <td>7757.0</td>\n",
              "      <td>0.930</td>\n",
              "      <td>24.0</td>\n",
              "      <td>False</td>\n",
              "      <td>0.00</td>\n",
              "      <td>0.00</td>\n",
              "      <td>1903.986775</td>\n",
              "      <td>1903.99</td>\n",
              "      <td>1750.00</td>\n",
              "      <td>153.99</td>\n",
              "      <td>0.00</td>\n",
              "      <td>0.00</td>\n",
              "      <td>0.0000</td>\n",
              "      <td>Nov-10</td>\n",
              "      <td>1384.36</td>\n",
              "      <td>Jan-16</td>\n",
              "      <td>709.0</td>\n",
              "      <td>705.0</td>\n",
              "      <td>False</td>\n",
              "      <td>True</td>\n",
              "      <td>INDIVIDUAL</td>\n",
              "      <td>False</td>\n",
              "      <td>False</td>\n",
              "      <td>0.0</td>\n",
              "      <td>0.0</td>\n",
              "      <td>False</td>\n",
              "    </tr>\n",
              "    <tr>\n",
              "      <th>42550</th>\n",
              "      <td>70686</td>\n",
              "      <td>70681.0</td>\n",
              "      <td>5000.0</td>\n",
              "      <td>5000.0</td>\n",
              "      <td>0.00000</td>\n",
              "      <td>36 months</td>\n",
              "      <td>7.75%</td>\n",
              "      <td>156.11</td>\n",
              "      <td>A</td>\n",
              "      <td>A3</td>\n",
              "      <td>Homemaker</td>\n",
              "      <td>10+ years</td>\n",
              "      <td>MORTGAGE</td>\n",
              "      <td>70000.0</td>\n",
              "      <td>Not Verified</td>\n",
              "      <td>Jun-07</td>\n",
              "      <td>Does not meet the credit policy. Status:Fully ...</td>\n",
              "      <td>False</td>\n",
              "      <td>https://lendingclub.com/browse/loanDetail.acti...</td>\n",
              "      <td>I need to make several improvements around the...</td>\n",
              "      <td>other</td>\n",
              "      <td>Aroundthehouse</td>\n",
              "      <td>068xx</td>\n",
              "      <td>CT</td>\n",
              "      <td>8.81</td>\n",
              "      <td>NaN</td>\n",
              "      <td>NaN</td>\n",
              "      <td>770.0</td>\n",
              "      <td>774.0</td>\n",
              "      <td>NaN</td>\n",
              "      <td>NaN</td>\n",
              "      <td>NaN</td>\n",
              "      <td>NaN</td>\n",
              "      <td>0.0</td>\n",
              "      <td>NaN</td>\n",
              "      <td>NaN</td>\n",
              "      <td>False</td>\n",
              "      <td>0.00</td>\n",
              "      <td>0.00</td>\n",
              "      <td>5619.762090</td>\n",
              "      <td>0.00</td>\n",
              "      <td>5000.00</td>\n",
              "      <td>619.76</td>\n",
              "      <td>0.00</td>\n",
              "      <td>0.00</td>\n",
              "      <td>0.0000</td>\n",
              "      <td>Jun-10</td>\n",
              "      <td>156.39</td>\n",
              "      <td>Feb-15</td>\n",
              "      <td>794.0</td>\n",
              "      <td>790.0</td>\n",
              "      <td>NaN</td>\n",
              "      <td>True</td>\n",
              "      <td>INDIVIDUAL</td>\n",
              "      <td>NaN</td>\n",
              "      <td>NaN</td>\n",
              "      <td>NaN</td>\n",
              "      <td>NaN</td>\n",
              "      <td>NaN</td>\n",
              "    </tr>\n",
              "  </tbody>\n",
              "</table>\n",
              "<p>42550 rows × 59 columns</p>\n",
              "</div>"
            ],
            "text/plain": [
              "            id  member_id  ...  pub_rec_bankruptcies  tax_liens\n",
              "0      1077501  1296599.0  ...                   0.0      False\n",
              "1      1077430  1314167.0  ...                   0.0      False\n",
              "2      1077175  1313524.0  ...                   0.0      False\n",
              "3      1076863  1277178.0  ...                   0.0      False\n",
              "4      1075358  1311748.0  ...                   0.0      False\n",
              "...        ...        ...  ...                   ...        ...\n",
              "42546   670124   856744.0  ...                   1.0      False\n",
              "42547   567541   730106.0  ...                   0.0      False\n",
              "42548   505136   650770.0  ...                   0.0      False\n",
              "42549   473367   598172.0  ...                   0.0      False\n",
              "42550    70686    70681.0  ...                   NaN        NaN\n",
              "\n",
              "[42550 rows x 59 columns]"
            ]
          },
          "metadata": {
            "tags": []
          },
          "execution_count": 10
        }
      ]
    },
    {
      "cell_type": "markdown",
      "metadata": {
        "id": "Sc1Gs0pIb0pH"
      },
      "source": [
        "Removing extra letters and symbols which are common for all entries."
      ]
    },
    {
      "cell_type": "code",
      "metadata": {
        "id": "vC529mjsKIkV"
      },
      "source": [
        "#removing months to convert to float\n",
        "data['term'] = data['term'].str.rstrip(' months').astype('float')\n",
        "\n",
        "#removing % to convert to float\n",
        "data['int_rate'] = data['int_rate'].str.rstrip('%').astype('float')"
      ],
      "execution_count": null,
      "outputs": []
    },
    {
      "cell_type": "code",
      "metadata": {
        "id": "3VlhZ6NvKIkZ",
        "colab": {
          "base_uri": "https://localhost:8080/"
        },
        "outputId": "e9a42274-7513-420a-dee3-b9b16d9f3a51"
      },
      "source": [
        "data['emp_length']"
      ],
      "execution_count": null,
      "outputs": [
        {
          "output_type": "execute_result",
          "data": {
            "text/plain": [
              "0        10+ years\n",
              "1         < 1 year\n",
              "2        10+ years\n",
              "3        10+ years\n",
              "4           1 year\n",
              "           ...    \n",
              "42546      3 years\n",
              "42547      2 years\n",
              "42548     < 1 year\n",
              "42549      3 years\n",
              "42550    10+ years\n",
              "Name: emp_length, Length: 42550, dtype: object"
            ]
          },
          "metadata": {
            "tags": []
          },
          "execution_count": 12
        }
      ]
    },
    {
      "cell_type": "code",
      "metadata": {
        "id": "UerWJH7GKIkf",
        "colab": {
          "base_uri": "https://localhost:8080/"
        },
        "outputId": "17e44ed6-149e-43c8-b483-8996d3b84bfd"
      },
      "source": [
        "#extracting only the integer values from the emp_length column\n",
        "data['emp_length'] = data['emp_length'].str.extract('(\\d+)')\n",
        "data['emp_length']"
      ],
      "execution_count": null,
      "outputs": [
        {
          "output_type": "execute_result",
          "data": {
            "text/plain": [
              "0        10\n",
              "1         1\n",
              "2        10\n",
              "3        10\n",
              "4         1\n",
              "         ..\n",
              "42546     3\n",
              "42547     2\n",
              "42548     1\n",
              "42549     3\n",
              "42550    10\n",
              "Name: emp_length, Length: 42550, dtype: object"
            ]
          },
          "metadata": {
            "tags": []
          },
          "execution_count": 13
        }
      ]
    },
    {
      "cell_type": "markdown",
      "metadata": {
        "id": "D8kPSu7KKIkk"
      },
      "source": [
        "Null or missing values may also be represented as 0 or 'n/a'.\n",
        "\n",
        "We can replace it with mode of that row.\n"
      ]
    },
    {
      "cell_type": "code",
      "metadata": {
        "id": "_rJ6H_IcKIkl"
      },
      "source": [
        "for column in data.columns:\n",
        "    mode = data[column].mode()[0] #chooses first of the possible modes (as there can be more than one mode value)\n",
        "    data[column].replace(['n/a', 'N/A'], mode )\n",
        "    data[column].fillna(mode, inplace = True)"
      ],
      "execution_count": null,
      "outputs": []
    },
    {
      "cell_type": "code",
      "metadata": {
        "id": "TIunp3lvKIks",
        "colab": {
          "base_uri": "https://localhost:8080/"
        },
        "outputId": "902aa7c4-9bfe-49cc-f5ca-b17a53cf83cc"
      },
      "source": [
        "data.dtypes"
      ],
      "execution_count": null,
      "outputs": [
        {
          "output_type": "execute_result",
          "data": {
            "text/plain": [
              "id                             object\n",
              "member_id                     float64\n",
              "loan_amnt                     float64\n",
              "funded_amnt                   float64\n",
              "funded_amnt_inv               float64\n",
              "term                          float64\n",
              "int_rate                      float64\n",
              "installment                   float64\n",
              "grade                          object\n",
              "sub_grade                      object\n",
              "emp_title                      object\n",
              "emp_length                     object\n",
              "home_ownership                 object\n",
              "annual_inc                    float64\n",
              "verification_status            object\n",
              "issue_d                        object\n",
              "loan_status                    object\n",
              "pymnt_plan                       bool\n",
              "url                            object\n",
              "desc                           object\n",
              "purpose                        object\n",
              "title                          object\n",
              "zip_code                       object\n",
              "addr_state                     object\n",
              "dti                           float64\n",
              "delinq_2yrs                   float64\n",
              "earliest_cr_line               object\n",
              "fico_range_low                float64\n",
              "fico_range_high               float64\n",
              "inq_last_6mths                float64\n",
              "mths_since_last_delinq        float64\n",
              "open_acc                      float64\n",
              "pub_rec                       float64\n",
              "revol_bal                     float64\n",
              "revol_util                    float64\n",
              "total_acc                     float64\n",
              "initial_list_status              bool\n",
              "out_prncp                     float64\n",
              "out_prncp_inv                 float64\n",
              "total_pymnt                   float64\n",
              "total_pymnt_inv               float64\n",
              "total_rec_prncp               float64\n",
              "total_rec_int                 float64\n",
              "total_rec_late_fee            float64\n",
              "recoveries                    float64\n",
              "collection_recovery_fee       float64\n",
              "last_pymnt_d                   object\n",
              "last_pymnt_amnt               float64\n",
              "last_credit_pull_d             object\n",
              "last_fico_range_high          float64\n",
              "last_fico_range_low           float64\n",
              "collections_12_mths_ex_med       bool\n",
              "policy_code                      bool\n",
              "application_type               object\n",
              "acc_now_delinq                   bool\n",
              "chargeoff_within_12_mths         bool\n",
              "delinq_amnt                   float64\n",
              "pub_rec_bankruptcies          float64\n",
              "tax_liens                        bool\n",
              "dtype: object"
            ]
          },
          "metadata": {
            "tags": []
          },
          "execution_count": 15
        }
      ]
    },
    {
      "cell_type": "markdown",
      "metadata": {
        "id": "aBhu1z2SKIk1"
      },
      "source": [
        "### **Identify and handle duplicate rows, redundant columns and categorical values in columns**\n",
        "\n",
        "First, we identify and handle duplicate rows. \n"
      ]
    },
    {
      "cell_type": "code",
      "metadata": {
        "id": "tZvuJwLgKIk2",
        "colab": {
          "base_uri": "https://localhost:8080/"
        },
        "outputId": "d0ccbcfe-1fbf-4077-8d21-533dbbd07562"
      },
      "source": [
        "data.shape"
      ],
      "execution_count": null,
      "outputs": [
        {
          "output_type": "execute_result",
          "data": {
            "text/plain": [
              "(42550, 59)"
            ]
          },
          "metadata": {
            "tags": []
          },
          "execution_count": 16
        }
      ]
    },
    {
      "cell_type": "code",
      "metadata": {
        "id": "2MpLeO8TKIk5",
        "colab": {
          "base_uri": "https://localhost:8080/"
        },
        "outputId": "23a2fd84-ec78-419e-ef03-f7588ddcc1d7"
      },
      "source": [
        "#check if there are any duplicate rows\n",
        "data.duplicated()"
      ],
      "execution_count": null,
      "outputs": [
        {
          "output_type": "execute_result",
          "data": {
            "text/plain": [
              "0        False\n",
              "1        False\n",
              "2        False\n",
              "3        False\n",
              "4        False\n",
              "         ...  \n",
              "42546     True\n",
              "42547     True\n",
              "42548     True\n",
              "42549     True\n",
              "42550    False\n",
              "Length: 42550, dtype: bool"
            ]
          },
          "metadata": {
            "tags": []
          },
          "execution_count": 17
        }
      ]
    },
    {
      "cell_type": "code",
      "metadata": {
        "id": "1knZqZo7KIk8",
        "colab": {
          "base_uri": "https://localhost:8080/"
        },
        "outputId": "6d96310d-a837-4cae-b460-221d58d72fc1"
      },
      "source": [
        "#check the number of duplicate rows\n",
        "data.duplicated().sum()"
      ],
      "execution_count": null,
      "outputs": [
        {
          "output_type": "execute_result",
          "data": {
            "text/plain": [
              "15"
            ]
          },
          "metadata": {
            "tags": []
          },
          "execution_count": 18
        }
      ]
    },
    {
      "cell_type": "markdown",
      "metadata": {
        "id": "mZI6nD41KIlF"
      },
      "source": [
        "There are 15 duplicate rows. The duplicated rows are as follows:"
      ]
    },
    {
      "cell_type": "code",
      "metadata": {
        "id": "0qQCK3E1KIlF",
        "colab": {
          "base_uri": "https://localhost:8080/",
          "height": 1452
        },
        "outputId": "39ae1b66-5b00-419c-e058-08c4904cde66"
      },
      "source": [
        "#show rows that are duplicated\n",
        "data.loc[data.duplicated(), :]"
      ],
      "execution_count": null,
      "outputs": [
        {
          "output_type": "execute_result",
          "data": {
            "text/html": [
              "<div>\n",
              "<style scoped>\n",
              "    .dataframe tbody tr th:only-of-type {\n",
              "        vertical-align: middle;\n",
              "    }\n",
              "\n",
              "    .dataframe tbody tr th {\n",
              "        vertical-align: top;\n",
              "    }\n",
              "\n",
              "    .dataframe thead th {\n",
              "        text-align: right;\n",
              "    }\n",
              "</style>\n",
              "<table border=\"1\" class=\"dataframe\">\n",
              "  <thead>\n",
              "    <tr style=\"text-align: right;\">\n",
              "      <th></th>\n",
              "      <th>id</th>\n",
              "      <th>member_id</th>\n",
              "      <th>loan_amnt</th>\n",
              "      <th>funded_amnt</th>\n",
              "      <th>funded_amnt_inv</th>\n",
              "      <th>term</th>\n",
              "      <th>int_rate</th>\n",
              "      <th>installment</th>\n",
              "      <th>grade</th>\n",
              "      <th>sub_grade</th>\n",
              "      <th>emp_title</th>\n",
              "      <th>emp_length</th>\n",
              "      <th>home_ownership</th>\n",
              "      <th>annual_inc</th>\n",
              "      <th>verification_status</th>\n",
              "      <th>issue_d</th>\n",
              "      <th>loan_status</th>\n",
              "      <th>pymnt_plan</th>\n",
              "      <th>url</th>\n",
              "      <th>desc</th>\n",
              "      <th>purpose</th>\n",
              "      <th>title</th>\n",
              "      <th>zip_code</th>\n",
              "      <th>addr_state</th>\n",
              "      <th>dti</th>\n",
              "      <th>delinq_2yrs</th>\n",
              "      <th>earliest_cr_line</th>\n",
              "      <th>fico_range_low</th>\n",
              "      <th>fico_range_high</th>\n",
              "      <th>inq_last_6mths</th>\n",
              "      <th>mths_since_last_delinq</th>\n",
              "      <th>open_acc</th>\n",
              "      <th>pub_rec</th>\n",
              "      <th>revol_bal</th>\n",
              "      <th>revol_util</th>\n",
              "      <th>total_acc</th>\n",
              "      <th>initial_list_status</th>\n",
              "      <th>out_prncp</th>\n",
              "      <th>out_prncp_inv</th>\n",
              "      <th>total_pymnt</th>\n",
              "      <th>total_pymnt_inv</th>\n",
              "      <th>total_rec_prncp</th>\n",
              "      <th>total_rec_int</th>\n",
              "      <th>total_rec_late_fee</th>\n",
              "      <th>recoveries</th>\n",
              "      <th>collection_recovery_fee</th>\n",
              "      <th>last_pymnt_d</th>\n",
              "      <th>last_pymnt_amnt</th>\n",
              "      <th>last_credit_pull_d</th>\n",
              "      <th>last_fico_range_high</th>\n",
              "      <th>last_fico_range_low</th>\n",
              "      <th>collections_12_mths_ex_med</th>\n",
              "      <th>policy_code</th>\n",
              "      <th>application_type</th>\n",
              "      <th>acc_now_delinq</th>\n",
              "      <th>chargeoff_within_12_mths</th>\n",
              "      <th>delinq_amnt</th>\n",
              "      <th>pub_rec_bankruptcies</th>\n",
              "      <th>tax_liens</th>\n",
              "    </tr>\n",
              "  </thead>\n",
              "  <tbody>\n",
              "    <tr>\n",
              "      <th>42528</th>\n",
              "      <td>727804</td>\n",
              "      <td>923352.0</td>\n",
              "      <td>5000.0</td>\n",
              "      <td>5000.0</td>\n",
              "      <td>5000.000000</td>\n",
              "      <td>36.0</td>\n",
              "      <td>6.92</td>\n",
              "      <td>154.21</td>\n",
              "      <td>A</td>\n",
              "      <td>A3</td>\n",
              "      <td>nelson westerberg</td>\n",
              "      <td>9</td>\n",
              "      <td>RENT</td>\n",
              "      <td>48000.0</td>\n",
              "      <td>Not Verified</td>\n",
              "      <td>Apr-11</td>\n",
              "      <td>Fully Paid</td>\n",
              "      <td>False</td>\n",
              "      <td>https://lendingclub.com/browse/loanDetail.acti...</td>\n",
              "      <td></td>\n",
              "      <td>debt_consolidation</td>\n",
              "      <td>loan</td>\n",
              "      <td>601xx</td>\n",
              "      <td>IL</td>\n",
              "      <td>14.93</td>\n",
              "      <td>0.0</td>\n",
              "      <td>Feb-03</td>\n",
              "      <td>765.0</td>\n",
              "      <td>769.0</td>\n",
              "      <td>1.0</td>\n",
              "      <td>0.0</td>\n",
              "      <td>8.0</td>\n",
              "      <td>0.0</td>\n",
              "      <td>4501.0</td>\n",
              "      <td>0.236</td>\n",
              "      <td>16.0</td>\n",
              "      <td>False</td>\n",
              "      <td>0.0</td>\n",
              "      <td>0.0</td>\n",
              "      <td>5478.054023</td>\n",
              "      <td>5478.05</td>\n",
              "      <td>5000.00</td>\n",
              "      <td>478.05</td>\n",
              "      <td>0.0</td>\n",
              "      <td>0.00</td>\n",
              "      <td>0.0000</td>\n",
              "      <td>Nov-13</td>\n",
              "      <td>58.07</td>\n",
              "      <td>Sep-16</td>\n",
              "      <td>794.0</td>\n",
              "      <td>790.0</td>\n",
              "      <td>False</td>\n",
              "      <td>True</td>\n",
              "      <td>INDIVIDUAL</td>\n",
              "      <td>False</td>\n",
              "      <td>False</td>\n",
              "      <td>0.0</td>\n",
              "      <td>0.0</td>\n",
              "      <td>False</td>\n",
              "    </tr>\n",
              "    <tr>\n",
              "      <th>42536</th>\n",
              "      <td>1071795</td>\n",
              "      <td>1306957.0</td>\n",
              "      <td>5600.0</td>\n",
              "      <td>5600.0</td>\n",
              "      <td>5600.000000</td>\n",
              "      <td>60.0</td>\n",
              "      <td>21.28</td>\n",
              "      <td>152.39</td>\n",
              "      <td>F</td>\n",
              "      <td>F2</td>\n",
              "      <td>US Army</td>\n",
              "      <td>4</td>\n",
              "      <td>OWN</td>\n",
              "      <td>40000.0</td>\n",
              "      <td>Source Verified</td>\n",
              "      <td>Dec-11</td>\n",
              "      <td>Charged Off</td>\n",
              "      <td>False</td>\n",
              "      <td>https://lendingclub.com/browse/loanDetail.acti...</td>\n",
              "      <td>Borrower added on 12/21/11 &gt; I own a small h...</td>\n",
              "      <td>small_business</td>\n",
              "      <td>Expand Business &amp; Buy Debt Portfolio</td>\n",
              "      <td>958xx</td>\n",
              "      <td>CA</td>\n",
              "      <td>5.55</td>\n",
              "      <td>0.0</td>\n",
              "      <td>Apr-04</td>\n",
              "      <td>675.0</td>\n",
              "      <td>679.0</td>\n",
              "      <td>2.0</td>\n",
              "      <td>0.0</td>\n",
              "      <td>11.0</td>\n",
              "      <td>0.0</td>\n",
              "      <td>5210.0</td>\n",
              "      <td>0.326</td>\n",
              "      <td>13.0</td>\n",
              "      <td>False</td>\n",
              "      <td>0.0</td>\n",
              "      <td>0.0</td>\n",
              "      <td>646.020000</td>\n",
              "      <td>646.02</td>\n",
              "      <td>162.02</td>\n",
              "      <td>294.94</td>\n",
              "      <td>0.0</td>\n",
              "      <td>189.06</td>\n",
              "      <td>2.0900</td>\n",
              "      <td>Apr-12</td>\n",
              "      <td>152.39</td>\n",
              "      <td>Sep-16</td>\n",
              "      <td>499.0</td>\n",
              "      <td>0.0</td>\n",
              "      <td>False</td>\n",
              "      <td>True</td>\n",
              "      <td>INDIVIDUAL</td>\n",
              "      <td>False</td>\n",
              "      <td>False</td>\n",
              "      <td>0.0</td>\n",
              "      <td>0.0</td>\n",
              "      <td>False</td>\n",
              "    </tr>\n",
              "    <tr>\n",
              "      <th>42537</th>\n",
              "      <td>85961</td>\n",
              "      <td>85923.0</td>\n",
              "      <td>1200.0</td>\n",
              "      <td>1200.0</td>\n",
              "      <td>500.000000</td>\n",
              "      <td>36.0</td>\n",
              "      <td>9.01</td>\n",
              "      <td>38.17</td>\n",
              "      <td>B</td>\n",
              "      <td>B2</td>\n",
              "      <td>Classic Components</td>\n",
              "      <td>1</td>\n",
              "      <td>RENT</td>\n",
              "      <td>36000.0</td>\n",
              "      <td>Not Verified</td>\n",
              "      <td>Jun-07</td>\n",
              "      <td>Does not meet the credit policy. Status:Fully ...</td>\n",
              "      <td>False</td>\n",
              "      <td>https://lendingclub.com/browse/loanDetail.acti...</td>\n",
              "      <td>I am one month away from starting my new job i...</td>\n",
              "      <td>other</td>\n",
              "      <td>College Debt Consolidation</td>\n",
              "      <td>787xx</td>\n",
              "      <td>TX</td>\n",
              "      <td>3.27</td>\n",
              "      <td>0.0</td>\n",
              "      <td>Oct-99</td>\n",
              "      <td>705.0</td>\n",
              "      <td>709.0</td>\n",
              "      <td>0.0</td>\n",
              "      <td>0.0</td>\n",
              "      <td>7.0</td>\n",
              "      <td>0.0</td>\n",
              "      <td>0.0</td>\n",
              "      <td>0.000</td>\n",
              "      <td>15.0</td>\n",
              "      <td>False</td>\n",
              "      <td>0.0</td>\n",
              "      <td>0.0</td>\n",
              "      <td>1373.990771</td>\n",
              "      <td>572.50</td>\n",
              "      <td>1200.00</td>\n",
              "      <td>173.99</td>\n",
              "      <td>0.0</td>\n",
              "      <td>0.00</td>\n",
              "      <td>0.0000</td>\n",
              "      <td>Jul-10</td>\n",
              "      <td>39.05</td>\n",
              "      <td>Sep-16</td>\n",
              "      <td>694.0</td>\n",
              "      <td>690.0</td>\n",
              "      <td>False</td>\n",
              "      <td>True</td>\n",
              "      <td>INDIVIDUAL</td>\n",
              "      <td>False</td>\n",
              "      <td>False</td>\n",
              "      <td>0.0</td>\n",
              "      <td>0.0</td>\n",
              "      <td>False</td>\n",
              "    </tr>\n",
              "    <tr>\n",
              "      <th>42538</th>\n",
              "      <td>427722</td>\n",
              "      <td>505512.0</td>\n",
              "      <td>5000.0</td>\n",
              "      <td>5000.0</td>\n",
              "      <td>4892.425415</td>\n",
              "      <td>36.0</td>\n",
              "      <td>13.22</td>\n",
              "      <td>169.01</td>\n",
              "      <td>C</td>\n",
              "      <td>C2</td>\n",
              "      <td>Computech Inc.</td>\n",
              "      <td>1</td>\n",
              "      <td>OTHER</td>\n",
              "      <td>80000.0</td>\n",
              "      <td>Verified</td>\n",
              "      <td>Sep-09</td>\n",
              "      <td>Does not meet the credit policy. Status:Fully ...</td>\n",
              "      <td>False</td>\n",
              "      <td>https://lendingclub.com/browse/loanDetail.acti...</td>\n",
              "      <td>Getting Comcast and ADT Services, and an HDTV ...</td>\n",
              "      <td>major_purchase</td>\n",
              "      <td>Minor Home Loan</td>\n",
              "      <td>200xx</td>\n",
              "      <td>DC</td>\n",
              "      <td>11.85</td>\n",
              "      <td>1.0</td>\n",
              "      <td>Nov-98</td>\n",
              "      <td>685.0</td>\n",
              "      <td>689.0</td>\n",
              "      <td>4.0</td>\n",
              "      <td>12.0</td>\n",
              "      <td>14.0</td>\n",
              "      <td>0.0</td>\n",
              "      <td>2023.0</td>\n",
              "      <td>0.189</td>\n",
              "      <td>21.0</td>\n",
              "      <td>False</td>\n",
              "      <td>0.0</td>\n",
              "      <td>0.0</td>\n",
              "      <td>6084.060497</td>\n",
              "      <td>5947.17</td>\n",
              "      <td>5000.00</td>\n",
              "      <td>1084.06</td>\n",
              "      <td>0.0</td>\n",
              "      <td>0.00</td>\n",
              "      <td>0.0000</td>\n",
              "      <td>Sep-12</td>\n",
              "      <td>176.04</td>\n",
              "      <td>Sep-12</td>\n",
              "      <td>609.0</td>\n",
              "      <td>605.0</td>\n",
              "      <td>False</td>\n",
              "      <td>True</td>\n",
              "      <td>INDIVIDUAL</td>\n",
              "      <td>False</td>\n",
              "      <td>False</td>\n",
              "      <td>0.0</td>\n",
              "      <td>0.0</td>\n",
              "      <td>False</td>\n",
              "    </tr>\n",
              "    <tr>\n",
              "      <th>42539</th>\n",
              "      <td>691253</td>\n",
              "      <td>881809.0</td>\n",
              "      <td>10000.0</td>\n",
              "      <td>10000.0</td>\n",
              "      <td>9850.000000</td>\n",
              "      <td>36.0</td>\n",
              "      <td>6.92</td>\n",
              "      <td>308.41</td>\n",
              "      <td>A</td>\n",
              "      <td>A3</td>\n",
              "      <td>Cahill, Schmitz, and Cahill</td>\n",
              "      <td>1</td>\n",
              "      <td>MORTGAGE</td>\n",
              "      <td>87200.0</td>\n",
              "      <td>Not Verified</td>\n",
              "      <td>Mar-11</td>\n",
              "      <td>Fully Paid</td>\n",
              "      <td>False</td>\n",
              "      <td>https://lendingclub.com/browse/loanDetail.acti...</td>\n",
              "      <td>Borrower added on 03/03/11 &gt; I have purchase...</td>\n",
              "      <td>other</td>\n",
              "      <td>Rehab Investment Property</td>\n",
              "      <td>553xx</td>\n",
              "      <td>MN</td>\n",
              "      <td>10.68</td>\n",
              "      <td>0.0</td>\n",
              "      <td>Oct-00</td>\n",
              "      <td>760.0</td>\n",
              "      <td>764.0</td>\n",
              "      <td>3.0</td>\n",
              "      <td>0.0</td>\n",
              "      <td>9.0</td>\n",
              "      <td>0.0</td>\n",
              "      <td>77452.0</td>\n",
              "      <td>0.655</td>\n",
              "      <td>25.0</td>\n",
              "      <td>False</td>\n",
              "      <td>0.0</td>\n",
              "      <td>0.0</td>\n",
              "      <td>10114.990210</td>\n",
              "      <td>9963.27</td>\n",
              "      <td>10000.00</td>\n",
              "      <td>114.99</td>\n",
              "      <td>0.0</td>\n",
              "      <td>0.00</td>\n",
              "      <td>0.0000</td>\n",
              "      <td>May-11</td>\n",
              "      <td>9808.13</td>\n",
              "      <td>Apr-14</td>\n",
              "      <td>799.0</td>\n",
              "      <td>795.0</td>\n",
              "      <td>False</td>\n",
              "      <td>True</td>\n",
              "      <td>INDIVIDUAL</td>\n",
              "      <td>False</td>\n",
              "      <td>False</td>\n",
              "      <td>0.0</td>\n",
              "      <td>0.0</td>\n",
              "      <td>False</td>\n",
              "    </tr>\n",
              "    <tr>\n",
              "      <th>42540</th>\n",
              "      <td>714553</td>\n",
              "      <td>907984.0</td>\n",
              "      <td>16000.0</td>\n",
              "      <td>16000.0</td>\n",
              "      <td>16000.000000</td>\n",
              "      <td>60.0</td>\n",
              "      <td>17.14</td>\n",
              "      <td>398.85</td>\n",
              "      <td>E</td>\n",
              "      <td>E3</td>\n",
              "      <td>Federal Aviation Administration</td>\n",
              "      <td>8</td>\n",
              "      <td>RENT</td>\n",
              "      <td>83202.0</td>\n",
              "      <td>Verified</td>\n",
              "      <td>Apr-11</td>\n",
              "      <td>Fully Paid</td>\n",
              "      <td>False</td>\n",
              "      <td>https://lendingclub.com/browse/loanDetail.acti...</td>\n",
              "      <td>Borrower added on 03/28/11 &gt; This loan is to...</td>\n",
              "      <td>debt_consolidation</td>\n",
              "      <td>Debt Consolidation Loan</td>\n",
              "      <td>761xx</td>\n",
              "      <td>TX</td>\n",
              "      <td>9.23</td>\n",
              "      <td>0.0</td>\n",
              "      <td>May-01</td>\n",
              "      <td>690.0</td>\n",
              "      <td>694.0</td>\n",
              "      <td>0.0</td>\n",
              "      <td>27.0</td>\n",
              "      <td>23.0</td>\n",
              "      <td>0.0</td>\n",
              "      <td>14984.0</td>\n",
              "      <td>0.441</td>\n",
              "      <td>43.0</td>\n",
              "      <td>False</td>\n",
              "      <td>0.0</td>\n",
              "      <td>0.0</td>\n",
              "      <td>21781.313670</td>\n",
              "      <td>21781.31</td>\n",
              "      <td>16000.00</td>\n",
              "      <td>5781.31</td>\n",
              "      <td>0.0</td>\n",
              "      <td>0.00</td>\n",
              "      <td>0.0000</td>\n",
              "      <td>Nov-13</td>\n",
              "      <td>9830.07</td>\n",
              "      <td>Sep-16</td>\n",
              "      <td>769.0</td>\n",
              "      <td>765.0</td>\n",
              "      <td>False</td>\n",
              "      <td>True</td>\n",
              "      <td>INDIVIDUAL</td>\n",
              "      <td>False</td>\n",
              "      <td>False</td>\n",
              "      <td>0.0</td>\n",
              "      <td>0.0</td>\n",
              "      <td>False</td>\n",
              "    </tr>\n",
              "    <tr>\n",
              "      <th>42541</th>\n",
              "      <td>852787</td>\n",
              "      <td>1064904.0</td>\n",
              "      <td>8300.0</td>\n",
              "      <td>8300.0</td>\n",
              "      <td>8300.000000</td>\n",
              "      <td>36.0</td>\n",
              "      <td>8.49</td>\n",
              "      <td>261.98</td>\n",
              "      <td>A</td>\n",
              "      <td>A5</td>\n",
              "      <td>Mercantil Commercebank</td>\n",
              "      <td>5</td>\n",
              "      <td>OWN</td>\n",
              "      <td>50000.0</td>\n",
              "      <td>Not Verified</td>\n",
              "      <td>Aug-11</td>\n",
              "      <td>Charged Off</td>\n",
              "      <td>False</td>\n",
              "      <td>https://lendingclub.com/browse/loanDetail.acti...</td>\n",
              "      <td>Borrower added on 08/16/11 &gt; This loan is to...</td>\n",
              "      <td>debt_consolidation</td>\n",
              "      <td>Debt Consolidation Loan</td>\n",
              "      <td>330xx</td>\n",
              "      <td>FL</td>\n",
              "      <td>2.88</td>\n",
              "      <td>0.0</td>\n",
              "      <td>Feb-06</td>\n",
              "      <td>735.0</td>\n",
              "      <td>739.0</td>\n",
              "      <td>1.0</td>\n",
              "      <td>56.0</td>\n",
              "      <td>9.0</td>\n",
              "      <td>0.0</td>\n",
              "      <td>3580.0</td>\n",
              "      <td>0.416</td>\n",
              "      <td>16.0</td>\n",
              "      <td>False</td>\n",
              "      <td>0.0</td>\n",
              "      <td>0.0</td>\n",
              "      <td>878.540000</td>\n",
              "      <td>878.54</td>\n",
              "      <td>406.60</td>\n",
              "      <td>115.62</td>\n",
              "      <td>0.0</td>\n",
              "      <td>356.32</td>\n",
              "      <td>3.4800</td>\n",
              "      <td>Nov-11</td>\n",
              "      <td>261.98</td>\n",
              "      <td>Sep-16</td>\n",
              "      <td>634.0</td>\n",
              "      <td>630.0</td>\n",
              "      <td>False</td>\n",
              "      <td>True</td>\n",
              "      <td>INDIVIDUAL</td>\n",
              "      <td>False</td>\n",
              "      <td>False</td>\n",
              "      <td>0.0</td>\n",
              "      <td>0.0</td>\n",
              "      <td>False</td>\n",
              "    </tr>\n",
              "    <tr>\n",
              "      <th>42542</th>\n",
              "      <td>725123</td>\n",
              "      <td>920334.0</td>\n",
              "      <td>7000.0</td>\n",
              "      <td>7000.0</td>\n",
              "      <td>7000.000000</td>\n",
              "      <td>36.0</td>\n",
              "      <td>6.92</td>\n",
              "      <td>215.89</td>\n",
              "      <td>A</td>\n",
              "      <td>A3</td>\n",
              "      <td>Shasta Valley Resource Conservation Dist</td>\n",
              "      <td>4</td>\n",
              "      <td>RENT</td>\n",
              "      <td>24000.0</td>\n",
              "      <td>Source Verified</td>\n",
              "      <td>Apr-11</td>\n",
              "      <td>Fully Paid</td>\n",
              "      <td>False</td>\n",
              "      <td>https://lendingclub.com/browse/loanDetail.acti...</td>\n",
              "      <td>Borrower added on 04/13/11 &gt; Relocating, wil...</td>\n",
              "      <td>moving</td>\n",
              "      <td>Grad School</td>\n",
              "      <td>960xx</td>\n",
              "      <td>CA</td>\n",
              "      <td>5.55</td>\n",
              "      <td>0.0</td>\n",
              "      <td>Nov-92</td>\n",
              "      <td>760.0</td>\n",
              "      <td>764.0</td>\n",
              "      <td>0.0</td>\n",
              "      <td>0.0</td>\n",
              "      <td>7.0</td>\n",
              "      <td>0.0</td>\n",
              "      <td>4949.0</td>\n",
              "      <td>0.118</td>\n",
              "      <td>10.0</td>\n",
              "      <td>False</td>\n",
              "      <td>0.0</td>\n",
              "      <td>0.0</td>\n",
              "      <td>7771.789913</td>\n",
              "      <td>7771.79</td>\n",
              "      <td>7000.00</td>\n",
              "      <td>771.79</td>\n",
              "      <td>0.0</td>\n",
              "      <td>0.00</td>\n",
              "      <td>0.0000</td>\n",
              "      <td>May-14</td>\n",
              "      <td>220.82</td>\n",
              "      <td>Nov-15</td>\n",
              "      <td>689.0</td>\n",
              "      <td>685.0</td>\n",
              "      <td>False</td>\n",
              "      <td>True</td>\n",
              "      <td>INDIVIDUAL</td>\n",
              "      <td>False</td>\n",
              "      <td>False</td>\n",
              "      <td>0.0</td>\n",
              "      <td>0.0</td>\n",
              "      <td>False</td>\n",
              "    </tr>\n",
              "    <tr>\n",
              "      <th>42543</th>\n",
              "      <td>74323</td>\n",
              "      <td>74301.0</td>\n",
              "      <td>6500.0</td>\n",
              "      <td>6500.0</td>\n",
              "      <td>0.000000</td>\n",
              "      <td>36.0</td>\n",
              "      <td>9.64</td>\n",
              "      <td>208.66</td>\n",
              "      <td>B</td>\n",
              "      <td>B4</td>\n",
              "      <td>Air Force</td>\n",
              "      <td>1</td>\n",
              "      <td>RENT</td>\n",
              "      <td>20000.0</td>\n",
              "      <td>Not Verified</td>\n",
              "      <td>Jun-07</td>\n",
              "      <td>Does not meet the credit policy. Status:Charge...</td>\n",
              "      <td>False</td>\n",
              "      <td>https://lendingclub.com/browse/loanDetail.acti...</td>\n",
              "      <td>I'm in the military and before I came in I rac...</td>\n",
              "      <td>other</td>\n",
              "      <td>One-Debt Loan</td>\n",
              "      <td>064xx</td>\n",
              "      <td>CT</td>\n",
              "      <td>10.00</td>\n",
              "      <td>0.0</td>\n",
              "      <td>Oct-99</td>\n",
              "      <td>710.0</td>\n",
              "      <td>714.0</td>\n",
              "      <td>0.0</td>\n",
              "      <td>0.0</td>\n",
              "      <td>7.0</td>\n",
              "      <td>0.0</td>\n",
              "      <td>0.0</td>\n",
              "      <td>0.000</td>\n",
              "      <td>15.0</td>\n",
              "      <td>False</td>\n",
              "      <td>0.0</td>\n",
              "      <td>0.0</td>\n",
              "      <td>7193.050000</td>\n",
              "      <td>0.00</td>\n",
              "      <td>1791.32</td>\n",
              "      <td>503.81</td>\n",
              "      <td>0.0</td>\n",
              "      <td>4897.92</td>\n",
              "      <td>1714.2700</td>\n",
              "      <td>May-08</td>\n",
              "      <td>208.65</td>\n",
              "      <td>Sep-16</td>\n",
              "      <td>684.0</td>\n",
              "      <td>680.0</td>\n",
              "      <td>False</td>\n",
              "      <td>True</td>\n",
              "      <td>INDIVIDUAL</td>\n",
              "      <td>False</td>\n",
              "      <td>False</td>\n",
              "      <td>0.0</td>\n",
              "      <td>0.0</td>\n",
              "      <td>False</td>\n",
              "    </tr>\n",
              "    <tr>\n",
              "      <th>42544</th>\n",
              "      <td>799847</td>\n",
              "      <td>1005087.0</td>\n",
              "      <td>3200.0</td>\n",
              "      <td>3200.0</td>\n",
              "      <td>3200.000000</td>\n",
              "      <td>36.0</td>\n",
              "      <td>6.99</td>\n",
              "      <td>98.80</td>\n",
              "      <td>A</td>\n",
              "      <td>A3</td>\n",
              "      <td>Cell Division</td>\n",
              "      <td>3</td>\n",
              "      <td>RENT</td>\n",
              "      <td>83000.0</td>\n",
              "      <td>Not Verified</td>\n",
              "      <td>Jul-11</td>\n",
              "      <td>Fully Paid</td>\n",
              "      <td>False</td>\n",
              "      <td>https://lendingclub.com/browse/loanDetail.acti...</td>\n",
              "      <td>Borrower added on 06/28/11 &gt; Hi all! &lt;br/&gt;We...</td>\n",
              "      <td>wedding</td>\n",
              "      <td>Wedding Loan</td>\n",
              "      <td>112xx</td>\n",
              "      <td>NY</td>\n",
              "      <td>11.15</td>\n",
              "      <td>0.0</td>\n",
              "      <td>Dec-00</td>\n",
              "      <td>730.0</td>\n",
              "      <td>734.0</td>\n",
              "      <td>0.0</td>\n",
              "      <td>0.0</td>\n",
              "      <td>11.0</td>\n",
              "      <td>0.0</td>\n",
              "      <td>9878.0</td>\n",
              "      <td>0.691</td>\n",
              "      <td>32.0</td>\n",
              "      <td>False</td>\n",
              "      <td>0.0</td>\n",
              "      <td>0.0</td>\n",
              "      <td>3271.755381</td>\n",
              "      <td>3271.76</td>\n",
              "      <td>3200.00</td>\n",
              "      <td>71.76</td>\n",
              "      <td>0.0</td>\n",
              "      <td>0.00</td>\n",
              "      <td>0.0000</td>\n",
              "      <td>Nov-11</td>\n",
              "      <td>2976.25</td>\n",
              "      <td>Aug-11</td>\n",
              "      <td>739.0</td>\n",
              "      <td>735.0</td>\n",
              "      <td>False</td>\n",
              "      <td>True</td>\n",
              "      <td>INDIVIDUAL</td>\n",
              "      <td>False</td>\n",
              "      <td>False</td>\n",
              "      <td>0.0</td>\n",
              "      <td>0.0</td>\n",
              "      <td>False</td>\n",
              "    </tr>\n",
              "    <tr>\n",
              "      <th>42545</th>\n",
              "      <td>782452</td>\n",
              "      <td>985441.0</td>\n",
              "      <td>20000.0</td>\n",
              "      <td>20000.0</td>\n",
              "      <td>19903.396040</td>\n",
              "      <td>60.0</td>\n",
              "      <td>12.99</td>\n",
              "      <td>454.96</td>\n",
              "      <td>C</td>\n",
              "      <td>C1</td>\n",
              "      <td>US Army Corps of Engineers</td>\n",
              "      <td>5</td>\n",
              "      <td>RENT</td>\n",
              "      <td>74872.0</td>\n",
              "      <td>Verified</td>\n",
              "      <td>Jun-11</td>\n",
              "      <td>Fully Paid</td>\n",
              "      <td>False</td>\n",
              "      <td>https://lendingclub.com/browse/loanDetail.acti...</td>\n",
              "      <td>Borrower added on 06/18/11 &gt; This loan will ...</td>\n",
              "      <td>debt_consolidation</td>\n",
              "      <td>Debt Consolidation Loan</td>\n",
              "      <td>207xx</td>\n",
              "      <td>MD</td>\n",
              "      <td>22.69</td>\n",
              "      <td>0.0</td>\n",
              "      <td>May-83</td>\n",
              "      <td>745.0</td>\n",
              "      <td>749.0</td>\n",
              "      <td>1.0</td>\n",
              "      <td>0.0</td>\n",
              "      <td>11.0</td>\n",
              "      <td>0.0</td>\n",
              "      <td>11127.0</td>\n",
              "      <td>0.497</td>\n",
              "      <td>23.0</td>\n",
              "      <td>False</td>\n",
              "      <td>0.0</td>\n",
              "      <td>0.0</td>\n",
              "      <td>23206.379780</td>\n",
              "      <td>23050.11</td>\n",
              "      <td>20000.00</td>\n",
              "      <td>3206.38</td>\n",
              "      <td>0.0</td>\n",
              "      <td>0.00</td>\n",
              "      <td>0.0000</td>\n",
              "      <td>Dec-12</td>\n",
              "      <td>6406.12</td>\n",
              "      <td>Dec-12</td>\n",
              "      <td>704.0</td>\n",
              "      <td>700.0</td>\n",
              "      <td>False</td>\n",
              "      <td>True</td>\n",
              "      <td>INDIVIDUAL</td>\n",
              "      <td>False</td>\n",
              "      <td>False</td>\n",
              "      <td>0.0</td>\n",
              "      <td>0.0</td>\n",
              "      <td>False</td>\n",
              "    </tr>\n",
              "    <tr>\n",
              "      <th>42546</th>\n",
              "      <td>670124</td>\n",
              "      <td>856744.0</td>\n",
              "      <td>20000.0</td>\n",
              "      <td>20000.0</td>\n",
              "      <td>14999.996530</td>\n",
              "      <td>60.0</td>\n",
              "      <td>17.51</td>\n",
              "      <td>502.56</td>\n",
              "      <td>E</td>\n",
              "      <td>E4</td>\n",
              "      <td>Get Fresh Sales, Inc</td>\n",
              "      <td>3</td>\n",
              "      <td>MORTGAGE</td>\n",
              "      <td>64480.0</td>\n",
              "      <td>Source Verified</td>\n",
              "      <td>Feb-11</td>\n",
              "      <td>Charged Off</td>\n",
              "      <td>False</td>\n",
              "      <td>https://lendingclub.com/browse/loanDetail.acti...</td>\n",
              "      <td></td>\n",
              "      <td>credit_card</td>\n",
              "      <td>Debt refinance</td>\n",
              "      <td>891xx</td>\n",
              "      <td>NV</td>\n",
              "      <td>15.97</td>\n",
              "      <td>0.0</td>\n",
              "      <td>Apr-77</td>\n",
              "      <td>695.0</td>\n",
              "      <td>699.0</td>\n",
              "      <td>0.0</td>\n",
              "      <td>0.0</td>\n",
              "      <td>18.0</td>\n",
              "      <td>1.0</td>\n",
              "      <td>25058.0</td>\n",
              "      <td>0.731</td>\n",
              "      <td>32.0</td>\n",
              "      <td>False</td>\n",
              "      <td>0.0</td>\n",
              "      <td>0.0</td>\n",
              "      <td>5527.140000</td>\n",
              "      <td>4140.46</td>\n",
              "      <td>2486.34</td>\n",
              "      <td>3023.23</td>\n",
              "      <td>0.0</td>\n",
              "      <td>17.57</td>\n",
              "      <td>0.0000</td>\n",
              "      <td>Jan-12</td>\n",
              "      <td>502.56</td>\n",
              "      <td>Sep-16</td>\n",
              "      <td>674.0</td>\n",
              "      <td>670.0</td>\n",
              "      <td>False</td>\n",
              "      <td>True</td>\n",
              "      <td>INDIVIDUAL</td>\n",
              "      <td>False</td>\n",
              "      <td>False</td>\n",
              "      <td>0.0</td>\n",
              "      <td>1.0</td>\n",
              "      <td>False</td>\n",
              "    </tr>\n",
              "    <tr>\n",
              "      <th>42547</th>\n",
              "      <td>567541</td>\n",
              "      <td>730106.0</td>\n",
              "      <td>16000.0</td>\n",
              "      <td>16000.0</td>\n",
              "      <td>15605.384280</td>\n",
              "      <td>60.0</td>\n",
              "      <td>6.91</td>\n",
              "      <td>316.15</td>\n",
              "      <td>A</td>\n",
              "      <td>A5</td>\n",
              "      <td>Adams, Hoefer, Holwadel &amp; Eldridge</td>\n",
              "      <td>2</td>\n",
              "      <td>MORTGAGE</td>\n",
              "      <td>47500.0</td>\n",
              "      <td>Source Verified</td>\n",
              "      <td>Oct-10</td>\n",
              "      <td>Charged Off</td>\n",
              "      <td>False</td>\n",
              "      <td>https://lendingclub.com/browse/loanDetail.acti...</td>\n",
              "      <td>Borrower added on 10/20/10 &gt; I purchased a h...</td>\n",
              "      <td>debt_consolidation</td>\n",
              "      <td>Consolidation Loan</td>\n",
              "      <td>700xx</td>\n",
              "      <td>LA</td>\n",
              "      <td>10.64</td>\n",
              "      <td>0.0</td>\n",
              "      <td>May-01</td>\n",
              "      <td>735.0</td>\n",
              "      <td>739.0</td>\n",
              "      <td>0.0</td>\n",
              "      <td>0.0</td>\n",
              "      <td>11.0</td>\n",
              "      <td>0.0</td>\n",
              "      <td>14636.0</td>\n",
              "      <td>0.684</td>\n",
              "      <td>18.0</td>\n",
              "      <td>False</td>\n",
              "      <td>0.0</td>\n",
              "      <td>0.0</td>\n",
              "      <td>12905.790000</td>\n",
              "      <td>12391.15</td>\n",
              "      <td>9476.72</td>\n",
              "      <td>2525.96</td>\n",
              "      <td>0.0</td>\n",
              "      <td>903.11</td>\n",
              "      <td>8.9209</td>\n",
              "      <td>Jan-14</td>\n",
              "      <td>316.15</td>\n",
              "      <td>Sep-16</td>\n",
              "      <td>534.0</td>\n",
              "      <td>530.0</td>\n",
              "      <td>False</td>\n",
              "      <td>True</td>\n",
              "      <td>INDIVIDUAL</td>\n",
              "      <td>False</td>\n",
              "      <td>False</td>\n",
              "      <td>0.0</td>\n",
              "      <td>0.0</td>\n",
              "      <td>False</td>\n",
              "    </tr>\n",
              "    <tr>\n",
              "      <th>42548</th>\n",
              "      <td>505136</td>\n",
              "      <td>650770.0</td>\n",
              "      <td>20000.0</td>\n",
              "      <td>20000.0</td>\n",
              "      <td>19500.000000</td>\n",
              "      <td>36.0</td>\n",
              "      <td>9.88</td>\n",
              "      <td>644.21</td>\n",
              "      <td>B</td>\n",
              "      <td>B1</td>\n",
              "      <td>Columbia University</td>\n",
              "      <td>1</td>\n",
              "      <td>RENT</td>\n",
              "      <td>55000.0</td>\n",
              "      <td>Not Verified</td>\n",
              "      <td>May-10</td>\n",
              "      <td>Fully Paid</td>\n",
              "      <td>False</td>\n",
              "      <td>https://lendingclub.com/browse/loanDetail.acti...</td>\n",
              "      <td>Borrower added on 04/23/10 &gt; Purchase of a C...</td>\n",
              "      <td>major_purchase</td>\n",
              "      <td>Coop</td>\n",
              "      <td>100xx</td>\n",
              "      <td>NY</td>\n",
              "      <td>3.34</td>\n",
              "      <td>0.0</td>\n",
              "      <td>Aug-95</td>\n",
              "      <td>800.0</td>\n",
              "      <td>804.0</td>\n",
              "      <td>2.0</td>\n",
              "      <td>0.0</td>\n",
              "      <td>15.0</td>\n",
              "      <td>0.0</td>\n",
              "      <td>4134.0</td>\n",
              "      <td>0.082</td>\n",
              "      <td>36.0</td>\n",
              "      <td>False</td>\n",
              "      <td>0.0</td>\n",
              "      <td>0.0</td>\n",
              "      <td>23193.055940</td>\n",
              "      <td>22613.23</td>\n",
              "      <td>19999.99</td>\n",
              "      <td>3193.07</td>\n",
              "      <td>0.0</td>\n",
              "      <td>0.00</td>\n",
              "      <td>0.0000</td>\n",
              "      <td>May-13</td>\n",
              "      <td>680.70</td>\n",
              "      <td>May-13</td>\n",
              "      <td>839.0</td>\n",
              "      <td>835.0</td>\n",
              "      <td>False</td>\n",
              "      <td>True</td>\n",
              "      <td>INDIVIDUAL</td>\n",
              "      <td>False</td>\n",
              "      <td>False</td>\n",
              "      <td>0.0</td>\n",
              "      <td>0.0</td>\n",
              "      <td>False</td>\n",
              "    </tr>\n",
              "    <tr>\n",
              "      <th>42549</th>\n",
              "      <td>473367</td>\n",
              "      <td>598172.0</td>\n",
              "      <td>1750.0</td>\n",
              "      <td>1750.0</td>\n",
              "      <td>1750.000000</td>\n",
              "      <td>36.0</td>\n",
              "      <td>11.83</td>\n",
              "      <td>57.99</td>\n",
              "      <td>B</td>\n",
              "      <td>B3</td>\n",
              "      <td>Yavapai County</td>\n",
              "      <td>3</td>\n",
              "      <td>MORTGAGE</td>\n",
              "      <td>40000.0</td>\n",
              "      <td>Not Verified</td>\n",
              "      <td>Jan-10</td>\n",
              "      <td>Fully Paid</td>\n",
              "      <td>False</td>\n",
              "      <td>https://lendingclub.com/browse/loanDetail.acti...</td>\n",
              "      <td>Borrower added on 12/31/09 &gt; Thanks for the ...</td>\n",
              "      <td>debt_consolidation</td>\n",
              "      <td>New Start</td>\n",
              "      <td>863xx</td>\n",
              "      <td>AZ</td>\n",
              "      <td>22.44</td>\n",
              "      <td>0.0</td>\n",
              "      <td>Oct-92</td>\n",
              "      <td>705.0</td>\n",
              "      <td>709.0</td>\n",
              "      <td>1.0</td>\n",
              "      <td>0.0</td>\n",
              "      <td>11.0</td>\n",
              "      <td>0.0</td>\n",
              "      <td>7757.0</td>\n",
              "      <td>0.930</td>\n",
              "      <td>24.0</td>\n",
              "      <td>False</td>\n",
              "      <td>0.0</td>\n",
              "      <td>0.0</td>\n",
              "      <td>1903.986775</td>\n",
              "      <td>1903.99</td>\n",
              "      <td>1750.00</td>\n",
              "      <td>153.99</td>\n",
              "      <td>0.0</td>\n",
              "      <td>0.00</td>\n",
              "      <td>0.0000</td>\n",
              "      <td>Nov-10</td>\n",
              "      <td>1384.36</td>\n",
              "      <td>Jan-16</td>\n",
              "      <td>709.0</td>\n",
              "      <td>705.0</td>\n",
              "      <td>False</td>\n",
              "      <td>True</td>\n",
              "      <td>INDIVIDUAL</td>\n",
              "      <td>False</td>\n",
              "      <td>False</td>\n",
              "      <td>0.0</td>\n",
              "      <td>0.0</td>\n",
              "      <td>False</td>\n",
              "    </tr>\n",
              "  </tbody>\n",
              "</table>\n",
              "</div>"
            ],
            "text/plain": [
              "            id  member_id  ...  pub_rec_bankruptcies  tax_liens\n",
              "42528   727804   923352.0  ...                   0.0      False\n",
              "42536  1071795  1306957.0  ...                   0.0      False\n",
              "42537    85961    85923.0  ...                   0.0      False\n",
              "42538   427722   505512.0  ...                   0.0      False\n",
              "42539   691253   881809.0  ...                   0.0      False\n",
              "42540   714553   907984.0  ...                   0.0      False\n",
              "42541   852787  1064904.0  ...                   0.0      False\n",
              "42542   725123   920334.0  ...                   0.0      False\n",
              "42543    74323    74301.0  ...                   0.0      False\n",
              "42544   799847  1005087.0  ...                   0.0      False\n",
              "42545   782452   985441.0  ...                   0.0      False\n",
              "42546   670124   856744.0  ...                   1.0      False\n",
              "42547   567541   730106.0  ...                   0.0      False\n",
              "42548   505136   650770.0  ...                   0.0      False\n",
              "42549   473367   598172.0  ...                   0.0      False\n",
              "\n",
              "[15 rows x 59 columns]"
            ]
          },
          "metadata": {
            "tags": []
          },
          "execution_count": 19
        }
      ]
    },
    {
      "cell_type": "markdown",
      "metadata": {
        "id": "0MNXNHd8KIlJ"
      },
      "source": [
        "We have dropped these 15 rows now. "
      ]
    },
    {
      "cell_type": "code",
      "metadata": {
        "id": "CTLmx1G0KIlK"
      },
      "source": [
        "#keep the first occurence\n",
        "data = data.drop_duplicates(keep='first')"
      ],
      "execution_count": null,
      "outputs": []
    },
    {
      "cell_type": "code",
      "metadata": {
        "id": "teilyj5VKIlQ",
        "colab": {
          "base_uri": "https://localhost:8080/"
        },
        "outputId": "2bb43cb1-a958-4351-81a1-7e2b65efe313"
      },
      "source": [
        "data.shape"
      ],
      "execution_count": null,
      "outputs": [
        {
          "output_type": "execute_result",
          "data": {
            "text/plain": [
              "(42535, 59)"
            ]
          },
          "metadata": {
            "tags": []
          },
          "execution_count": 21
        }
      ]
    },
    {
      "cell_type": "markdown",
      "metadata": {
        "id": "Kh_EUUnYKIlW"
      },
      "source": [
        "We have now removed the duplicate rows. "
      ]
    },
    {
      "cell_type": "code",
      "metadata": {
        "id": "oKRepYpfKIlX"
      },
      "source": [
        "#dropping redundant columns\n",
        "drop_list=['url','desc','id','member_id','funded_amnt','funded_amnt_inv','int_rate','sub_grade','emp_title','issue_d','zip_code','out_prncp','out_prncp_inv','total_pymnt','total_pymnt_inv','total_rec_prncp','total_rec_int','total_rec_late_fee','recoveries','collection_recovery_fee','last_pymnt_d','last_pymnt_amnt', 'application_type']\n",
        "data = data.drop(drop_list, axis=1)"
      ],
      "execution_count": null,
      "outputs": []
    },
    {
      "cell_type": "code",
      "metadata": {
        "id": "rKvya7wxKIla",
        "colab": {
          "base_uri": "https://localhost:8080/"
        },
        "outputId": "ea95b057-d4db-4762-a84a-647da7159b73"
      },
      "source": [
        "data.shape"
      ],
      "execution_count": null,
      "outputs": [
        {
          "output_type": "execute_result",
          "data": {
            "text/plain": [
              "(42535, 36)"
            ]
          },
          "metadata": {
            "tags": []
          },
          "execution_count": 23
        }
      ]
    },
    {
      "cell_type": "markdown",
      "metadata": {
        "id": "ha1ffGxCKIlf"
      },
      "source": [
        "We have removed 23 columns that are redundant."
      ]
    },
    {
      "cell_type": "code",
      "metadata": {
        "id": "ZGtzbrjDKIlh",
        "colab": {
          "base_uri": "https://localhost:8080/"
        },
        "outputId": "d9ede576-820b-4dda-aaf6-814d9fa0b699"
      },
      "source": [
        "#handling categorical values - check the datatype of values in each column\n",
        "data.dtypes"
      ],
      "execution_count": null,
      "outputs": [
        {
          "output_type": "execute_result",
          "data": {
            "text/plain": [
              "loan_amnt                     float64\n",
              "term                          float64\n",
              "installment                   float64\n",
              "grade                          object\n",
              "emp_length                     object\n",
              "home_ownership                 object\n",
              "annual_inc                    float64\n",
              "verification_status            object\n",
              "loan_status                    object\n",
              "pymnt_plan                       bool\n",
              "purpose                        object\n",
              "title                          object\n",
              "addr_state                     object\n",
              "dti                           float64\n",
              "delinq_2yrs                   float64\n",
              "earliest_cr_line               object\n",
              "fico_range_low                float64\n",
              "fico_range_high               float64\n",
              "inq_last_6mths                float64\n",
              "mths_since_last_delinq        float64\n",
              "open_acc                      float64\n",
              "pub_rec                       float64\n",
              "revol_bal                     float64\n",
              "revol_util                    float64\n",
              "total_acc                     float64\n",
              "initial_list_status              bool\n",
              "last_credit_pull_d             object\n",
              "last_fico_range_high          float64\n",
              "last_fico_range_low           float64\n",
              "collections_12_mths_ex_med       bool\n",
              "policy_code                      bool\n",
              "acc_now_delinq                   bool\n",
              "chargeoff_within_12_mths         bool\n",
              "delinq_amnt                   float64\n",
              "pub_rec_bankruptcies          float64\n",
              "tax_liens                        bool\n",
              "dtype: object"
            ]
          },
          "metadata": {
            "tags": []
          },
          "execution_count": 24
        }
      ]
    },
    {
      "cell_type": "markdown",
      "metadata": {
        "id": "T2a3CwN9KIlm"
      },
      "source": [
        "Columns with object, bool dtypes may contain categorical values. \n",
        "\n",
        "\n",
        "Let us now replace all booleans and a few objects with 0/1."
      ]
    },
    {
      "cell_type": "code",
      "metadata": {
        "scrolled": true,
        "id": "xUDWYRcBKIln"
      },
      "source": [
        "#convert bool to int, object to int\n",
        "data[['emp_length', 'pymnt_plan', 'initial_list_status', 'policy_code', 'acc_now_delinq', 'tax_liens', 'collections_12_mths_ex_med', 'chargeoff_within_12_mths']] = data[['emp_length', 'pymnt_plan', 'initial_list_status', 'policy_code', 'acc_now_delinq', 'tax_liens', 'collections_12_mths_ex_med', 'chargeoff_within_12_mths']].astype(float)"
      ],
      "execution_count": null,
      "outputs": []
    },
    {
      "cell_type": "code",
      "metadata": {
        "id": "WAJKl3ptKIls",
        "colab": {
          "base_uri": "https://localhost:8080/"
        },
        "outputId": "e768d4a6-1844-4090-cd78-9263423c232d"
      },
      "source": [
        "data.dtypes"
      ],
      "execution_count": null,
      "outputs": [
        {
          "output_type": "execute_result",
          "data": {
            "text/plain": [
              "loan_amnt                     float64\n",
              "term                          float64\n",
              "installment                   float64\n",
              "grade                          object\n",
              "emp_length                    float64\n",
              "home_ownership                 object\n",
              "annual_inc                    float64\n",
              "verification_status            object\n",
              "loan_status                    object\n",
              "pymnt_plan                    float64\n",
              "purpose                        object\n",
              "title                          object\n",
              "addr_state                     object\n",
              "dti                           float64\n",
              "delinq_2yrs                   float64\n",
              "earliest_cr_line               object\n",
              "fico_range_low                float64\n",
              "fico_range_high               float64\n",
              "inq_last_6mths                float64\n",
              "mths_since_last_delinq        float64\n",
              "open_acc                      float64\n",
              "pub_rec                       float64\n",
              "revol_bal                     float64\n",
              "revol_util                    float64\n",
              "total_acc                     float64\n",
              "initial_list_status           float64\n",
              "last_credit_pull_d             object\n",
              "last_fico_range_high          float64\n",
              "last_fico_range_low           float64\n",
              "collections_12_mths_ex_med    float64\n",
              "policy_code                   float64\n",
              "acc_now_delinq                float64\n",
              "chargeoff_within_12_mths      float64\n",
              "delinq_amnt                   float64\n",
              "pub_rec_bankruptcies          float64\n",
              "tax_liens                     float64\n",
              "dtype: object"
            ]
          },
          "metadata": {
            "tags": []
          },
          "execution_count": 26
        }
      ]
    },
    {
      "cell_type": "markdown",
      "metadata": {
        "id": "pEy_2tVNKIlz"
      },
      "source": [
        "Let us assume that A>B>C>D>E>F>G"
      ]
    },
    {
      "cell_type": "code",
      "metadata": {
        "id": "KQ98LmhSKIl0"
      },
      "source": [
        "#handling ordinal values\n",
        "grade_dict = {'A':1,'B':2,'C':3,'D':4,'E':5,'F':6,'G':7}\n",
        "data['grade'].replace(grade_dict, inplace=True)"
      ],
      "execution_count": null,
      "outputs": []
    },
    {
      "cell_type": "code",
      "metadata": {
        "id": "N2SUM1RYKIl5",
        "colab": {
          "base_uri": "https://localhost:8080/"
        },
        "outputId": "b788d597-5d4f-4cdd-85c7-9b6bf80c5324"
      },
      "source": [
        "data.dtypes"
      ],
      "execution_count": null,
      "outputs": [
        {
          "output_type": "execute_result",
          "data": {
            "text/plain": [
              "loan_amnt                     float64\n",
              "term                          float64\n",
              "installment                   float64\n",
              "grade                           int64\n",
              "emp_length                    float64\n",
              "home_ownership                 object\n",
              "annual_inc                    float64\n",
              "verification_status            object\n",
              "loan_status                    object\n",
              "pymnt_plan                    float64\n",
              "purpose                        object\n",
              "title                          object\n",
              "addr_state                     object\n",
              "dti                           float64\n",
              "delinq_2yrs                   float64\n",
              "earliest_cr_line               object\n",
              "fico_range_low                float64\n",
              "fico_range_high               float64\n",
              "inq_last_6mths                float64\n",
              "mths_since_last_delinq        float64\n",
              "open_acc                      float64\n",
              "pub_rec                       float64\n",
              "revol_bal                     float64\n",
              "revol_util                    float64\n",
              "total_acc                     float64\n",
              "initial_list_status           float64\n",
              "last_credit_pull_d             object\n",
              "last_fico_range_high          float64\n",
              "last_fico_range_low           float64\n",
              "collections_12_mths_ex_med    float64\n",
              "policy_code                   float64\n",
              "acc_now_delinq                float64\n",
              "chargeoff_within_12_mths      float64\n",
              "delinq_amnt                   float64\n",
              "pub_rec_bankruptcies          float64\n",
              "tax_liens                     float64\n",
              "dtype: object"
            ]
          },
          "metadata": {
            "tags": []
          },
          "execution_count": 28
        }
      ]
    },
    {
      "cell_type": "code",
      "metadata": {
        "id": "RdqG2QEaKIl9",
        "colab": {
          "base_uri": "https://localhost:8080/"
        },
        "outputId": "52f7ac05-9b27-4575-e2c6-02831c19e800"
      },
      "source": [
        "data['purpose'].unique().shape"
      ],
      "execution_count": null,
      "outputs": [
        {
          "output_type": "execute_result",
          "data": {
            "text/plain": [
              "(14,)"
            ]
          },
          "metadata": {
            "tags": []
          },
          "execution_count": 29
        }
      ]
    },
    {
      "cell_type": "code",
      "metadata": {
        "id": "jN4Oq9PIKImB",
        "colab": {
          "base_uri": "https://localhost:8080/"
        },
        "outputId": "fd18cc95-cd24-4227-f1e2-76c8107e55ad"
      },
      "source": [
        "data['loan_status'].unique().shape"
      ],
      "execution_count": null,
      "outputs": [
        {
          "output_type": "execute_result",
          "data": {
            "text/plain": [
              "(9,)"
            ]
          },
          "metadata": {
            "tags": []
          },
          "execution_count": 30
        }
      ]
    },
    {
      "cell_type": "code",
      "metadata": {
        "id": "J5wsqlxcKImN",
        "colab": {
          "base_uri": "https://localhost:8080/"
        },
        "outputId": "bfa54e74-a6be-4348-faac-744c0f5678ec"
      },
      "source": [
        "data['title'].unique().shape"
      ],
      "execution_count": null,
      "outputs": [
        {
          "output_type": "execute_result",
          "data": {
            "text/plain": [
              "(21253,)"
            ]
          },
          "metadata": {
            "tags": []
          },
          "execution_count": 31
        }
      ]
    },
    {
      "cell_type": "code",
      "metadata": {
        "id": "5fjIwQ_yKImS",
        "colab": {
          "base_uri": "https://localhost:8080/"
        },
        "outputId": "1cc7f831-3a22-4e0f-f658-003eebf7dcfb"
      },
      "source": [
        "data['addr_state'].unique().shape"
      ],
      "execution_count": null,
      "outputs": [
        {
          "output_type": "execute_result",
          "data": {
            "text/plain": [
              "(50,)"
            ]
          },
          "metadata": {
            "tags": []
          },
          "execution_count": 32
        }
      ]
    },
    {
      "cell_type": "code",
      "metadata": {
        "id": "ZaZnLsbuKIma"
      },
      "source": [
        "#label encoding\n",
        "data['purpose'] = data['purpose'].astype('category').cat.codes\n",
        "data['loan_status'] = data['loan_status'].astype('category').cat.codes\n",
        "data['title'] = data['title'].astype('category').cat.codes\n",
        "data['addr_state'] = data['addr_state'].astype('category').cat.codes"
      ],
      "execution_count": null,
      "outputs": []
    },
    {
      "cell_type": "code",
      "metadata": {
        "id": "a5dT4_ezKImf",
        "colab": {
          "base_uri": "https://localhost:8080/"
        },
        "outputId": "cc31949f-d3af-40b3-bd0b-1a98a1da96cc"
      },
      "source": [
        "data.dtypes"
      ],
      "execution_count": null,
      "outputs": [
        {
          "output_type": "execute_result",
          "data": {
            "text/plain": [
              "loan_amnt                     float64\n",
              "term                          float64\n",
              "installment                   float64\n",
              "grade                           int64\n",
              "emp_length                    float64\n",
              "home_ownership                 object\n",
              "annual_inc                    float64\n",
              "verification_status            object\n",
              "loan_status                      int8\n",
              "pymnt_plan                    float64\n",
              "purpose                          int8\n",
              "title                           int16\n",
              "addr_state                       int8\n",
              "dti                           float64\n",
              "delinq_2yrs                   float64\n",
              "earliest_cr_line               object\n",
              "fico_range_low                float64\n",
              "fico_range_high               float64\n",
              "inq_last_6mths                float64\n",
              "mths_since_last_delinq        float64\n",
              "open_acc                      float64\n",
              "pub_rec                       float64\n",
              "revol_bal                     float64\n",
              "revol_util                    float64\n",
              "total_acc                     float64\n",
              "initial_list_status           float64\n",
              "last_credit_pull_d             object\n",
              "last_fico_range_high          float64\n",
              "last_fico_range_low           float64\n",
              "collections_12_mths_ex_med    float64\n",
              "policy_code                   float64\n",
              "acc_now_delinq                float64\n",
              "chargeoff_within_12_mths      float64\n",
              "delinq_amnt                   float64\n",
              "pub_rec_bankruptcies          float64\n",
              "tax_liens                     float64\n",
              "dtype: object"
            ]
          },
          "metadata": {
            "tags": []
          },
          "execution_count": 34
        }
      ]
    },
    {
      "cell_type": "code",
      "metadata": {
        "id": "tGJICXdTKImj"
      },
      "source": [
        "#one-hot encoding\n",
        "data = pd.get_dummies(data, columns=['home_ownership', 'verification_status'], prefix = ['home_ownership', 'verification_status'])"
      ],
      "execution_count": null,
      "outputs": []
    },
    {
      "cell_type": "code",
      "metadata": {
        "id": "w9tY2080KImp",
        "colab": {
          "base_uri": "https://localhost:8080/"
        },
        "outputId": "ac2cfcf0-b4b3-4749-d639-68ec58f35067"
      },
      "source": [
        "data.dtypes"
      ],
      "execution_count": null,
      "outputs": [
        {
          "output_type": "execute_result",
          "data": {
            "text/plain": [
              "loan_amnt                              float64\n",
              "term                                   float64\n",
              "installment                            float64\n",
              "grade                                    int64\n",
              "emp_length                             float64\n",
              "annual_inc                             float64\n",
              "loan_status                               int8\n",
              "pymnt_plan                             float64\n",
              "purpose                                   int8\n",
              "title                                    int16\n",
              "addr_state                                int8\n",
              "dti                                    float64\n",
              "delinq_2yrs                            float64\n",
              "earliest_cr_line                        object\n",
              "fico_range_low                         float64\n",
              "fico_range_high                        float64\n",
              "inq_last_6mths                         float64\n",
              "mths_since_last_delinq                 float64\n",
              "open_acc                               float64\n",
              "pub_rec                                float64\n",
              "revol_bal                              float64\n",
              "revol_util                             float64\n",
              "total_acc                              float64\n",
              "initial_list_status                    float64\n",
              "last_credit_pull_d                      object\n",
              "last_fico_range_high                   float64\n",
              "last_fico_range_low                    float64\n",
              "collections_12_mths_ex_med             float64\n",
              "policy_code                            float64\n",
              "acc_now_delinq                         float64\n",
              "chargeoff_within_12_mths               float64\n",
              "delinq_amnt                            float64\n",
              "pub_rec_bankruptcies                   float64\n",
              "tax_liens                              float64\n",
              "home_ownership_MORTGAGE                  uint8\n",
              "home_ownership_NONE                      uint8\n",
              "home_ownership_OTHER                     uint8\n",
              "home_ownership_OWN                       uint8\n",
              "home_ownership_RENT                      uint8\n",
              "verification_status_Not Verified         uint8\n",
              "verification_status_Source Verified      uint8\n",
              "verification_status_Verified             uint8\n",
              "dtype: object"
            ]
          },
          "metadata": {
            "tags": []
          },
          "execution_count": 36
        }
      ]
    },
    {
      "cell_type": "markdown",
      "metadata": {
        "id": "ZO8AX3_peDhg"
      },
      "source": [
        "### **Identify existence of unique values**"
      ]
    },
    {
      "cell_type": "code",
      "metadata": {
        "id": "ggGbXEeJKImw",
        "colab": {
          "base_uri": "https://localhost:8080/"
        },
        "outputId": "7a886e49-aa1f-44b7-f56a-30d516910b06"
      },
      "source": [
        "for col in data.columns:\n",
        "  if (len(data[col].unique()) < 4):\n",
        "    print(data[col].value_counts())"
      ],
      "execution_count": null,
      "outputs": [
        {
          "output_type": "stream",
          "text": [
            "36.0    31534\n",
            "60.0    11001\n",
            "Name: term, dtype: int64\n",
            "0.0    42534\n",
            "1.0        1\n",
            "Name: pymnt_plan, dtype: int64\n",
            "0.0    42535\n",
            "Name: initial_list_status, dtype: int64\n",
            "0.0    42535\n",
            "Name: collections_12_mths_ex_med, dtype: int64\n",
            "1.0    42535\n",
            "Name: policy_code, dtype: int64\n",
            "0.0    42531\n",
            "1.0        4\n",
            "Name: acc_now_delinq, dtype: int64\n",
            "0.0    42535\n",
            "Name: chargeoff_within_12_mths, dtype: int64\n",
            "0.0       42533\n",
            "6053.0        1\n",
            "27.0          1\n",
            "Name: delinq_amnt, dtype: int64\n",
            "0.0    40681\n",
            "1.0     1846\n",
            "2.0        8\n",
            "Name: pub_rec_bankruptcies, dtype: int64\n",
            "0.0    42534\n",
            "1.0        1\n",
            "Name: tax_liens, dtype: int64\n",
            "0    23576\n",
            "1    18959\n",
            "Name: home_ownership_MORTGAGE, dtype: int64\n",
            "0    42527\n",
            "1        8\n",
            "Name: home_ownership_NONE, dtype: int64\n",
            "0    42399\n",
            "1      136\n",
            "Name: home_ownership_OTHER, dtype: int64\n",
            "0    39284\n",
            "1     3251\n",
            "Name: home_ownership_OWN, dtype: int64\n",
            "0    22354\n",
            "1    20181\n",
            "Name: home_ownership_RENT, dtype: int64\n",
            "0    23777\n",
            "1    18758\n",
            "Name: verification_status_Not Verified, dtype: int64\n",
            "0    32229\n",
            "1    10306\n",
            "Name: verification_status_Source Verified, dtype: int64\n",
            "0    29064\n",
            "1    13471\n",
            "Name: verification_status_Verified, dtype: int64\n"
          ],
          "name": "stdout"
        }
      ]
    },
    {
      "cell_type": "markdown",
      "metadata": {
        "id": "JhvB2eTL1JmE"
      },
      "source": [
        "The column 'pymnt_plan' has less than 4 unique values"
      ]
    },
    {
      "cell_type": "code",
      "metadata": {
        "id": "-uRtOFi3KIm2",
        "colab": {
          "base_uri": "https://localhost:8080/"
        },
        "outputId": "b9cdddc4-1e9b-4caa-99f5-f2347d238a2e"
      },
      "source": [
        "print (data['pymnt_plan'].value_counts())"
      ],
      "execution_count": null,
      "outputs": [
        {
          "output_type": "stream",
          "text": [
            "0.0    42534\n",
            "1.0        1\n",
            "Name: pymnt_plan, dtype: int64\n"
          ],
          "name": "stdout"
        }
      ]
    },
    {
      "cell_type": "markdown",
      "metadata": {
        "id": "644fjjVk1SGV"
      },
      "source": [
        "Drop the column 'pymnt_plan'"
      ]
    },
    {
      "cell_type": "code",
      "metadata": {
        "id": "KT7uphrcKIm8"
      },
      "source": [
        "data = data.drop('pymnt_plan', axis=1)\n",
        "data = data.drop('initial_list_status', axis=1)"
      ],
      "execution_count": null,
      "outputs": []
    },
    {
      "cell_type": "markdown",
      "metadata": {
        "id": "QhP77YXb1WT-"
      },
      "source": [
        "All the columns with number of unique values less than 4 are dropped"
      ]
    },
    {
      "cell_type": "code",
      "metadata": {
        "id": "Yb0qpKqNKInA"
      },
      "source": [
        "data = data.drop('collections_12_mths_ex_med', axis=1)"
      ],
      "execution_count": null,
      "outputs": []
    },
    {
      "cell_type": "code",
      "metadata": {
        "id": "wEV_1yJUKInJ"
      },
      "source": [
        "data = data.drop('policy_code', axis=1)"
      ],
      "execution_count": null,
      "outputs": []
    },
    {
      "cell_type": "code",
      "metadata": {
        "id": "xGyWVLxLKInV"
      },
      "source": [
        "data = data.drop('acc_now_delinq', axis=1)"
      ],
      "execution_count": null,
      "outputs": []
    },
    {
      "cell_type": "code",
      "metadata": {
        "id": "-RaEmMqwKInb"
      },
      "source": [
        "data = data.drop('chargeoff_within_12_mths', axis=1)"
      ],
      "execution_count": null,
      "outputs": []
    },
    {
      "cell_type": "code",
      "metadata": {
        "id": "MUmvcKtZKIni"
      },
      "source": [
        "data = data.drop('delinq_amnt', axis=1)"
      ],
      "execution_count": null,
      "outputs": []
    },
    {
      "cell_type": "code",
      "metadata": {
        "id": "tYfb9-P0KIns"
      },
      "source": [
        "data = data.drop('tax_liens', axis=1)"
      ],
      "execution_count": null,
      "outputs": []
    },
    {
      "cell_type": "markdown",
      "metadata": {
        "id": "E3ebeqSu1xaC"
      },
      "source": [
        "Filtered data is stored in a separate section"
      ]
    },
    {
      "cell_type": "code",
      "metadata": {
        "id": "kzQkIv82KInw"
      },
      "source": [
        "data.to_csv('filtered-loans.csv',index=False)"
      ],
      "execution_count": null,
      "outputs": []
    },
    {
      "cell_type": "code",
      "metadata": {
        "id": "5M6N8axwKIn1",
        "colab": {
          "base_uri": "https://localhost:8080/",
          "height": 232
        },
        "outputId": "7d7c0071-8417-4af0-9613-8e76383bc299"
      },
      "source": [
        "data.head()"
      ],
      "execution_count": null,
      "outputs": [
        {
          "output_type": "execute_result",
          "data": {
            "text/html": [
              "<div>\n",
              "<style scoped>\n",
              "    .dataframe tbody tr th:only-of-type {\n",
              "        vertical-align: middle;\n",
              "    }\n",
              "\n",
              "    .dataframe tbody tr th {\n",
              "        vertical-align: top;\n",
              "    }\n",
              "\n",
              "    .dataframe thead th {\n",
              "        text-align: right;\n",
              "    }\n",
              "</style>\n",
              "<table border=\"1\" class=\"dataframe\">\n",
              "  <thead>\n",
              "    <tr style=\"text-align: right;\">\n",
              "      <th></th>\n",
              "      <th>loan_amnt</th>\n",
              "      <th>term</th>\n",
              "      <th>installment</th>\n",
              "      <th>grade</th>\n",
              "      <th>emp_length</th>\n",
              "      <th>annual_inc</th>\n",
              "      <th>loan_status</th>\n",
              "      <th>purpose</th>\n",
              "      <th>title</th>\n",
              "      <th>addr_state</th>\n",
              "      <th>dti</th>\n",
              "      <th>delinq_2yrs</th>\n",
              "      <th>earliest_cr_line</th>\n",
              "      <th>fico_range_low</th>\n",
              "      <th>fico_range_high</th>\n",
              "      <th>inq_last_6mths</th>\n",
              "      <th>mths_since_last_delinq</th>\n",
              "      <th>open_acc</th>\n",
              "      <th>pub_rec</th>\n",
              "      <th>revol_bal</th>\n",
              "      <th>revol_util</th>\n",
              "      <th>total_acc</th>\n",
              "      <th>last_credit_pull_d</th>\n",
              "      <th>last_fico_range_high</th>\n",
              "      <th>last_fico_range_low</th>\n",
              "      <th>pub_rec_bankruptcies</th>\n",
              "      <th>home_ownership_MORTGAGE</th>\n",
              "      <th>home_ownership_NONE</th>\n",
              "      <th>home_ownership_OTHER</th>\n",
              "      <th>home_ownership_OWN</th>\n",
              "      <th>home_ownership_RENT</th>\n",
              "      <th>verification_status_Not Verified</th>\n",
              "      <th>verification_status_Source Verified</th>\n",
              "      <th>verification_status_Verified</th>\n",
              "    </tr>\n",
              "  </thead>\n",
              "  <tbody>\n",
              "    <tr>\n",
              "      <th>0</th>\n",
              "      <td>5000.0</td>\n",
              "      <td>36.0</td>\n",
              "      <td>162.87</td>\n",
              "      <td>2</td>\n",
              "      <td>10.0</td>\n",
              "      <td>24000.0</td>\n",
              "      <td>5</td>\n",
              "      <td>1</td>\n",
              "      <td>3160</td>\n",
              "      <td>3</td>\n",
              "      <td>27.65</td>\n",
              "      <td>0.0</td>\n",
              "      <td>Jan-85</td>\n",
              "      <td>735.0</td>\n",
              "      <td>739.0</td>\n",
              "      <td>1.0</td>\n",
              "      <td>0.0</td>\n",
              "      <td>3.0</td>\n",
              "      <td>0.0</td>\n",
              "      <td>13648.0</td>\n",
              "      <td>0.837</td>\n",
              "      <td>9.0</td>\n",
              "      <td>Sep-16</td>\n",
              "      <td>744.0</td>\n",
              "      <td>740.0</td>\n",
              "      <td>0.0</td>\n",
              "      <td>0</td>\n",
              "      <td>0</td>\n",
              "      <td>0</td>\n",
              "      <td>0</td>\n",
              "      <td>1</td>\n",
              "      <td>0</td>\n",
              "      <td>0</td>\n",
              "      <td>1</td>\n",
              "    </tr>\n",
              "    <tr>\n",
              "      <th>1</th>\n",
              "      <td>2500.0</td>\n",
              "      <td>60.0</td>\n",
              "      <td>59.83</td>\n",
              "      <td>3</td>\n",
              "      <td>1.0</td>\n",
              "      <td>30000.0</td>\n",
              "      <td>0</td>\n",
              "      <td>0</td>\n",
              "      <td>17548</td>\n",
              "      <td>10</td>\n",
              "      <td>1.00</td>\n",
              "      <td>0.0</td>\n",
              "      <td>Apr-99</td>\n",
              "      <td>740.0</td>\n",
              "      <td>744.0</td>\n",
              "      <td>5.0</td>\n",
              "      <td>0.0</td>\n",
              "      <td>3.0</td>\n",
              "      <td>0.0</td>\n",
              "      <td>1687.0</td>\n",
              "      <td>0.094</td>\n",
              "      <td>4.0</td>\n",
              "      <td>Sep-16</td>\n",
              "      <td>499.0</td>\n",
              "      <td>0.0</td>\n",
              "      <td>0.0</td>\n",
              "      <td>0</td>\n",
              "      <td>0</td>\n",
              "      <td>0</td>\n",
              "      <td>0</td>\n",
              "      <td>1</td>\n",
              "      <td>0</td>\n",
              "      <td>1</td>\n",
              "      <td>0</td>\n",
              "    </tr>\n",
              "    <tr>\n",
              "      <th>2</th>\n",
              "      <td>2400.0</td>\n",
              "      <td>36.0</td>\n",
              "      <td>84.33</td>\n",
              "      <td>3</td>\n",
              "      <td>10.0</td>\n",
              "      <td>12252.0</td>\n",
              "      <td>5</td>\n",
              "      <td>11</td>\n",
              "      <td>20476</td>\n",
              "      <td>14</td>\n",
              "      <td>8.72</td>\n",
              "      <td>0.0</td>\n",
              "      <td>Nov-01</td>\n",
              "      <td>735.0</td>\n",
              "      <td>739.0</td>\n",
              "      <td>2.0</td>\n",
              "      <td>0.0</td>\n",
              "      <td>2.0</td>\n",
              "      <td>0.0</td>\n",
              "      <td>2956.0</td>\n",
              "      <td>0.985</td>\n",
              "      <td>10.0</td>\n",
              "      <td>Sep-16</td>\n",
              "      <td>719.0</td>\n",
              "      <td>715.0</td>\n",
              "      <td>0.0</td>\n",
              "      <td>0</td>\n",
              "      <td>0</td>\n",
              "      <td>0</td>\n",
              "      <td>0</td>\n",
              "      <td>1</td>\n",
              "      <td>1</td>\n",
              "      <td>0</td>\n",
              "      <td>0</td>\n",
              "    </tr>\n",
              "    <tr>\n",
              "      <th>3</th>\n",
              "      <td>10000.0</td>\n",
              "      <td>36.0</td>\n",
              "      <td>339.31</td>\n",
              "      <td>3</td>\n",
              "      <td>10.0</td>\n",
              "      <td>49200.0</td>\n",
              "      <td>5</td>\n",
              "      <td>9</td>\n",
              "      <td>20360</td>\n",
              "      <td>4</td>\n",
              "      <td>20.00</td>\n",
              "      <td>0.0</td>\n",
              "      <td>Feb-96</td>\n",
              "      <td>690.0</td>\n",
              "      <td>694.0</td>\n",
              "      <td>1.0</td>\n",
              "      <td>35.0</td>\n",
              "      <td>10.0</td>\n",
              "      <td>0.0</td>\n",
              "      <td>5598.0</td>\n",
              "      <td>0.210</td>\n",
              "      <td>37.0</td>\n",
              "      <td>Apr-16</td>\n",
              "      <td>604.0</td>\n",
              "      <td>600.0</td>\n",
              "      <td>0.0</td>\n",
              "      <td>0</td>\n",
              "      <td>0</td>\n",
              "      <td>0</td>\n",
              "      <td>0</td>\n",
              "      <td>1</td>\n",
              "      <td>0</td>\n",
              "      <td>1</td>\n",
              "      <td>0</td>\n",
              "    </tr>\n",
              "    <tr>\n",
              "      <th>4</th>\n",
              "      <td>3000.0</td>\n",
              "      <td>60.0</td>\n",
              "      <td>67.79</td>\n",
              "      <td>2</td>\n",
              "      <td>1.0</td>\n",
              "      <td>80000.0</td>\n",
              "      <td>1</td>\n",
              "      <td>9</td>\n",
              "      <td>13357</td>\n",
              "      <td>36</td>\n",
              "      <td>17.94</td>\n",
              "      <td>0.0</td>\n",
              "      <td>Jan-96</td>\n",
              "      <td>695.0</td>\n",
              "      <td>699.0</td>\n",
              "      <td>0.0</td>\n",
              "      <td>38.0</td>\n",
              "      <td>15.0</td>\n",
              "      <td>0.0</td>\n",
              "      <td>27783.0</td>\n",
              "      <td>0.539</td>\n",
              "      <td>38.0</td>\n",
              "      <td>Sep-16</td>\n",
              "      <td>694.0</td>\n",
              "      <td>690.0</td>\n",
              "      <td>0.0</td>\n",
              "      <td>0</td>\n",
              "      <td>0</td>\n",
              "      <td>0</td>\n",
              "      <td>0</td>\n",
              "      <td>1</td>\n",
              "      <td>0</td>\n",
              "      <td>1</td>\n",
              "      <td>0</td>\n",
              "    </tr>\n",
              "  </tbody>\n",
              "</table>\n",
              "</div>"
            ],
            "text/plain": [
              "   loan_amnt  ...  verification_status_Verified\n",
              "0     5000.0  ...                             1\n",
              "1     2500.0  ...                             0\n",
              "2     2400.0  ...                             0\n",
              "3    10000.0  ...                             0\n",
              "4     3000.0  ...                             0\n",
              "\n",
              "[5 rows x 34 columns]"
            ]
          },
          "metadata": {
            "tags": []
          },
          "execution_count": 47
        }
      ]
    },
    {
      "cell_type": "markdown",
      "metadata": {
        "id": "rBtfgHXQU_-w"
      },
      "source": [
        "### **Identification and Handling of mixed dataypes**\n",
        "\n",
        "Converting the columns containing date information in the form of \"Mon-Year\" to integer"
      ]
    },
    {
      "cell_type": "code",
      "metadata": {
        "id": "2Do-GYuBU_DO"
      },
      "source": [
        "# converting date in the form of month-year to int\n",
        "from datetime import datetime\n",
        "def convert_date(date):\n",
        "  split_date = date.split('-')\n",
        "  month =  datetime.strptime(split_date[0], \"%b\").month\n",
        "  year = int(split_date[1]);\n",
        "  year\n",
        "  \n",
        "  if(year > 20):\n",
        "    year+=1900\n",
        "  else:\n",
        "    year+=2000\n",
        "  \n",
        "  curr_year = datetime.now().year\n",
        "  curr_month = datetime.now().month\n",
        "\n",
        "  return (curr_year - year)*12 + (curr_month - month)  #returns number of months since given month-year\n",
        "\n",
        "\n"
      ],
      "execution_count": null,
      "outputs": []
    },
    {
      "cell_type": "code",
      "metadata": {
        "id": "2cl2L8mCU_eB"
      },
      "source": [
        "#calling the functions to convert dates\n",
        "data.last_credit_pull_d = [convert_date(x) for x in data.last_credit_pull_d]  #returns number of months since latest credit pull till now\n",
        "data.earliest_cr_line = [convert_date(x) for x in data.earliest_cr_line]   #returns number of months since earliest credit pull till now"
      ],
      "execution_count": null,
      "outputs": []
    },
    {
      "cell_type": "markdown",
      "metadata": {
        "id": "Wi3bcom9KIn9"
      },
      "source": [
        "### **Identify target class**"
      ]
    },
    {
      "cell_type": "markdown",
      "metadata": {
        "id": "YzoN457YKIn_"
      },
      "source": [
        "Identifying target class is necessary to apply machine learning algorithms. In this dataset,target class is loan_status.This class describes current status of loan.From dataset,we can try to obtain factors affecting loan status."
      ]
    },
    {
      "cell_type": "code",
      "metadata": {
        "id": "vGJDJ7sWKIoB",
        "colab": {
          "base_uri": "https://localhost:8080/"
        },
        "outputId": "8208c3fa-b7dd-4326-90b3-13d5d09693d7"
      },
      "source": [
        "data.dtypes"
      ],
      "execution_count": null,
      "outputs": [
        {
          "output_type": "execute_result",
          "data": {
            "text/plain": [
              "loan_amnt                              float64\n",
              "term                                   float64\n",
              "installment                            float64\n",
              "grade                                    int64\n",
              "emp_length                             float64\n",
              "annual_inc                             float64\n",
              "loan_status                               int8\n",
              "purpose                                   int8\n",
              "title                                    int16\n",
              "addr_state                                int8\n",
              "dti                                    float64\n",
              "delinq_2yrs                            float64\n",
              "earliest_cr_line                         int64\n",
              "fico_range_low                         float64\n",
              "fico_range_high                        float64\n",
              "inq_last_6mths                         float64\n",
              "mths_since_last_delinq                 float64\n",
              "open_acc                               float64\n",
              "pub_rec                                float64\n",
              "revol_bal                              float64\n",
              "revol_util                             float64\n",
              "total_acc                              float64\n",
              "last_credit_pull_d                       int64\n",
              "last_fico_range_high                   float64\n",
              "last_fico_range_low                    float64\n",
              "pub_rec_bankruptcies                   float64\n",
              "home_ownership_MORTGAGE                  uint8\n",
              "home_ownership_NONE                      uint8\n",
              "home_ownership_OTHER                     uint8\n",
              "home_ownership_OWN                       uint8\n",
              "home_ownership_RENT                      uint8\n",
              "verification_status_Not Verified         uint8\n",
              "verification_status_Source Verified      uint8\n",
              "verification_status_Verified             uint8\n",
              "dtype: object"
            ]
          },
          "metadata": {
            "tags": []
          },
          "execution_count": 50
        }
      ]
    },
    {
      "cell_type": "markdown",
      "metadata": {
        "id": "0doSnQ-zKIoE"
      },
      "source": [
        "### **Identify range of values in each column**\n",
        "We retrieve minimum and maximum values in each column.It helps to simply observe and identify any outliers available as a basic step.This comparison can be done by column description with respect to min max values whether values are in expected range or not."
      ]
    },
    {
      "cell_type": "code",
      "metadata": {
        "id": "yCe7pFE3KIoF",
        "colab": {
          "base_uri": "https://localhost:8080/"
        },
        "outputId": "afcd72b1-76b0-4ec8-9561-73ed8ebe3677"
      },
      "source": [
        "object_columns_df = data.select_dtypes(include=['object'])\n",
        "print(object_columns_df.iloc[0])"
      ],
      "execution_count": null,
      "outputs": [
        {
          "output_type": "stream",
          "text": [
            "Series([], Name: 0, dtype: float64)\n"
          ],
          "name": "stdout"
        }
      ]
    },
    {
      "cell_type": "code",
      "metadata": {
        "id": "ngLPfhz1KIp4",
        "colab": {
          "base_uri": "https://localhost:8080/"
        },
        "outputId": "1db85337-9682-4299-856a-da2a02947210"
      },
      "source": [
        "data['grade'] = data.grade.astype(float)\n",
        "data['title'] = data.grade.astype(float)\n",
        "data['purpose'] = data.grade.astype(float)\n",
        "data['loan_status'] = data.grade.astype(float)\n",
        "data['addr_state'] = data.grade.astype(float)\n",
        "data['earliest_cr_line'] = data.grade.astype(float)\n",
        "data['last_credit_pull_d'] = data.grade.astype(float)\n",
        "data.dtypes"
      ],
      "execution_count": null,
      "outputs": [
        {
          "output_type": "execute_result",
          "data": {
            "text/plain": [
              "loan_amnt                              float64\n",
              "term                                   float64\n",
              "installment                            float64\n",
              "grade                                  float64\n",
              "emp_length                             float64\n",
              "annual_inc                             float64\n",
              "loan_status                            float64\n",
              "purpose                                float64\n",
              "title                                  float64\n",
              "addr_state                             float64\n",
              "dti                                    float64\n",
              "delinq_2yrs                            float64\n",
              "earliest_cr_line                       float64\n",
              "fico_range_low                         float64\n",
              "fico_range_high                        float64\n",
              "inq_last_6mths                         float64\n",
              "mths_since_last_delinq                 float64\n",
              "open_acc                               float64\n",
              "pub_rec                                float64\n",
              "revol_bal                              float64\n",
              "revol_util                             float64\n",
              "total_acc                              float64\n",
              "last_credit_pull_d                     float64\n",
              "last_fico_range_high                   float64\n",
              "last_fico_range_low                    float64\n",
              "pub_rec_bankruptcies                   float64\n",
              "home_ownership_MORTGAGE                  uint8\n",
              "home_ownership_NONE                      uint8\n",
              "home_ownership_OTHER                     uint8\n",
              "home_ownership_OWN                       uint8\n",
              "home_ownership_RENT                      uint8\n",
              "verification_status_Not Verified         uint8\n",
              "verification_status_Source Verified      uint8\n",
              "verification_status_Verified             uint8\n",
              "dtype: object"
            ]
          },
          "metadata": {
            "tags": []
          },
          "execution_count": 52
        }
      ]
    },
    {
      "cell_type": "code",
      "metadata": {
        "id": "svtdLeLhKIov"
      },
      "source": [
        "float_columns_df = data.select_dtypes(include=['float64'])\n",
        "\n",
        "uint8_columns_df = data.select_dtypes(include=['uint8'])"
      ],
      "execution_count": null,
      "outputs": []
    },
    {
      "cell_type": "code",
      "metadata": {
        "id": "BTPKwrODKIo1",
        "colab": {
          "base_uri": "https://localhost:8080/"
        },
        "outputId": "46729fc2-b667-4921-fcaa-fb7874d47195"
      },
      "source": [
        "for col in float_columns_df:\n",
        "    print(col ,float_columns_df[col].min())"
      ],
      "execution_count": null,
      "outputs": [
        {
          "output_type": "stream",
          "text": [
            "loan_amnt 500.0\n",
            "term 36.0\n",
            "installment 15.67\n",
            "grade 1.0\n",
            "emp_length 1.0\n",
            "annual_inc 1896.0\n",
            "loan_status 1.0\n",
            "purpose 1.0\n",
            "title 1.0\n",
            "addr_state 1.0\n",
            "dti 0.0\n",
            "delinq_2yrs 0.0\n",
            "earliest_cr_line 1.0\n",
            "fico_range_low 610.0\n",
            "fico_range_high 614.0\n",
            "inq_last_6mths 0.0\n",
            "mths_since_last_delinq 0.0\n",
            "open_acc 1.0\n",
            "pub_rec 0.0\n",
            "revol_bal 0.0\n",
            "revol_util 0.0\n",
            "total_acc 1.0\n",
            "last_credit_pull_d 1.0\n",
            "last_fico_range_high 0.0\n",
            "last_fico_range_low 0.0\n",
            "pub_rec_bankruptcies 0.0\n"
          ],
          "name": "stdout"
        }
      ]
    },
    {
      "cell_type": "code",
      "metadata": {
        "id": "zpEgmjPWKIo5",
        "colab": {
          "base_uri": "https://localhost:8080/"
        },
        "outputId": "2c73b633-7962-45e7-e3a3-91e75385f868"
      },
      "source": [
        "float_columns_df['loan_amnt'].min()"
      ],
      "execution_count": null,
      "outputs": [
        {
          "output_type": "execute_result",
          "data": {
            "text/plain": [
              "500.0"
            ]
          },
          "metadata": {
            "tags": []
          },
          "execution_count": 55
        }
      ]
    },
    {
      "cell_type": "code",
      "metadata": {
        "id": "YenrJo-dKIpA",
        "colab": {
          "base_uri": "https://localhost:8080/"
        },
        "outputId": "949f13d2-787d-458c-d107-e362fea57176"
      },
      "source": [
        "for col in float_columns_df:\n",
        "    print(col ,float_columns_df[col].max())"
      ],
      "execution_count": null,
      "outputs": [
        {
          "output_type": "stream",
          "text": [
            "loan_amnt 35000.0\n",
            "term 60.0\n",
            "installment 1305.19\n",
            "grade 7.0\n",
            "emp_length 10.0\n",
            "annual_inc 6000000.0\n",
            "loan_status 7.0\n",
            "purpose 7.0\n",
            "title 7.0\n",
            "addr_state 7.0\n",
            "dti 29.99\n",
            "delinq_2yrs 13.0\n",
            "earliest_cr_line 7.0\n",
            "fico_range_low 825.0\n",
            "fico_range_high 829.0\n",
            "inq_last_6mths 33.0\n",
            "mths_since_last_delinq 120.0\n",
            "open_acc 47.0\n",
            "pub_rec 5.0\n",
            "revol_bal 1207359.0\n",
            "revol_util 1.19\n",
            "total_acc 90.0\n",
            "last_credit_pull_d 7.0\n",
            "last_fico_range_high 850.0\n",
            "last_fico_range_low 845.0\n",
            "pub_rec_bankruptcies 2.0\n"
          ],
          "name": "stdout"
        }
      ]
    },
    {
      "cell_type": "code",
      "metadata": {
        "id": "9Fxc8SSpKIpX",
        "colab": {
          "base_uri": "https://localhost:8080/"
        },
        "outputId": "0fe0c568-8307-447d-94b9-95d1ad4b7117"
      },
      "source": [
        "for col in uint8_columns_df:\n",
        "    print(col ,uint8_columns_df[col].min())"
      ],
      "execution_count": null,
      "outputs": [
        {
          "output_type": "stream",
          "text": [
            "home_ownership_MORTGAGE 0\n",
            "home_ownership_NONE 0\n",
            "home_ownership_OTHER 0\n",
            "home_ownership_OWN 0\n",
            "home_ownership_RENT 0\n",
            "verification_status_Not Verified 0\n",
            "verification_status_Source Verified 0\n",
            "verification_status_Verified 0\n"
          ],
          "name": "stdout"
        }
      ]
    },
    {
      "cell_type": "code",
      "metadata": {
        "id": "w8L5yCs-KIpp",
        "colab": {
          "base_uri": "https://localhost:8080/"
        },
        "outputId": "ef9fe36d-1e1c-486d-ad68-b3c0d3e4ab85"
      },
      "source": [
        "for col in uint8_columns_df:\n",
        "    print(col ,uint8_columns_df[col].max())"
      ],
      "execution_count": null,
      "outputs": [
        {
          "output_type": "stream",
          "text": [
            "home_ownership_MORTGAGE 1\n",
            "home_ownership_NONE 1\n",
            "home_ownership_OTHER 1\n",
            "home_ownership_OWN 1\n",
            "home_ownership_RENT 1\n",
            "verification_status_Not Verified 1\n",
            "verification_status_Source Verified 1\n",
            "verification_status_Verified 1\n"
          ],
          "name": "stdout"
        }
      ]
    },
    {
      "cell_type": "markdown",
      "metadata": {
        "id": "MlIteVOfKIps"
      },
      "source": [
        "### **Identify scale of each column**\n",
        "\n",
        "This step is done to confirm whether feature scaling is required or not."
      ]
    },
    {
      "cell_type": "markdown",
      "metadata": {
        "id": "323SUGVJKIps"
      },
      "source": [
        "We are having 34 columns in preprocessed dataset."
      ]
    },
    {
      "cell_type": "code",
      "metadata": {
        "id": "cuWXjObwKIpt",
        "colab": {
          "base_uri": "https://localhost:8080/"
        },
        "outputId": "cb712907-d6b6-4a96-84ce-2394250c98ba"
      },
      "source": [
        "#output has 8 columns which are having boolean values(0,1) which represents yes/no \n",
        "for col in uint8_columns_df:\n",
        "    print(col)"
      ],
      "execution_count": null,
      "outputs": [
        {
          "output_type": "stream",
          "text": [
            "home_ownership_MORTGAGE\n",
            "home_ownership_NONE\n",
            "home_ownership_OTHER\n",
            "home_ownership_OWN\n",
            "home_ownership_RENT\n",
            "verification_status_Not Verified\n",
            "verification_status_Source Verified\n",
            "verification_status_Verified\n"
          ],
          "name": "stdout"
        }
      ]
    },
    {
      "cell_type": "markdown",
      "metadata": {
        "id": "ZlKaCCJuKIpv"
      },
      "source": [
        "After label encoding, 4 columns(purpose,Title,loan_status,addr_state) having datatype object converted to int.So scale becomes number of categories within the column i.e; range "
      ]
    },
    {
      "cell_type": "markdown",
      "metadata": {
        "id": "Ww2sqgkyKIpw"
      },
      "source": [
        "After categorical values converted to float, grade column will have values 1 to 7."
      ]
    },
    {
      "cell_type": "markdown",
      "metadata": {
        "id": "CiynGzQYKIpx"
      },
      "source": [
        "### **Scale of columns having float datatype**"
      ]
    },
    {
      "cell_type": "markdown",
      "metadata": {
        "id": "pWXPf-bEKIpy"
      },
      "source": [
        "        loan_amount      rupees\n",
        "        term             months\n",
        "        installment      rupees\n",
        "        emp_length       years\n",
        "        annual_inc       rupees\n",
        "        dti              ratio(no scale)\n",
        "        delinq_2yrs      count(no. of 30+ days due)\n",
        "        fico_range_low   score(no specific unit)\n",
        "        fico_range_high  score\n",
        "        inq_last_6mnts   count(no. of inquires)\n",
        "    mths_since_last_delinq   months\n",
        "        open_acc         count\n",
        "        pub_rec          count\n",
        "        revol_bal        credit \n",
        "        revol_util       credit\n",
        "        total_acc        count\n",
        "    last_fico_range_high     score\n",
        "    last_fico_range_low      score\n",
        "    pub_rec_bankruptcies     count\n",
        "        \n",
        "        \n",
        "            "
      ]
    },
    {
      "cell_type": "markdown",
      "metadata": {
        "id": "vXgBXdWEKIpy"
      },
      "source": [
        "Since,we have different kinds of scales, it is preferable to apply feature scaling.All datatypes are float/int,so we can use minmax scaling.This scaling leads to obtain equal contribution in algorithm irrespective of values in column."
      ]
    },
    {
      "cell_type": "code",
      "metadata": {
        "id": "w4bzZDCpKIpy",
        "colab": {
          "base_uri": "https://localhost:8080/"
        },
        "outputId": "93332118-a5e7-4bd3-d9eb-614851175934"
      },
      "source": [
        "data.dtypes"
      ],
      "execution_count": null,
      "outputs": [
        {
          "output_type": "execute_result",
          "data": {
            "text/plain": [
              "loan_amnt                              float64\n",
              "term                                   float64\n",
              "installment                            float64\n",
              "grade                                  float64\n",
              "emp_length                             float64\n",
              "annual_inc                             float64\n",
              "loan_status                            float64\n",
              "purpose                                float64\n",
              "title                                  float64\n",
              "addr_state                             float64\n",
              "dti                                    float64\n",
              "delinq_2yrs                            float64\n",
              "earliest_cr_line                       float64\n",
              "fico_range_low                         float64\n",
              "fico_range_high                        float64\n",
              "inq_last_6mths                         float64\n",
              "mths_since_last_delinq                 float64\n",
              "open_acc                               float64\n",
              "pub_rec                                float64\n",
              "revol_bal                              float64\n",
              "revol_util                             float64\n",
              "total_acc                              float64\n",
              "last_credit_pull_d                     float64\n",
              "last_fico_range_high                   float64\n",
              "last_fico_range_low                    float64\n",
              "pub_rec_bankruptcies                   float64\n",
              "home_ownership_MORTGAGE                  uint8\n",
              "home_ownership_NONE                      uint8\n",
              "home_ownership_OTHER                     uint8\n",
              "home_ownership_OWN                       uint8\n",
              "home_ownership_RENT                      uint8\n",
              "verification_status_Not Verified         uint8\n",
              "verification_status_Source Verified      uint8\n",
              "verification_status_Verified             uint8\n",
              "dtype: object"
            ]
          },
          "metadata": {
            "tags": []
          },
          "execution_count": 60
        }
      ]
    },
    {
      "cell_type": "markdown",
      "metadata": {
        "id": "lzew6i-pKIp4"
      },
      "source": [
        "### **Identification of Outlier values**\n",
        "Outliers are data points that lie outside the pattern formed by majority of data points and thus are anamolous. "
      ]
    },
    {
      "cell_type": "code",
      "metadata": {
        "id": "OTvO7MS7KIp8"
      },
      "source": [
        "from scipy import stats\n",
        "import numpy as np"
      ],
      "execution_count": null,
      "outputs": []
    },
    {
      "cell_type": "code",
      "metadata": {
        "id": "F-MWB4PXKIqA",
        "colab": {
          "base_uri": "https://localhost:8080/",
          "height": 296
        },
        "outputId": "a9d031b7-665e-4aaf-8131-76400994166e"
      },
      "source": [
        "import seaborn as sns\n",
        "sns.boxplot(x=data['installment']) #Univariate method"
      ],
      "execution_count": null,
      "outputs": [
        {
          "output_type": "execute_result",
          "data": {
            "text/plain": [
              "<matplotlib.axes._subplots.AxesSubplot at 0x7f12e557a390>"
            ]
          },
          "metadata": {
            "tags": []
          },
          "execution_count": 62
        },
        {
          "output_type": "display_data",
          "data": {
            "image/png": "[encoded data removed]",
            "text/plain": [
              "<Figure size 432x288 with 1 Axes>"
            ]
          },
          "metadata": {
            "tags": [],
            "needs_background": "light"
          }
        }
      ]
    },
    {
      "cell_type": "markdown",
      "metadata": {
        "id": "rPq6KkLmKIqE"
      },
      "source": [
        "#### **Z score Method**\n"
      ]
    },
    {
      "cell_type": "code",
      "metadata": {
        "id": "ShMXklIZKIqF",
        "colab": {
          "base_uri": "https://localhost:8080/"
        },
        "outputId": "370bcd60-a6f0-4115-f9cf-f53521958885"
      },
      "source": [
        "float_columns_df = data.select_dtypes(include=['float64'])\n",
        "float_columns_df_o = float_columns_df.copy()\n",
        "z = stats.zscore(float_columns_df)\n",
        "#print(z)\n",
        "threshold = 3\n",
        "print(np.where(z > 3))"
      ],
      "execution_count": null,
      "outputs": [
        {
          "output_type": "stream",
          "text": [
            "(array([   18,    27,    31, ..., 42510, 42511, 42518]), array([11, 11,  2, ..., 11, 19,  5]))\n"
          ],
          "name": "stdout"
        }
      ]
    },
    {
      "cell_type": "markdown",
      "metadata": {
        "id": "vCYbMZPpKIqI"
      },
      "source": [
        "The first array contains the list of row numbers and second array respective column numbers, which means z[18][6] and z[31][2] has a Z-score higher than 3. These are outliers, as seen below"
      ]
    },
    {
      "cell_type": "code",
      "metadata": {
        "id": "D2bN2Qe3KIqJ",
        "colab": {
          "base_uri": "https://localhost:8080/",
          "height": 166
        },
        "outputId": "8d1e918e-9bde-46db-d3ce-ce84e16d74bc"
      },
      "source": [
        "#print(float_columns_df[30:35])\n",
        "float_columns_df.iloc[[30,31,32,33], [1,2]]"
      ],
      "execution_count": null,
      "outputs": [
        {
          "output_type": "execute_result",
          "data": {
            "text/html": [
              "<div>\n",
              "<style scoped>\n",
              "    .dataframe tbody tr th:only-of-type {\n",
              "        vertical-align: middle;\n",
              "    }\n",
              "\n",
              "    .dataframe tbody tr th {\n",
              "        vertical-align: top;\n",
              "    }\n",
              "\n",
              "    .dataframe thead th {\n",
              "        text-align: right;\n",
              "    }\n",
              "</style>\n",
              "<table border=\"1\" class=\"dataframe\">\n",
              "  <thead>\n",
              "    <tr style=\"text-align: right;\">\n",
              "      <th></th>\n",
              "      <th>term</th>\n",
              "      <th>installment</th>\n",
              "    </tr>\n",
              "  </thead>\n",
              "  <tbody>\n",
              "    <tr>\n",
              "      <th>30</th>\n",
              "      <td>36.0</td>\n",
              "      <td>136.11</td>\n",
              "    </tr>\n",
              "    <tr>\n",
              "      <th>31</th>\n",
              "      <td>36.0</td>\n",
              "      <td>995.82</td>\n",
              "    </tr>\n",
              "    <tr>\n",
              "      <th>32</th>\n",
              "      <td>60.0</td>\n",
              "      <td>242.97</td>\n",
              "    </tr>\n",
              "    <tr>\n",
              "      <th>33</th>\n",
              "      <td>36.0</td>\n",
              "      <td>158.77</td>\n",
              "    </tr>\n",
              "  </tbody>\n",
              "</table>\n",
              "</div>"
            ],
            "text/plain": [
              "    term  installment\n",
              "30  36.0       136.11\n",
              "31  36.0       995.82\n",
              "32  60.0       242.97\n",
              "33  36.0       158.77"
            ]
          },
          "metadata": {
            "tags": []
          },
          "execution_count": 64
        }
      ]
    },
    {
      "cell_type": "markdown",
      "metadata": {
        "id": "cBFzO76XKIqM"
      },
      "source": [
        "Removing outlier using Z score method"
      ]
    },
    {
      "cell_type": "code",
      "metadata": {
        "id": "diLaS7VGKIqN",
        "colab": {
          "base_uri": "https://localhost:8080/"
        },
        "outputId": "1a1a7670-9cab-4333-e44d-b619694ff002"
      },
      "source": [
        "float_columns_df.shape"
      ],
      "execution_count": null,
      "outputs": [
        {
          "output_type": "execute_result",
          "data": {
            "text/plain": [
              "(42535, 26)"
            ]
          },
          "metadata": {
            "tags": []
          },
          "execution_count": 65
        }
      ]
    },
    {
      "cell_type": "code",
      "metadata": {
        "id": "AXEtuMjbKIqU",
        "colab": {
          "base_uri": "https://localhost:8080/"
        },
        "outputId": "1e567921-bf84-4982-e3de-0632707b7271"
      },
      "source": [
        "float_columns_df_o = float_columns_df_o[(z < 3).all(axis=1)]\n",
        "float_columns_df_o.shape"
      ],
      "execution_count": null,
      "outputs": [
        {
          "output_type": "execute_result",
          "data": {
            "text/plain": [
              "(35524, 26)"
            ]
          },
          "metadata": {
            "tags": []
          },
          "execution_count": 66
        }
      ]
    },
    {
      "cell_type": "code",
      "metadata": {
        "id": "SF-VciJTKIql",
        "colab": {
          "base_uri": "https://localhost:8080/"
        },
        "outputId": "7b8e863b-b4c6-4b8d-f467-5ed4373f5849"
      },
      "source": [
        "uint8_columns_df = data.select_dtypes(include=['uint8'])\n",
        "uint8_columns_df.shape"
      ],
      "execution_count": null,
      "outputs": [
        {
          "output_type": "execute_result",
          "data": {
            "text/plain": [
              "(42535, 8)"
            ]
          },
          "metadata": {
            "tags": []
          },
          "execution_count": 67
        }
      ]
    },
    {
      "cell_type": "code",
      "metadata": {
        "id": "0_5nStHIKIqp",
        "colab": {
          "base_uri": "https://localhost:8080/"
        },
        "outputId": "2228d712-e6c9-4b94-e9f4-36ac2a9abd06"
      },
      "source": [
        "z = stats.zscore(uint8_columns_df)\n",
        "#print(z)\n",
        "threshold = 2.5\n",
        "print(np.where(z > 2.5))\n",
        "uint8_columns_df_o = uint8_columns_df[(z < 2.5).all(axis=1)]\n",
        "uint8_columns_df_o.shape"
      ],
      "execution_count": null,
      "outputs": [
        {
          "output_type": "stream",
          "text": [
            "(array([    8,    10,    11, ..., 42508, 42527, 42533]), array([3, 3, 3, ..., 3, 3, 1]))\n"
          ],
          "name": "stdout"
        },
        {
          "output_type": "execute_result",
          "data": {
            "text/plain": [
              "(39140, 8)"
            ]
          },
          "metadata": {
            "tags": []
          },
          "execution_count": 68
        }
      ]
    },
    {
      "cell_type": "markdown",
      "metadata": {
        "id": "RrDa2bTRKIqY"
      },
      "source": [
        "#### **IQR method**"
      ]
    },
    {
      "cell_type": "code",
      "metadata": {
        "id": "3uLl9S4tKIqY",
        "colab": {
          "base_uri": "https://localhost:8080/"
        },
        "outputId": "0ba1fbcc-7de8-47d9-999d-2c32cf683fba"
      },
      "source": [
        "float_columns_df = data.select_dtypes(include=['float64'])\n",
        "float_columns_df_o2 = float_columns_df.copy()\n",
        "float_columns_df.shape"
      ],
      "execution_count": null,
      "outputs": [
        {
          "output_type": "execute_result",
          "data": {
            "text/plain": [
              "(42535, 26)"
            ]
          },
          "metadata": {
            "tags": []
          },
          "execution_count": 69
        }
      ]
    },
    {
      "cell_type": "code",
      "metadata": {
        "id": "N48W5Xl_KIqa",
        "colab": {
          "base_uri": "https://localhost:8080/"
        },
        "outputId": "a2ca2183-1b43-4f75-c749-b5b07ba8485e"
      },
      "source": [
        "Q1 = float_columns_df.quantile(0.25)\n",
        "Q3 = float_columns_df.quantile(0.75)\n",
        "IQR = Q3 - Q1\n",
        "#print(IQR)\n",
        "#print(float_columns_df < (Q1 - (1.5 * IQR))) |(float_columns_df > (Q3 + 1.5 * IQR))\n",
        "test1 = float_columns_df < (Q1 - 1.5 * IQR)\n",
        "test2 = float_columns_df > (Q3 + 1.5 * IQR)\n",
        "print(test1 | test2)"
      ],
      "execution_count": null,
      "outputs": [
        {
          "output_type": "stream",
          "text": [
            "       loan_amnt   term  ...  last_fico_range_low  pub_rec_bankruptcies\n",
            "0          False  False  ...                False                 False\n",
            "1          False  False  ...                 True                 False\n",
            "2          False  False  ...                False                 False\n",
            "3          False  False  ...                False                 False\n",
            "4          False  False  ...                False                 False\n",
            "...          ...    ...  ...                  ...                   ...\n",
            "42532      False  False  ...                False                 False\n",
            "42533      False  False  ...                False                 False\n",
            "42534      False  False  ...                False                 False\n",
            "42535      False  False  ...                False                 False\n",
            "42550      False  False  ...                False                 False\n",
            "\n",
            "[42535 rows x 26 columns]\n"
          ],
          "name": "stdout"
        }
      ]
    },
    {
      "cell_type": "markdown",
      "metadata": {
        "id": "j2ciKHdAKIqd"
      },
      "source": [
        "The data point where we have False that means these values are valid whereas True indicates presence of an outlier."
      ]
    },
    {
      "cell_type": "code",
      "metadata": {
        "id": "WNPhmRh_KIqd",
        "colab": {
          "base_uri": "https://localhost:8080/"
        },
        "outputId": "f57afa3c-ef9c-4197-e255-67ca3a7ca5ff"
      },
      "source": [
        "float_columns_df_o2.shape"
      ],
      "execution_count": null,
      "outputs": [
        {
          "output_type": "execute_result",
          "data": {
            "text/plain": [
              "(42535, 26)"
            ]
          },
          "metadata": {
            "tags": []
          },
          "execution_count": 71
        }
      ]
    },
    {
      "cell_type": "code",
      "metadata": {
        "id": "7HzFTxIyKIqf",
        "colab": {
          "base_uri": "https://localhost:8080/"
        },
        "outputId": "fbadba07-410e-4039-a761-3b40e5e33dda"
      },
      "source": [
        "float_columns_df_o2 = float_columns_df_o2[~((float_columns_df < (Q1 - 1.5 * IQR)) |(float_columns_df > (Q3 + 1.5 * IQR))).any(axis=1)]\n",
        "float_columns_df_o2.shape"
      ],
      "execution_count": null,
      "outputs": [
        {
          "output_type": "execute_result",
          "data": {
            "text/plain": [
              "(26487, 26)"
            ]
          },
          "metadata": {
            "tags": []
          },
          "execution_count": 72
        }
      ]
    },
    {
      "cell_type": "code",
      "metadata": {
        "id": "RpDobl43KIqu",
        "colab": {
          "base_uri": "https://localhost:8080/"
        },
        "outputId": "9158b7e1-29d0-47eb-9b56-2eaa7b7867a1"
      },
      "source": [
        "Q1 = uint8_columns_df.quantile(0.25)\n",
        "Q3 = uint8_columns_df.quantile(0.75)\n",
        "IQR = Q3 - Q1\n",
        "test1 = uint8_columns_df < (Q1 - 1.5 * IQR)\n",
        "test2 = uint8_columns_df > (Q3 + 1.5 * IQR)\n",
        "print(test1 | test2)\n",
        "uint8_columns_df_o2 = uint8_columns_df[~((uint8_columns_df < (Q1 - 1.5 * IQR)) |(uint8_columns_df > (Q3 + 1.5 * IQR))).any(axis=1)]\n",
        "uint8_columns_df_o2.shape # (32741, 3)"
      ],
      "execution_count": null,
      "outputs": [
        {
          "output_type": "stream",
          "text": [
            "       home_ownership_MORTGAGE  ...  verification_status_Verified\n",
            "0                        False  ...                         False\n",
            "1                        False  ...                         False\n",
            "2                        False  ...                         False\n",
            "3                        False  ...                         False\n",
            "4                        False  ...                         False\n",
            "...                        ...  ...                           ...\n",
            "42532                    False  ...                         False\n",
            "42533                    False  ...                         False\n",
            "42534                    False  ...                         False\n",
            "42535                    False  ...                         False\n",
            "42550                    False  ...                         False\n",
            "\n",
            "[42535 rows x 8 columns]\n"
          ],
          "name": "stdout"
        },
        {
          "output_type": "execute_result",
          "data": {
            "text/plain": [
              "(29640, 8)"
            ]
          },
          "metadata": {
            "tags": []
          },
          "execution_count": 73
        }
      ]
    },
    {
      "cell_type": "markdown",
      "metadata": {
        "id": "LOlMDF96DsiX"
      },
      "source": [
        "These two methods greatly decrease the size of the dataset, and thus seem unsuitable.\n"
      ]
    },
    {
      "cell_type": "markdown",
      "metadata": {
        "id": "m2UOVIz7n2Gv"
      },
      "source": [
        "### **Class Imbalance**"
      ]
    },
    {
      "cell_type": "code",
      "metadata": {
        "id": "QxJzoVprKIqy"
      },
      "source": [
        "X_train = data.copy()\n",
        "del X_train['loan_status']\n",
        "y_train = data['loan_status']\n"
      ],
      "execution_count": null,
      "outputs": []
    },
    {
      "cell_type": "code",
      "metadata": {
        "id": "5S20kY0yKIq1",
        "colab": {
          "base_uri": "https://localhost:8080/",
          "height": 332
        },
        "outputId": "e103ac61-004f-41b0-ae60-9124a9cb1664"
      },
      "source": [
        "import matplotlib.pyplot as plt\n",
        "y_train.unique()\n",
        "plt.hist(y_train, bins = 7)\n"
      ],
      "execution_count": null,
      "outputs": [
        {
          "output_type": "execute_result",
          "data": {
            "text/plain": [
              "(array([10183., 12389.,  8740.,  6016.,  3394.,  1301.,   512.]),\n",
              " array([1.        , 1.85714286, 2.71428571, 3.57142857, 4.42857143,\n",
              "        5.28571429, 6.14285714, 7.        ]),\n",
              " <a list of 7 Patch objects>)"
            ]
          },
          "metadata": {
            "tags": []
          },
          "execution_count": 75
        },
        {
          "output_type": "display_data",
          "data": {
            "image/png": "[encoded data removed]",
            "text/plain": [
              "<Figure size 432x288 with 1 Axes>"
            ]
          },
          "metadata": {
            "tags": [],
            "needs_background": "light"
          }
        }
      ]
    },
    {
      "cell_type": "markdown",
      "metadata": {
        "id": "mcIb9LvMKIq4"
      },
      "source": [
        "We can clearly see a class imbalance"
      ]
    }
  ]
}