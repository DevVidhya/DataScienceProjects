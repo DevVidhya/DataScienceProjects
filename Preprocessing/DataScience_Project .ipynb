{
 "cells": [
  {
   "cell_type": "markdown",
   "metadata": {},
   "source": [
    "# DATA PRE-PROCESSING ASSIGNMENT"
   ]
  },
  {
   "cell_type": "markdown",
   "metadata": {},
   "source": [
    "# Team Member\n",
    "#### 1) Avi Bomb - 106117017\n",
    "#### 2) Charan Kumar - 106117019\n",
    "#### 3) Dhiraj Kumar - 106117024\n",
    "#### 4) Suraksha - 106117075\n",
    "#### 5) Vidhya Lakshmi B - 106117107"
   ]
  },
  {
   "cell_type": "markdown",
   "metadata": {},
   "source": [
    "# Problem Statement & Solution"
   ]
  },
  {
   "cell_type": "markdown",
   "metadata": {},
   "source": [
    "### These statments are for reading in data from a CSV file using Pandas CSV read. The given dataset has 42553 Rows and 115 Columns initially. It has NULL values, Duplicate rows, Redundant Columns, Categorical values and Unique value columns. After applying the necessary preprocessing steps, dataset size got reduced and it got rid of all the problems mentioned above. The final dataset at the end of this documentation is fit for applying machine learning algorithms efficiently."
   ]
  },
  {
   "cell_type": "code",
   "execution_count": 1,
   "metadata": {},
   "outputs": [],
   "source": [
    "import pandas as pd\n",
    "dataset = pd.read_csv('lending-club-loans.csv', low_memory=False)"
   ]
  },
  {
   "cell_type": "code",
   "execution_count": 2,
   "metadata": {},
   "outputs": [
    {
     "name": "stdout",
     "output_type": "stream",
     "text": [
      "                                                    id  member_id  loan_amnt  \\\n",
      "0                                              1077501  1296599.0     5000.0   \n",
      "1                                              1077430  1314167.0     2500.0   \n",
      "2                                              1077175  1313524.0     2400.0   \n",
      "3                                              1076863  1277178.0    10000.0   \n",
      "4                                              1075358  1311748.0     3000.0   \n",
      "...                                                ...        ...        ...   \n",
      "42548                                           505136   650770.0    20000.0   \n",
      "42549                                           473367   598172.0     1750.0   \n",
      "42550                                            70686    70681.0     5000.0   \n",
      "42551  Total amount funded in policy code 1: 460296150        NaN        NaN   \n",
      "42552          Total amount funded in policy code 2: 0        NaN        NaN   \n",
      "\n",
      "       funded_amnt  funded_amnt_inv        term int_rate  installment grade  \\\n",
      "0           5000.0           4975.0   36 months   10.65%       162.87     B   \n",
      "1           2500.0           2500.0   60 months   15.27%        59.83     C   \n",
      "2           2400.0           2400.0   36 months   15.96%        84.33     C   \n",
      "3          10000.0          10000.0   36 months   13.49%       339.31     C   \n",
      "4           3000.0           3000.0   60 months   12.69%        67.79     B   \n",
      "...            ...              ...         ...      ...          ...   ...   \n",
      "42548      20000.0          19500.0   36 months    9.88%       644.21     B   \n",
      "42549       1750.0           1750.0   36 months   11.83%        57.99     B   \n",
      "42550       5000.0              0.0   36 months    7.75%       156.11     A   \n",
      "42551          NaN              NaN         NaN      NaN          NaN   NaN   \n",
      "42552          NaN              NaN         NaN      NaN          NaN   NaN   \n",
      "\n",
      "      sub_grade  ... num_tl_90g_dpd_24m num_tl_op_past_12m pct_tl_nvr_dlq  \\\n",
      "0            B2  ...                NaN                NaN            NaN   \n",
      "1            C4  ...                NaN                NaN            NaN   \n",
      "2            C5  ...                NaN                NaN            NaN   \n",
      "3            C1  ...                NaN                NaN            NaN   \n",
      "4            B5  ...                NaN                NaN            NaN   \n",
      "...         ...  ...                ...                ...            ...   \n",
      "42548        B1  ...                NaN                NaN            NaN   \n",
      "42549        B3  ...                NaN                NaN            NaN   \n",
      "42550        A3  ...                NaN                NaN            NaN   \n",
      "42551       NaN  ...                NaN                NaN            NaN   \n",
      "42552       NaN  ...                NaN                NaN            NaN   \n",
      "\n",
      "       percent_bc_gt_75 pub_rec_bankruptcies tax_liens tot_hi_cred_lim  \\\n",
      "0                   NaN                  0.0     False             NaN   \n",
      "1                   NaN                  0.0     False             NaN   \n",
      "2                   NaN                  0.0     False             NaN   \n",
      "3                   NaN                  0.0     False             NaN   \n",
      "4                   NaN                  0.0     False             NaN   \n",
      "...                 ...                  ...       ...             ...   \n",
      "42548               NaN                  0.0     False             NaN   \n",
      "42549               NaN                  0.0     False             NaN   \n",
      "42550               NaN                  NaN       NaN             NaN   \n",
      "42551               NaN                  NaN       NaN             NaN   \n",
      "42552               NaN                  NaN       NaN             NaN   \n",
      "\n",
      "      total_bal_ex_mort total_bc_limit total_il_high_credit_limit  \n",
      "0                   NaN            NaN                        NaN  \n",
      "1                   NaN            NaN                        NaN  \n",
      "2                   NaN            NaN                        NaN  \n",
      "3                   NaN            NaN                        NaN  \n",
      "4                   NaN            NaN                        NaN  \n",
      "...                 ...            ...                        ...  \n",
      "42548               NaN            NaN                        NaN  \n",
      "42549               NaN            NaN                        NaN  \n",
      "42550               NaN            NaN                        NaN  \n",
      "42551               NaN            NaN                        NaN  \n",
      "42552               NaN            NaN                        NaN  \n",
      "\n",
      "[42553 rows x 115 columns]\n"
     ]
    }
   ],
   "source": [
    "print(dataset)"
   ]
  },
  {
   "cell_type": "markdown",
   "metadata": {},
   "source": [
    "### Checking for the existance of Duplicate Rows."
   ]
  },
  {
   "cell_type": "code",
   "execution_count": 3,
   "metadata": {},
   "outputs": [
    {
     "data": {
      "text/plain": [
       "True"
      ]
     },
     "execution_count": 3,
     "metadata": {},
     "output_type": "execute_result"
    }
   ],
   "source": [
    "from sklearn import preprocessing\n",
    "import matplotlib.pyplot as plt\n",
    "import seaborn as sns\n",
    "any(dataset.duplicated())"
   ]
  },
  {
   "cell_type": "markdown",
   "metadata": {},
   "source": [
    "### Since duplicate rows are present the following code keeps the first occurance and drops the remaining duplicate rows based on 'id' attribute. After the removal of duplicate rows, we have 42538 Rows and 115 columns in the  dataset."
   ]
  },
  {
   "cell_type": "code",
   "execution_count": 4,
   "metadata": {},
   "outputs": [],
   "source": [
    "unique_rows=dataset.drop_duplicates(subset=['id'], keep='first')"
   ]
  },
  {
   "cell_type": "code",
   "execution_count": 5,
   "metadata": {},
   "outputs": [
    {
     "name": "stdout",
     "output_type": "stream",
     "text": [
      "                                                    id  member_id  loan_amnt  \\\n",
      "0                                              1077501  1296599.0     5000.0   \n",
      "1                                              1077430  1314167.0     2500.0   \n",
      "2                                              1077175  1313524.0     2400.0   \n",
      "3                                              1076863  1277178.0    10000.0   \n",
      "4                                              1075358  1311748.0     3000.0   \n",
      "...                                                ...        ...        ...   \n",
      "42534                                            72176    70868.0     2525.0   \n",
      "42535                                            71623    70735.0     6500.0   \n",
      "42550                                            70686    70681.0     5000.0   \n",
      "42551  Total amount funded in policy code 1: 460296150        NaN        NaN   \n",
      "42552          Total amount funded in policy code 2: 0        NaN        NaN   \n",
      "\n",
      "       funded_amnt  funded_amnt_inv        term int_rate  installment grade  \\\n",
      "0           5000.0           4975.0   36 months   10.65%       162.87     B   \n",
      "1           2500.0           2500.0   60 months   15.27%        59.83     C   \n",
      "2           2400.0           2400.0   36 months   15.96%        84.33     C   \n",
      "3          10000.0          10000.0   36 months   13.49%       339.31     C   \n",
      "4           3000.0           3000.0   60 months   12.69%        67.79     B   \n",
      "...            ...              ...         ...      ...          ...   ...   \n",
      "42534       2525.0            225.0   36 months    9.33%        80.69     B   \n",
      "42535       6500.0              0.0   36 months    8.38%       204.84     A   \n",
      "42550       5000.0              0.0   36 months    7.75%       156.11     A   \n",
      "42551          NaN              NaN         NaN      NaN          NaN   NaN   \n",
      "42552          NaN              NaN         NaN      NaN          NaN   NaN   \n",
      "\n",
      "      sub_grade  ... num_tl_90g_dpd_24m num_tl_op_past_12m pct_tl_nvr_dlq  \\\n",
      "0            B2  ...                NaN                NaN            NaN   \n",
      "1            C4  ...                NaN                NaN            NaN   \n",
      "2            C5  ...                NaN                NaN            NaN   \n",
      "3            C1  ...                NaN                NaN            NaN   \n",
      "4            B5  ...                NaN                NaN            NaN   \n",
      "...         ...  ...                ...                ...            ...   \n",
      "42534        B3  ...                NaN                NaN            NaN   \n",
      "42535        A5  ...                NaN                NaN            NaN   \n",
      "42550        A3  ...                NaN                NaN            NaN   \n",
      "42551       NaN  ...                NaN                NaN            NaN   \n",
      "42552       NaN  ...                NaN                NaN            NaN   \n",
      "\n",
      "       percent_bc_gt_75 pub_rec_bankruptcies tax_liens tot_hi_cred_lim  \\\n",
      "0                   NaN                  0.0     False             NaN   \n",
      "1                   NaN                  0.0     False             NaN   \n",
      "2                   NaN                  0.0     False             NaN   \n",
      "3                   NaN                  0.0     False             NaN   \n",
      "4                   NaN                  0.0     False             NaN   \n",
      "...                 ...                  ...       ...             ...   \n",
      "42534               NaN                  NaN       NaN             NaN   \n",
      "42535               NaN                  NaN       NaN             NaN   \n",
      "42550               NaN                  NaN       NaN             NaN   \n",
      "42551               NaN                  NaN       NaN             NaN   \n",
      "42552               NaN                  NaN       NaN             NaN   \n",
      "\n",
      "      total_bal_ex_mort total_bc_limit total_il_high_credit_limit  \n",
      "0                   NaN            NaN                        NaN  \n",
      "1                   NaN            NaN                        NaN  \n",
      "2                   NaN            NaN                        NaN  \n",
      "3                   NaN            NaN                        NaN  \n",
      "4                   NaN            NaN                        NaN  \n",
      "...                 ...            ...                        ...  \n",
      "42534               NaN            NaN                        NaN  \n",
      "42535               NaN            NaN                        NaN  \n",
      "42550               NaN            NaN                        NaN  \n",
      "42551               NaN            NaN                        NaN  \n",
      "42552               NaN            NaN                        NaN  \n",
      "\n",
      "[42538 rows x 115 columns]\n"
     ]
    }
   ],
   "source": [
    "print(unique_rows)"
   ]
  },
  {
   "cell_type": "markdown",
   "metadata": {},
   "source": [
    "### Finding the number of NULL values in each Row and Column. Axis value for Columns and Rows is '0' and '1' respectively."
   ]
  },
  {
   "cell_type": "code",
   "execution_count": 6,
   "metadata": {},
   "outputs": [
    {
     "data": {
      "text/plain": [
       "0         58\n",
       "1         57\n",
       "2         59\n",
       "3         56\n",
       "4         55\n",
       "        ... \n",
       "42534     70\n",
       "42535     71\n",
       "42550     69\n",
       "42551    114\n",
       "42552    114\n",
       "Length: 42538, dtype: int64"
      ]
     },
     "execution_count": 6,
     "metadata": {},
     "output_type": "execute_result"
    }
   ],
   "source": [
    "unique_rows.isnull().sum(axis = 1)"
   ]
  },
  {
   "cell_type": "code",
   "execution_count": 7,
   "metadata": {},
   "outputs": [
    {
     "data": {
      "text/plain": [
       "id                                0\n",
       "member_id                         3\n",
       "loan_amnt                         3\n",
       "funded_amnt                       3\n",
       "funded_amnt_inv                   3\n",
       "                              ...  \n",
       "tax_liens                       108\n",
       "tot_hi_cred_lim               42538\n",
       "total_bal_ex_mort             42538\n",
       "total_bc_limit                42538\n",
       "total_il_high_credit_limit    42538\n",
       "Length: 115, dtype: int64"
      ]
     },
     "execution_count": 7,
     "metadata": {},
     "output_type": "execute_result"
    }
   ],
   "source": [
    "unique_rows.isnull().sum(axis = 0)"
   ]
  },
  {
   "cell_type": "markdown",
   "metadata": {},
   "source": [
    "### Checking and dropping columns with more than half NULL values. After dropping columns with more than half NULL values, we have 42538 Rows and 58 Columns."
   ]
  },
  {
   "cell_type": "code",
   "execution_count": 8,
   "metadata": {},
   "outputs": [],
   "source": [
    "half_count_rows = len(unique_rows) / 2"
   ]
  },
  {
   "cell_type": "code",
   "execution_count": 9,
   "metadata": {},
   "outputs": [
    {
     "name": "stdout",
     "output_type": "stream",
     "text": [
      "21269.0\n"
     ]
    }
   ],
   "source": [
    "print(half_count_rows)"
   ]
  },
  {
   "cell_type": "code",
   "execution_count": 10,
   "metadata": {},
   "outputs": [],
   "source": [
    "less_null = unique_rows.dropna(thresh=half_count_rows,axis=1)"
   ]
  },
  {
   "cell_type": "code",
   "execution_count": 11,
   "metadata": {},
   "outputs": [
    {
     "name": "stdout",
     "output_type": "stream",
     "text": [
      "                                                    id  member_id  loan_amnt  \\\n",
      "0                                              1077501  1296599.0     5000.0   \n",
      "1                                              1077430  1314167.0     2500.0   \n",
      "2                                              1077175  1313524.0     2400.0   \n",
      "3                                              1076863  1277178.0    10000.0   \n",
      "4                                              1075358  1311748.0     3000.0   \n",
      "...                                                ...        ...        ...   \n",
      "42534                                            72176    70868.0     2525.0   \n",
      "42535                                            71623    70735.0     6500.0   \n",
      "42550                                            70686    70681.0     5000.0   \n",
      "42551  Total amount funded in policy code 1: 460296150        NaN        NaN   \n",
      "42552          Total amount funded in policy code 2: 0        NaN        NaN   \n",
      "\n",
      "       funded_amnt  funded_amnt_inv        term int_rate  installment grade  \\\n",
      "0           5000.0           4975.0   36 months   10.65%       162.87     B   \n",
      "1           2500.0           2500.0   60 months   15.27%        59.83     C   \n",
      "2           2400.0           2400.0   36 months   15.96%        84.33     C   \n",
      "3          10000.0          10000.0   36 months   13.49%       339.31     C   \n",
      "4           3000.0           3000.0   60 months   12.69%        67.79     B   \n",
      "...            ...              ...         ...      ...          ...   ...   \n",
      "42534       2525.0            225.0   36 months    9.33%        80.69     B   \n",
      "42535       6500.0              0.0   36 months    8.38%       204.84     A   \n",
      "42550       5000.0              0.0   36 months    7.75%       156.11     A   \n",
      "42551          NaN              NaN         NaN      NaN          NaN   NaN   \n",
      "42552          NaN              NaN         NaN      NaN          NaN   NaN   \n",
      "\n",
      "      sub_grade  ... last_fico_range_high last_fico_range_low  \\\n",
      "0            B2  ...                744.0               740.0   \n",
      "1            C4  ...                499.0                 0.0   \n",
      "2            C5  ...                719.0               715.0   \n",
      "3            C1  ...                604.0               600.0   \n",
      "4            B5  ...                694.0               690.0   \n",
      "...         ...  ...                  ...                 ...   \n",
      "42534        B3  ...                714.0               710.0   \n",
      "42535        A5  ...                724.0               720.0   \n",
      "42550        A3  ...                794.0               790.0   \n",
      "42551       NaN  ...                  NaN                 NaN   \n",
      "42552       NaN  ...                  NaN                 NaN   \n",
      "\n",
      "      collections_12_mths_ex_med  policy_code application_type acc_now_delinq  \\\n",
      "0                          False         True       INDIVIDUAL          False   \n",
      "1                          False         True       INDIVIDUAL          False   \n",
      "2                          False         True       INDIVIDUAL          False   \n",
      "3                          False         True       INDIVIDUAL          False   \n",
      "4                          False         True       INDIVIDUAL          False   \n",
      "...                          ...          ...              ...            ...   \n",
      "42534                        NaN         True       INDIVIDUAL            NaN   \n",
      "42535                        NaN         True       INDIVIDUAL            NaN   \n",
      "42550                        NaN         True       INDIVIDUAL            NaN   \n",
      "42551                        NaN          NaN              NaN            NaN   \n",
      "42552                        NaN          NaN              NaN            NaN   \n",
      "\n",
      "      chargeoff_within_12_mths delinq_amnt pub_rec_bankruptcies tax_liens  \n",
      "0                        False         0.0                  0.0     False  \n",
      "1                        False         0.0                  0.0     False  \n",
      "2                        False         0.0                  0.0     False  \n",
      "3                        False         0.0                  0.0     False  \n",
      "4                        False         0.0                  0.0     False  \n",
      "...                        ...         ...                  ...       ...  \n",
      "42534                      NaN         NaN                  NaN       NaN  \n",
      "42535                      NaN         NaN                  NaN       NaN  \n",
      "42550                      NaN         NaN                  NaN       NaN  \n",
      "42551                      NaN         NaN                  NaN       NaN  \n",
      "42552                      NaN         NaN                  NaN       NaN  \n",
      "\n",
      "[42538 rows x 58 columns]\n"
     ]
    }
   ],
   "source": [
    "print(less_null)"
   ]
  },
  {
   "cell_type": "markdown",
   "metadata": {},
   "source": [
    "### The following output we can see that the total number of NULL values in each column is lesser than Half the number of Rows in the data set."
   ]
  },
  {
   "cell_type": "code",
   "execution_count": 12,
   "metadata": {},
   "outputs": [
    {
     "data": {
      "text/plain": [
       "id                                0\n",
       "member_id                         3\n",
       "loan_amnt                         3\n",
       "funded_amnt                       3\n",
       "funded_amnt_inv                   3\n",
       "term                              3\n",
       "int_rate                          3\n",
       "installment                       3\n",
       "grade                             3\n",
       "sub_grade                         3\n",
       "emp_title                      2629\n",
       "emp_length                     1115\n",
       "home_ownership                    3\n",
       "annual_inc                        7\n",
       "verification_status               3\n",
       "issue_d                           3\n",
       "loan_status                       3\n",
       "pymnt_plan                        3\n",
       "url                               3\n",
       "desc                          13296\n",
       "purpose                           3\n",
       "title                            16\n",
       "zip_code                          3\n",
       "addr_state                        3\n",
       "dti                               3\n",
       "delinq_2yrs                      32\n",
       "earliest_cr_line                 32\n",
       "fico_range_low                    3\n",
       "fico_range_high                   3\n",
       "inq_last_6mths                   32\n",
       "open_acc                         32\n",
       "pub_rec                          32\n",
       "revol_bal                         3\n",
       "revol_util                       93\n",
       "total_acc                        32\n",
       "initial_list_status               3\n",
       "out_prncp                         3\n",
       "out_prncp_inv                     3\n",
       "total_pymnt                       3\n",
       "total_pymnt_inv                   3\n",
       "total_rec_prncp                   3\n",
       "total_rec_int                     3\n",
       "total_rec_late_fee                3\n",
       "recoveries                        3\n",
       "collection_recovery_fee           3\n",
       "last_pymnt_d                     86\n",
       "last_pymnt_amnt                   3\n",
       "last_credit_pull_d                7\n",
       "last_fico_range_high              3\n",
       "last_fico_range_low               3\n",
       "collections_12_mths_ex_med      148\n",
       "policy_code                       3\n",
       "application_type                  3\n",
       "acc_now_delinq                   32\n",
       "chargeoff_within_12_mths        148\n",
       "delinq_amnt                      32\n",
       "pub_rec_bankruptcies           1368\n",
       "tax_liens                       108\n",
       "dtype: int64"
      ]
     },
     "execution_count": 12,
     "metadata": {},
     "output_type": "execute_result"
    }
   ],
   "source": [
    "less_null.isnull().sum(axis = 0)"
   ]
  },
  {
   "cell_type": "markdown",
   "metadata": {},
   "source": [
    "### Removing columns having only one value throughout. After dropping columns with single value throughout, we have 42538 Rows and 53 Columns."
   ]
  },
  {
   "cell_type": "code",
   "execution_count": 13,
   "metadata": {},
   "outputs": [],
   "source": [
    "same_val_col_removed = less_null.loc[:,less_null.apply(pd.Series.nunique) != 1]"
   ]
  },
  {
   "cell_type": "code",
   "execution_count": 14,
   "metadata": {},
   "outputs": [
    {
     "name": "stdout",
     "output_type": "stream",
     "text": [
      "                                                    id  member_id  loan_amnt  \\\n",
      "0                                              1077501  1296599.0     5000.0   \n",
      "1                                              1077430  1314167.0     2500.0   \n",
      "2                                              1077175  1313524.0     2400.0   \n",
      "3                                              1076863  1277178.0    10000.0   \n",
      "4                                              1075358  1311748.0     3000.0   \n",
      "...                                                ...        ...        ...   \n",
      "42534                                            72176    70868.0     2525.0   \n",
      "42535                                            71623    70735.0     6500.0   \n",
      "42550                                            70686    70681.0     5000.0   \n",
      "42551  Total amount funded in policy code 1: 460296150        NaN        NaN   \n",
      "42552          Total amount funded in policy code 2: 0        NaN        NaN   \n",
      "\n",
      "       funded_amnt  funded_amnt_inv        term int_rate  installment grade  \\\n",
      "0           5000.0           4975.0   36 months   10.65%       162.87     B   \n",
      "1           2500.0           2500.0   60 months   15.27%        59.83     C   \n",
      "2           2400.0           2400.0   36 months   15.96%        84.33     C   \n",
      "3          10000.0          10000.0   36 months   13.49%       339.31     C   \n",
      "4           3000.0           3000.0   60 months   12.69%        67.79     B   \n",
      "...            ...              ...         ...      ...          ...   ...   \n",
      "42534       2525.0            225.0   36 months    9.33%        80.69     B   \n",
      "42535       6500.0              0.0   36 months    8.38%       204.84     A   \n",
      "42550       5000.0              0.0   36 months    7.75%       156.11     A   \n",
      "42551          NaN              NaN         NaN      NaN          NaN   NaN   \n",
      "42552          NaN              NaN         NaN      NaN          NaN   NaN   \n",
      "\n",
      "      sub_grade  ... collection_recovery_fee last_pymnt_d last_pymnt_amnt  \\\n",
      "0            B2  ...                    0.00       Jan-15          171.62   \n",
      "1            C4  ...                    1.11       Apr-13          119.66   \n",
      "2            C5  ...                    0.00       Jun-14          649.91   \n",
      "3            C1  ...                    0.00       Jan-15          357.48   \n",
      "4            B5  ...                    0.00       Sep-16           67.79   \n",
      "...         ...  ...                     ...          ...             ...   \n",
      "42534        B3  ...                    0.00       Jun-10           82.03   \n",
      "42535        A5  ...                    0.00       Jun-10          205.32   \n",
      "42550        A3  ...                    0.00       Jun-10          156.39   \n",
      "42551       NaN  ...                     NaN          NaN             NaN   \n",
      "42552       NaN  ...                     NaN          NaN             NaN   \n",
      "\n",
      "       last_credit_pull_d last_fico_range_high last_fico_range_low  \\\n",
      "0                  Sep-16                744.0               740.0   \n",
      "1                  Sep-16                499.0                 0.0   \n",
      "2                  Sep-16                719.0               715.0   \n",
      "3                  Apr-16                604.0               600.0   \n",
      "4                  Sep-16                694.0               690.0   \n",
      "...                   ...                  ...                 ...   \n",
      "42534              May-07                714.0               710.0   \n",
      "42535              Aug-07                724.0               720.0   \n",
      "42550              Feb-15                794.0               790.0   \n",
      "42551                 NaN                  NaN                 NaN   \n",
      "42552                 NaN                  NaN                 NaN   \n",
      "\n",
      "      acc_now_delinq delinq_amnt pub_rec_bankruptcies tax_liens  \n",
      "0              False         0.0                  0.0     False  \n",
      "1              False         0.0                  0.0     False  \n",
      "2              False         0.0                  0.0     False  \n",
      "3              False         0.0                  0.0     False  \n",
      "4              False         0.0                  0.0     False  \n",
      "...              ...         ...                  ...       ...  \n",
      "42534            NaN         NaN                  NaN       NaN  \n",
      "42535            NaN         NaN                  NaN       NaN  \n",
      "42550            NaN         NaN                  NaN       NaN  \n",
      "42551            NaN         NaN                  NaN       NaN  \n",
      "42552            NaN         NaN                  NaN       NaN  \n",
      "\n",
      "[42538 rows x 53 columns]\n"
     ]
    }
   ],
   "source": [
    "print(same_val_col_removed)"
   ]
  },
  {
   "cell_type": "markdown",
   "metadata": {},
   "source": [
    "### Loading the dataset description file and renaming the columns."
   ]
  },
  {
   "cell_type": "code",
   "execution_count": 15,
   "metadata": {},
   "outputs": [],
   "source": [
    "data_dictionary = pd.read_csv('LCDataDictionary.csv', low_memory=False)\n",
    "data_dictionary = data_dictionary.rename(columns={'LoanStatNew': 'name'})"
   ]
  },
  {
   "cell_type": "code",
   "execution_count": 16,
   "metadata": {},
   "outputs": [
    {
     "name": "stdout",
     "output_type": "stream",
     "text": [
      "                      name                                        Description\n",
      "0           acc_now_delinq  The number of accounts on which the borrower i...\n",
      "1     acc_open_past_24mths         Number of trades opened in past 24 months.\n",
      "2               addr_state  The state provided by the borrower in the loan...\n",
      "3                 all_util              Balance to credit limit on all trades\n",
      "4               annual_inc  The self-reported annual income provided by th...\n",
      "..                     ...                                                ...\n",
      "112    verification_status  Indicates if income was verified by LC, not ve...\n",
      "113  verified_status_joint  Indicates if the co-borrowers' joint income wa...\n",
      "114               zip_code  The first 3 numbers of the zip code provided b...\n",
      "115                    NaN                                                NaN\n",
      "116                    NaN  * Employer Title replaces Employer Name for al...\n",
      "\n",
      "[117 rows x 2 columns]\n"
     ]
    }
   ],
   "source": [
    "print(data_dictionary)"
   ]
  },
  {
   "cell_type": "markdown",
   "metadata": {},
   "source": [
    "### Merging 2 Data Frames 'data_dictionary' and 'same_val_col_removed' to create a new Data Frame to help identify redundant columns."
   ]
  },
  {
   "cell_type": "code",
   "execution_count": 17,
   "metadata": {},
   "outputs": [],
   "source": [
    "combine = pd.DataFrame(same_val_col_removed.dtypes,columns=['dtypes'])\n",
    "combine = combine.reset_index()\n",
    "combine['name'] = combine['index']\n",
    "combine = combine[['name','dtypes']]\n",
    "combine['first value'] = same_val_col_removed.loc[0].values\n",
    "preview = combine.merge(data_dictionary, on='name',how='left')"
   ]
  },
  {
   "cell_type": "code",
   "execution_count": 18,
   "metadata": {},
   "outputs": [
    {
     "name": "stdout",
     "output_type": "stream",
     "text": [
      "                       name   dtypes  \\\n",
      "0                        id   object   \n",
      "1                 member_id  float64   \n",
      "2                 loan_amnt  float64   \n",
      "3               funded_amnt  float64   \n",
      "4           funded_amnt_inv  float64   \n",
      "5                      term   object   \n",
      "6                  int_rate   object   \n",
      "7               installment  float64   \n",
      "8                     grade   object   \n",
      "9                 sub_grade   object   \n",
      "10                emp_title   object   \n",
      "11               emp_length   object   \n",
      "12           home_ownership   object   \n",
      "13               annual_inc  float64   \n",
      "14      verification_status   object   \n",
      "15                  issue_d   object   \n",
      "16              loan_status   object   \n",
      "17               pymnt_plan   object   \n",
      "18                      url   object   \n",
      "19                     desc   object   \n",
      "20                  purpose   object   \n",
      "21                    title   object   \n",
      "22                 zip_code   object   \n",
      "23               addr_state   object   \n",
      "24                      dti  float64   \n",
      "25              delinq_2yrs  float64   \n",
      "26         earliest_cr_line   object   \n",
      "27           fico_range_low  float64   \n",
      "28          fico_range_high  float64   \n",
      "29           inq_last_6mths  float64   \n",
      "30                 open_acc  float64   \n",
      "31                  pub_rec  float64   \n",
      "32                revol_bal  float64   \n",
      "33               revol_util  float64   \n",
      "34                total_acc  float64   \n",
      "35                out_prncp  float64   \n",
      "36            out_prncp_inv  float64   \n",
      "37              total_pymnt  float64   \n",
      "38          total_pymnt_inv  float64   \n",
      "39          total_rec_prncp  float64   \n",
      "40            total_rec_int  float64   \n",
      "41       total_rec_late_fee  float64   \n",
      "42               recoveries  float64   \n",
      "43  collection_recovery_fee  float64   \n",
      "44             last_pymnt_d   object   \n",
      "45          last_pymnt_amnt  float64   \n",
      "46       last_credit_pull_d   object   \n",
      "47     last_fico_range_high  float64   \n",
      "48      last_fico_range_low  float64   \n",
      "49           acc_now_delinq   object   \n",
      "50              delinq_amnt  float64   \n",
      "51     pub_rec_bankruptcies  float64   \n",
      "52                tax_liens   object   \n",
      "\n",
      "                                          first value  \\\n",
      "0                                             1077501   \n",
      "1                                          1.2966e+06   \n",
      "2                                                5000   \n",
      "3                                                5000   \n",
      "4                                                4975   \n",
      "5                                           36 months   \n",
      "6                                              10.65%   \n",
      "7                                              162.87   \n",
      "8                                                   B   \n",
      "9                                                  B2   \n",
      "10                                                NaN   \n",
      "11                                          10+ years   \n",
      "12                                               RENT   \n",
      "13                                              24000   \n",
      "14                                           Verified   \n",
      "15                                             Dec-11   \n",
      "16                                         Fully Paid   \n",
      "17                                              False   \n",
      "18  https://lendingclub.com/browse/loanDetail.acti...   \n",
      "19    Borrower added on 12/22/11 > I need to upgra...   \n",
      "20                                        credit_card   \n",
      "21                                           Computer   \n",
      "22                                              860xx   \n",
      "23                                                 AZ   \n",
      "24                                              27.65   \n",
      "25                                                  0   \n",
      "26                                             Jan-85   \n",
      "27                                                735   \n",
      "28                                                739   \n",
      "29                                                  1   \n",
      "30                                                  3   \n",
      "31                                                  0   \n",
      "32                                              13648   \n",
      "33                                              0.837   \n",
      "34                                                  9   \n",
      "35                                                  0   \n",
      "36                                                  0   \n",
      "37                                            5863.16   \n",
      "38                                            5833.84   \n",
      "39                                               5000   \n",
      "40                                             863.16   \n",
      "41                                                  0   \n",
      "42                                                  0   \n",
      "43                                                  0   \n",
      "44                                             Jan-15   \n",
      "45                                             171.62   \n",
      "46                                             Sep-16   \n",
      "47                                                744   \n",
      "48                                                740   \n",
      "49                                              False   \n",
      "50                                                  0   \n",
      "51                                                  0   \n",
      "52                                              False   \n",
      "\n",
      "                                          Description  \n",
      "0       A unique LC assigned ID for the loan listing.  \n",
      "1    A unique LC assigned Id for the borrower member.  \n",
      "2   The listed amount of the loan applied for by t...  \n",
      "3   The total amount committed to that loan at tha...  \n",
      "4   The total amount committed by investors for th...  \n",
      "5   The number of payments on the loan. Values are...  \n",
      "6                           Interest Rate on the loan  \n",
      "7   The monthly payment owed by the borrower if th...  \n",
      "8                              LC assigned loan grade  \n",
      "9                           LC assigned loan subgrade  \n",
      "10  The job title supplied by the Borrower when ap...  \n",
      "11  Employment length in years. Possible values ar...  \n",
      "12  The home ownership status provided by the borr...  \n",
      "13  The self-reported annual income provided by th...  \n",
      "14  Indicates if income was verified by LC, not ve...  \n",
      "15                The month which the loan was funded  \n",
      "16                         Current status of the loan  \n",
      "17  Indicates if a payment plan has been put in pl...  \n",
      "18             URL for the LC page with listing data.  \n",
      "19          Loan description provided by the borrower  \n",
      "20  A category provided by the borrower for the lo...  \n",
      "21            The loan title provided by the borrower  \n",
      "22  The first 3 numbers of the zip code provided b...  \n",
      "23  The state provided by the borrower in the loan...  \n",
      "24  A ratio calculated using the borrower’s total ...  \n",
      "25  The number of 30+ days past-due incidences of ...  \n",
      "26  The month the borrower's earliest reported cre...  \n",
      "27  The lower boundary range the borrower’s FICO a...  \n",
      "28  The upper boundary range the borrower’s FICO a...  \n",
      "29  The number of inquiries in past 6 months (excl...  \n",
      "30  The number of open credit lines in the borrowe...  \n",
      "31                Number of derogatory public records  \n",
      "32                     Total credit revolving balance  \n",
      "33  Revolving line utilization rate, or the amount...  \n",
      "34  The total number of credit lines currently in ...  \n",
      "35  Remaining outstanding principal for total amou...  \n",
      "36  Remaining outstanding principal for portion of...  \n",
      "37  Payments received to date for total amount funded  \n",
      "38  Payments received to date for portion of total...  \n",
      "39                         Principal received to date  \n",
      "40                          Interest received to date  \n",
      "41                         Late fees received to date  \n",
      "42                     post charge off gross recovery  \n",
      "43                     post charge off collection fee  \n",
      "44                    Last month payment was received  \n",
      "45                 Last total payment amount received  \n",
      "46  The most recent month LC pulled credit for thi...  \n",
      "47  The upper boundary range the borrower’s last F...  \n",
      "48  The lower boundary range the borrower’s last F...  \n",
      "49  The number of accounts on which the borrower i...  \n",
      "50  The past-due amount owed for the accounts on w...  \n",
      "51               Number of public record bankruptcies  \n",
      "52                                Number of tax liens  \n"
     ]
    }
   ],
   "source": [
    "print(preview)"
   ]
  },
  {
   "cell_type": "code",
   "execution_count": 19,
   "metadata": {},
   "outputs": [
    {
     "data": {
      "text/plain": [
       "['id',\n",
       " 'member_id',\n",
       " 'loan_amnt',\n",
       " 'funded_amnt',\n",
       " 'funded_amnt_inv',\n",
       " 'term',\n",
       " 'int_rate',\n",
       " 'installment',\n",
       " 'grade',\n",
       " 'sub_grade',\n",
       " 'emp_title',\n",
       " 'emp_length',\n",
       " 'home_ownership',\n",
       " 'annual_inc',\n",
       " 'verification_status',\n",
       " 'issue_d',\n",
       " 'loan_status',\n",
       " 'pymnt_plan',\n",
       " 'url',\n",
       " 'desc',\n",
       " 'purpose',\n",
       " 'title',\n",
       " 'zip_code',\n",
       " 'addr_state',\n",
       " 'dti',\n",
       " 'delinq_2yrs',\n",
       " 'earliest_cr_line',\n",
       " 'fico_range_low',\n",
       " 'fico_range_high',\n",
       " 'inq_last_6mths',\n",
       " 'open_acc',\n",
       " 'pub_rec',\n",
       " 'revol_bal',\n",
       " 'revol_util',\n",
       " 'total_acc',\n",
       " 'out_prncp',\n",
       " 'out_prncp_inv',\n",
       " 'total_pymnt',\n",
       " 'total_pymnt_inv',\n",
       " 'total_rec_prncp',\n",
       " 'total_rec_int',\n",
       " 'total_rec_late_fee',\n",
       " 'recoveries',\n",
       " 'collection_recovery_fee',\n",
       " 'last_pymnt_d',\n",
       " 'last_pymnt_amnt',\n",
       " 'last_credit_pull_d',\n",
       " 'last_fico_range_high',\n",
       " 'last_fico_range_low',\n",
       " 'acc_now_delinq',\n",
       " 'delinq_amnt',\n",
       " 'pub_rec_bankruptcies',\n",
       " 'tax_liens']"
      ]
     },
     "execution_count": 19,
     "metadata": {},
     "output_type": "execute_result"
    }
   ],
   "source": [
    "same_val_col_removed.columns.tolist()"
   ]
  },
  {
   "cell_type": "markdown",
   "metadata": {},
   "source": [
    "### Identifying and dropping the redundant and unnecessary columns. After removing the redundant and unnecessary columns we have, we have 42538 Rows and 31 Columns in the dataset."
   ]
  },
  {
   "cell_type": "code",
   "execution_count": 20,
   "metadata": {},
   "outputs": [
    {
     "name": "stdout",
     "output_type": "stream",
     "text": [
      "22\n"
     ]
    }
   ],
   "source": [
    "drop_redundant_coloumns=['url','desc','id','member_id','funded_amnt','funded_amnt_inv','int_rate','sub_grade','emp_title','issue_d','zip_code','out_prncp','out_prncp_inv','total_pymnt','total_pymnt_inv','total_rec_prncp','total_rec_int','total_rec_late_fee','recoveries','collection_recovery_fee','last_pymnt_d','last_pymnt_amnt']\n",
    "print(len(drop_redundant_coloumns))"
   ]
  },
  {
   "cell_type": "code",
   "execution_count": 21,
   "metadata": {},
   "outputs": [
    {
     "data": {
      "text/plain": [
       "['loan_amnt',\n",
       " 'term',\n",
       " 'installment',\n",
       " 'grade',\n",
       " 'emp_length',\n",
       " 'home_ownership',\n",
       " 'annual_inc',\n",
       " 'verification_status',\n",
       " 'loan_status',\n",
       " 'pymnt_plan',\n",
       " 'purpose',\n",
       " 'title',\n",
       " 'addr_state',\n",
       " 'dti',\n",
       " 'delinq_2yrs',\n",
       " 'earliest_cr_line',\n",
       " 'fico_range_low',\n",
       " 'fico_range_high',\n",
       " 'inq_last_6mths',\n",
       " 'open_acc',\n",
       " 'pub_rec',\n",
       " 'revol_bal',\n",
       " 'revol_util',\n",
       " 'total_acc',\n",
       " 'last_credit_pull_d',\n",
       " 'last_fico_range_high',\n",
       " 'last_fico_range_low',\n",
       " 'acc_now_delinq',\n",
       " 'delinq_amnt',\n",
       " 'pub_rec_bankruptcies',\n",
       " 'tax_liens']"
      ]
     },
     "execution_count": 21,
     "metadata": {},
     "output_type": "execute_result"
    }
   ],
   "source": [
    "redundant_col_removed = same_val_col_removed.drop(drop_redundant_coloumns,axis=1)\n",
    "redundant_col_removed.columns.tolist()"
   ]
  },
  {
   "cell_type": "code",
   "execution_count": 22,
   "metadata": {},
   "outputs": [
    {
     "name": "stdout",
     "output_type": "stream",
     "text": [
      "       loan_amnt        term  installment grade emp_length home_ownership  \\\n",
      "0         5000.0   36 months       162.87     B  10+ years           RENT   \n",
      "1         2500.0   60 months        59.83     C   < 1 year           RENT   \n",
      "2         2400.0   36 months        84.33     C  10+ years           RENT   \n",
      "3        10000.0   36 months       339.31     C  10+ years           RENT   \n",
      "4         3000.0   60 months        67.79     B     1 year           RENT   \n",
      "...          ...         ...          ...   ...        ...            ...   \n",
      "42534     2525.0   36 months        80.69     B   < 1 year           RENT   \n",
      "42535     6500.0   36 months       204.84     A   < 1 year           NONE   \n",
      "42550     5000.0   36 months       156.11     A  10+ years       MORTGAGE   \n",
      "42551        NaN         NaN          NaN   NaN        NaN            NaN   \n",
      "42552        NaN         NaN          NaN   NaN        NaN            NaN   \n",
      "\n",
      "       annual_inc verification_status  \\\n",
      "0         24000.0            Verified   \n",
      "1         30000.0     Source Verified   \n",
      "2         12252.0        Not Verified   \n",
      "3         49200.0     Source Verified   \n",
      "4         80000.0     Source Verified   \n",
      "...           ...                 ...   \n",
      "42534    110000.0        Not Verified   \n",
      "42535         NaN        Not Verified   \n",
      "42550     70000.0        Not Verified   \n",
      "42551         NaN                 NaN   \n",
      "42552         NaN                 NaN   \n",
      "\n",
      "                                             loan_status pymnt_plan  ...  \\\n",
      "0                                             Fully Paid      False  ...   \n",
      "1                                            Charged Off      False  ...   \n",
      "2                                             Fully Paid      False  ...   \n",
      "3                                             Fully Paid      False  ...   \n",
      "4                                                Current      False  ...   \n",
      "...                                                  ...        ...  ...   \n",
      "42534  Does not meet the credit policy. Status:Fully ...      False  ...   \n",
      "42535  Does not meet the credit policy. Status:Fully ...      False  ...   \n",
      "42550  Does not meet the credit policy. Status:Fully ...      False  ...   \n",
      "42551                                                NaN        NaN  ...   \n",
      "42552                                                NaN        NaN  ...   \n",
      "\n",
      "      revol_bal revol_util total_acc  last_credit_pull_d  \\\n",
      "0       13648.0      0.837       9.0              Sep-16   \n",
      "1        1687.0      0.094       4.0              Sep-16   \n",
      "2        2956.0      0.985      10.0              Sep-16   \n",
      "3        5598.0      0.210      37.0              Apr-16   \n",
      "4       27783.0      0.539      38.0              Sep-16   \n",
      "...         ...        ...       ...                 ...   \n",
      "42534       0.0        NaN       NaN              May-07   \n",
      "42535       0.0        NaN       NaN              Aug-07   \n",
      "42550       0.0        NaN       NaN              Feb-15   \n",
      "42551       NaN        NaN       NaN                 NaN   \n",
      "42552       NaN        NaN       NaN                 NaN   \n",
      "\n",
      "       last_fico_range_high last_fico_range_low  acc_now_delinq  delinq_amnt  \\\n",
      "0                     744.0               740.0           False          0.0   \n",
      "1                     499.0                 0.0           False          0.0   \n",
      "2                     719.0               715.0           False          0.0   \n",
      "3                     604.0               600.0           False          0.0   \n",
      "4                     694.0               690.0           False          0.0   \n",
      "...                     ...                 ...             ...          ...   \n",
      "42534                 714.0               710.0             NaN          NaN   \n",
      "42535                 724.0               720.0             NaN          NaN   \n",
      "42550                 794.0               790.0             NaN          NaN   \n",
      "42551                   NaN                 NaN             NaN          NaN   \n",
      "42552                   NaN                 NaN             NaN          NaN   \n",
      "\n",
      "       pub_rec_bankruptcies  tax_liens  \n",
      "0                       0.0      False  \n",
      "1                       0.0      False  \n",
      "2                       0.0      False  \n",
      "3                       0.0      False  \n",
      "4                       0.0      False  \n",
      "...                     ...        ...  \n",
      "42534                   NaN        NaN  \n",
      "42535                   NaN        NaN  \n",
      "42550                   NaN        NaN  \n",
      "42551                   NaN        NaN  \n",
      "42552                   NaN        NaN  \n",
      "\n",
      "[42538 rows x 31 columns]\n"
     ]
    }
   ],
   "source": [
    "print(redundant_col_removed)"
   ]
  },
  {
   "cell_type": "markdown",
   "metadata": {},
   "source": [
    "### Checking and dropping rows with more than half NULL values. After dropping rows with more than half NULL values, we have 42535 Rows and 31 Columns in the dataset."
   ]
  },
  {
   "cell_type": "code",
   "execution_count": 23,
   "metadata": {},
   "outputs": [],
   "source": [
    "half_count_cols = redundant_col_removed.shape[1] / 2"
   ]
  },
  {
   "cell_type": "code",
   "execution_count": 24,
   "metadata": {},
   "outputs": [
    {
     "name": "stdout",
     "output_type": "stream",
     "text": [
      "15.5\n"
     ]
    }
   ],
   "source": [
    "print(half_count_cols)"
   ]
  },
  {
   "cell_type": "code",
   "execution_count": 25,
   "metadata": {},
   "outputs": [],
   "source": [
    "null_rows_removed = redundant_col_removed.dropna(thresh=half_count_cols,axis=0)"
   ]
  },
  {
   "cell_type": "code",
   "execution_count": 26,
   "metadata": {},
   "outputs": [
    {
     "name": "stdout",
     "output_type": "stream",
     "text": [
      "       loan_amnt        term  installment grade emp_length home_ownership  \\\n",
      "0         5000.0   36 months       162.87     B  10+ years           RENT   \n",
      "1         2500.0   60 months        59.83     C   < 1 year           RENT   \n",
      "2         2400.0   36 months        84.33     C  10+ years           RENT   \n",
      "3        10000.0   36 months       339.31     C  10+ years           RENT   \n",
      "4         3000.0   60 months        67.79     B     1 year           RENT   \n",
      "...          ...         ...          ...   ...        ...            ...   \n",
      "42532     3500.0   36 months       113.39     C   < 1 year           RENT   \n",
      "42533     1000.0   36 months        32.11     B   < 1 year           RENT   \n",
      "42534     2525.0   36 months        80.69     B   < 1 year           RENT   \n",
      "42535     6500.0   36 months       204.84     A   < 1 year           NONE   \n",
      "42550     5000.0   36 months       156.11     A  10+ years       MORTGAGE   \n",
      "\n",
      "       annual_inc verification_status  \\\n",
      "0         24000.0            Verified   \n",
      "1         30000.0     Source Verified   \n",
      "2         12252.0        Not Verified   \n",
      "3         49200.0     Source Verified   \n",
      "4         80000.0     Source Verified   \n",
      "...           ...                 ...   \n",
      "42532    180000.0        Not Verified   \n",
      "42533     12000.0        Not Verified   \n",
      "42534    110000.0        Not Verified   \n",
      "42535         NaN        Not Verified   \n",
      "42550     70000.0        Not Verified   \n",
      "\n",
      "                                             loan_status pymnt_plan  ...  \\\n",
      "0                                             Fully Paid      False  ...   \n",
      "1                                            Charged Off      False  ...   \n",
      "2                                             Fully Paid      False  ...   \n",
      "3                                             Fully Paid      False  ...   \n",
      "4                                                Current      False  ...   \n",
      "...                                                  ...        ...  ...   \n",
      "42532  Does not meet the credit policy. Status:Fully ...      False  ...   \n",
      "42533  Does not meet the credit policy. Status:Fully ...      False  ...   \n",
      "42534  Does not meet the credit policy. Status:Fully ...      False  ...   \n",
      "42535  Does not meet the credit policy. Status:Fully ...      False  ...   \n",
      "42550  Does not meet the credit policy. Status:Fully ...      False  ...   \n",
      "\n",
      "      revol_bal revol_util total_acc  last_credit_pull_d  \\\n",
      "0       13648.0      0.837       9.0              Sep-16   \n",
      "1        1687.0      0.094       4.0              Sep-16   \n",
      "2        2956.0      0.985      10.0              Sep-16   \n",
      "3        5598.0      0.210      37.0              Apr-16   \n",
      "4       27783.0      0.539      38.0              Sep-16   \n",
      "...         ...        ...       ...                 ...   \n",
      "42532       0.0        NaN       NaN              Feb-13   \n",
      "42533       0.0        NaN       NaN              Sep-14   \n",
      "42534       0.0        NaN       NaN              May-07   \n",
      "42535       0.0        NaN       NaN              Aug-07   \n",
      "42550       0.0        NaN       NaN              Feb-15   \n",
      "\n",
      "       last_fico_range_high last_fico_range_low  acc_now_delinq  delinq_amnt  \\\n",
      "0                     744.0               740.0           False          0.0   \n",
      "1                     499.0                 0.0           False          0.0   \n",
      "2                     719.0               715.0           False          0.0   \n",
      "3                     604.0               600.0           False          0.0   \n",
      "4                     694.0               690.0           False          0.0   \n",
      "...                     ...                 ...             ...          ...   \n",
      "42532                 819.0               815.0             NaN          NaN   \n",
      "42533                 784.0               780.0             NaN          NaN   \n",
      "42534                 714.0               710.0             NaN          NaN   \n",
      "42535                 724.0               720.0             NaN          NaN   \n",
      "42550                 794.0               790.0             NaN          NaN   \n",
      "\n",
      "       pub_rec_bankruptcies  tax_liens  \n",
      "0                       0.0      False  \n",
      "1                       0.0      False  \n",
      "2                       0.0      False  \n",
      "3                       0.0      False  \n",
      "4                       0.0      False  \n",
      "...                     ...        ...  \n",
      "42532                   NaN        NaN  \n",
      "42533                   NaN        NaN  \n",
      "42534                   NaN        NaN  \n",
      "42535                   NaN        NaN  \n",
      "42550                   NaN        NaN  \n",
      "\n",
      "[42535 rows x 31 columns]\n"
     ]
    }
   ],
   "source": [
    "print(null_rows_removed)"
   ]
  },
  {
   "cell_type": "markdown",
   "metadata": {},
   "source": [
    "### Finding data types of all columns to find the the existance of Typos, Categorical Values and Mixed Data Types in our dataset wherever the data type is 'object'."
   ]
  },
  {
   "cell_type": "code",
   "execution_count": 27,
   "metadata": {},
   "outputs": [
    {
     "data": {
      "text/plain": [
       "loan_amnt               float64\n",
       "term                     object\n",
       "installment             float64\n",
       "grade                    object\n",
       "emp_length               object\n",
       "home_ownership           object\n",
       "annual_inc              float64\n",
       "verification_status      object\n",
       "loan_status              object\n",
       "pymnt_plan               object\n",
       "purpose                  object\n",
       "title                    object\n",
       "addr_state               object\n",
       "dti                     float64\n",
       "delinq_2yrs             float64\n",
       "earliest_cr_line         object\n",
       "fico_range_low          float64\n",
       "fico_range_high         float64\n",
       "inq_last_6mths          float64\n",
       "open_acc                float64\n",
       "pub_rec                 float64\n",
       "revol_bal               float64\n",
       "revol_util              float64\n",
       "total_acc               float64\n",
       "last_credit_pull_d       object\n",
       "last_fico_range_high    float64\n",
       "last_fico_range_low     float64\n",
       "acc_now_delinq           object\n",
       "delinq_amnt             float64\n",
       "pub_rec_bankruptcies    float64\n",
       "tax_liens                object\n",
       "dtype: object"
      ]
     },
     "execution_count": 27,
     "metadata": {},
     "output_type": "execute_result"
    }
   ],
   "source": [
    "null_rows_removed.dtypes"
   ]
  },
  {
   "cell_type": "markdown",
   "metadata": {},
   "source": [
    "### Replacing categorical values for columns 'emp_length', 'grade','home_ownership', 'verification_status', 'purpose' and 'addr_state' as shown in the output."
   ]
  },
  {
   "cell_type": "code",
   "execution_count": 28,
   "metadata": {},
   "outputs": [],
   "source": [
    "corelation_dict = {\"emp_length\": {\"10+ years\": 10,\"9 years\": 9,\"8 years\": 8,\"7 years\": 7,\"6 years\":\n",
    "6, \"5 years\": 5,\"4 years\": 4,\"3 years\": 3,\"2 years\": 2,\"1 year\": 1,\"< 1 year\": 0,\"n/a\":\n",
    "0},\"grade\":{\"A\": 1,\"B\": 2,\"C\": 3,\"D\": 4,\"E\": 5,\"F\": 6,\"G\": 7}}\n",
    "categorical_handle = null_rows_removed.replace(corelation_dict)"
   ]
  },
  {
   "cell_type": "code",
   "execution_count": 29,
   "metadata": {},
   "outputs": [
    {
     "name": "stdout",
     "output_type": "stream",
     "text": [
      "       loan_amnt        term  installment  grade  emp_length home_ownership  \\\n",
      "0         5000.0   36 months       162.87      2        10.0           RENT   \n",
      "1         2500.0   60 months        59.83      3         0.0           RENT   \n",
      "2         2400.0   36 months        84.33      3        10.0           RENT   \n",
      "3        10000.0   36 months       339.31      3        10.0           RENT   \n",
      "4         3000.0   60 months        67.79      2         1.0           RENT   \n",
      "...          ...         ...          ...    ...         ...            ...   \n",
      "42532     3500.0   36 months       113.39      3         0.0           RENT   \n",
      "42533     1000.0   36 months        32.11      2         0.0           RENT   \n",
      "42534     2525.0   36 months        80.69      2         0.0           RENT   \n",
      "42535     6500.0   36 months       204.84      1         0.0           NONE   \n",
      "42550     5000.0   36 months       156.11      1        10.0       MORTGAGE   \n",
      "\n",
      "       annual_inc verification_status  \\\n",
      "0         24000.0            Verified   \n",
      "1         30000.0     Source Verified   \n",
      "2         12252.0        Not Verified   \n",
      "3         49200.0     Source Verified   \n",
      "4         80000.0     Source Verified   \n",
      "...           ...                 ...   \n",
      "42532    180000.0        Not Verified   \n",
      "42533     12000.0        Not Verified   \n",
      "42534    110000.0        Not Verified   \n",
      "42535         NaN        Not Verified   \n",
      "42550     70000.0        Not Verified   \n",
      "\n",
      "                                             loan_status pymnt_plan  ...  \\\n",
      "0                                             Fully Paid      False  ...   \n",
      "1                                            Charged Off      False  ...   \n",
      "2                                             Fully Paid      False  ...   \n",
      "3                                             Fully Paid      False  ...   \n",
      "4                                                Current      False  ...   \n",
      "...                                                  ...        ...  ...   \n",
      "42532  Does not meet the credit policy. Status:Fully ...      False  ...   \n",
      "42533  Does not meet the credit policy. Status:Fully ...      False  ...   \n",
      "42534  Does not meet the credit policy. Status:Fully ...      False  ...   \n",
      "42535  Does not meet the credit policy. Status:Fully ...      False  ...   \n",
      "42550  Does not meet the credit policy. Status:Fully ...      False  ...   \n",
      "\n",
      "      revol_bal revol_util total_acc  last_credit_pull_d  \\\n",
      "0       13648.0      0.837       9.0              Sep-16   \n",
      "1        1687.0      0.094       4.0              Sep-16   \n",
      "2        2956.0      0.985      10.0              Sep-16   \n",
      "3        5598.0      0.210      37.0              Apr-16   \n",
      "4       27783.0      0.539      38.0              Sep-16   \n",
      "...         ...        ...       ...                 ...   \n",
      "42532       0.0        NaN       NaN              Feb-13   \n",
      "42533       0.0        NaN       NaN              Sep-14   \n",
      "42534       0.0        NaN       NaN              May-07   \n",
      "42535       0.0        NaN       NaN              Aug-07   \n",
      "42550       0.0        NaN       NaN              Feb-15   \n",
      "\n",
      "       last_fico_range_high last_fico_range_low  acc_now_delinq  delinq_amnt  \\\n",
      "0                     744.0               740.0           False          0.0   \n",
      "1                     499.0                 0.0           False          0.0   \n",
      "2                     719.0               715.0           False          0.0   \n",
      "3                     604.0               600.0           False          0.0   \n",
      "4                     694.0               690.0           False          0.0   \n",
      "...                     ...                 ...             ...          ...   \n",
      "42532                 819.0               815.0             NaN          NaN   \n",
      "42533                 784.0               780.0             NaN          NaN   \n",
      "42534                 714.0               710.0             NaN          NaN   \n",
      "42535                 724.0               720.0             NaN          NaN   \n",
      "42550                 794.0               790.0             NaN          NaN   \n",
      "\n",
      "       pub_rec_bankruptcies  tax_liens  \n",
      "0                       0.0      False  \n",
      "1                       0.0      False  \n",
      "2                       0.0      False  \n",
      "3                       0.0      False  \n",
      "4                       0.0      False  \n",
      "...                     ...        ...  \n",
      "42532                   NaN        NaN  \n",
      "42533                   NaN        NaN  \n",
      "42534                   NaN        NaN  \n",
      "42535                   NaN        NaN  \n",
      "42550                   NaN        NaN  \n",
      "\n",
      "[42535 rows x 31 columns]\n"
     ]
    }
   ],
   "source": [
    "print(categorical_handle)"
   ]
  },
  {
   "cell_type": "code",
   "execution_count": 30,
   "metadata": {},
   "outputs": [
    {
     "name": "stdout",
     "output_type": "stream",
     "text": [
      "RENT        20181\n",
      "MORTGAGE    18959\n",
      "OWN          3251\n",
      "OTHER         136\n",
      "NONE            8\n",
      "Name: home_ownership, dtype: int64\n"
     ]
    }
   ],
   "source": [
    "print (categorical_handle['home_ownership'].value_counts())"
   ]
  },
  {
   "cell_type": "code",
   "execution_count": 31,
   "metadata": {},
   "outputs": [],
   "source": [
    "corelation_dict = {\"home_ownership\": {\"RENT\": 1,\"MORTGAGE\": 2,\"OWN\": 3,\"OTHER\": 7,\"NONE\":0}}\n",
    "categorical_handle = categorical_handle.replace(corelation_dict)"
   ]
  },
  {
   "cell_type": "code",
   "execution_count": 32,
   "metadata": {},
   "outputs": [
    {
     "name": "stdout",
     "output_type": "stream",
     "text": [
      "1    20181\n",
      "2    18959\n",
      "3     3251\n",
      "7      136\n",
      "0        8\n",
      "Name: home_ownership, dtype: int64\n"
     ]
    }
   ],
   "source": [
    "print (categorical_handle['home_ownership'].value_counts())"
   ]
  },
  {
   "cell_type": "code",
   "execution_count": 33,
   "metadata": {},
   "outputs": [
    {
     "name": "stdout",
     "output_type": "stream",
     "text": [
      "Not Verified       18758\n",
      "Verified           13471\n",
      "Source Verified    10306\n",
      "Name: verification_status, dtype: int64\n"
     ]
    }
   ],
   "source": [
    "print (categorical_handle['verification_status'].value_counts())"
   ]
  },
  {
   "cell_type": "code",
   "execution_count": 34,
   "metadata": {},
   "outputs": [],
   "source": [
    "corelation_dict = {\"verification_status\": {\"Not Verified\": 0,\"Verified\": 1,\"Source Verified\": 2}}\n",
    "categorical_handle = categorical_handle.replace(corelation_dict)"
   ]
  },
  {
   "cell_type": "code",
   "execution_count": 35,
   "metadata": {},
   "outputs": [
    {
     "name": "stdout",
     "output_type": "stream",
     "text": [
      "0    18758\n",
      "1    13471\n",
      "2    10306\n",
      "Name: verification_status, dtype: int64\n"
     ]
    }
   ],
   "source": [
    "print (categorical_handle['verification_status'].value_counts())"
   ]
  },
  {
   "cell_type": "code",
   "execution_count": 36,
   "metadata": {},
   "outputs": [
    {
     "name": "stdout",
     "output_type": "stream",
     "text": [
      "debt_consolidation    19776\n",
      "credit_card            5477\n",
      "other                  4425\n",
      "home_improvement       3199\n",
      "major_purchase         2311\n",
      "small_business         1992\n",
      "car                    1615\n",
      "wedding                1004\n",
      "medical                 753\n",
      "moving                  629\n",
      "house                   426\n",
      "educational             422\n",
      "vacation                400\n",
      "renewable_energy        106\n",
      "Name: purpose, dtype: int64\n"
     ]
    }
   ],
   "source": [
    "print (categorical_handle['purpose'].value_counts())"
   ]
  },
  {
   "cell_type": "code",
   "execution_count": 37,
   "metadata": {},
   "outputs": [],
   "source": [
    "corelation_dict = {\"purpose\": {\"debt_consolidation\": 0,\"credit_card\": 1,\"home_improvement\": 2,\"major_purchase\": 3,\"small_business\": 4,\"car\": 5,\"wedding\": 6,\"medical\": 7,\"moving\": 8,\"house\": 9,\"educational\": 10,\"vacation\": 11,\"renewable_energy\": 12,\"other\": 13}}\n",
    "categorical_handle = categorical_handle.replace(corelation_dict)"
   ]
  },
  {
   "cell_type": "code",
   "execution_count": 38,
   "metadata": {},
   "outputs": [
    {
     "name": "stdout",
     "output_type": "stream",
     "text": [
      "0     19776\n",
      "1      5477\n",
      "13     4425\n",
      "2      3199\n",
      "3      2311\n",
      "4      1992\n",
      "5      1615\n",
      "6      1004\n",
      "7       753\n",
      "8       629\n",
      "9       426\n",
      "10      422\n",
      "11      400\n",
      "12      106\n",
      "Name: purpose, dtype: int64\n"
     ]
    }
   ],
   "source": [
    "print (categorical_handle['purpose'].value_counts())"
   ]
  },
  {
   "cell_type": "code",
   "execution_count": 39,
   "metadata": {
    "scrolled": true
   },
   "outputs": [
    {
     "name": "stdout",
     "output_type": "stream",
     "text": [
      "CA    7429\n",
      "NY    4065\n",
      "FL    3104\n",
      "TX    2915\n",
      "NJ    1988\n",
      "IL    1672\n",
      "PA    1651\n",
      "GA    1503\n",
      "VA    1487\n",
      "MA    1438\n",
      "OH    1329\n",
      "MD    1125\n",
      "AZ     933\n",
      "WA     888\n",
      "CO     857\n",
      "NC     830\n",
      "CT     816\n",
      "MI     796\n",
      "MO     765\n",
      "MN     652\n",
      "NV     527\n",
      "WI     516\n",
      "SC     489\n",
      "AL     484\n",
      "OR     468\n",
      "LA     461\n",
      "KY     359\n",
      "OK     317\n",
      "KS     298\n",
      "UT     278\n",
      "AR     261\n",
      "DC     224\n",
      "RI     208\n",
      "NM     205\n",
      "NH     188\n",
      "WV     187\n",
      "HI     181\n",
      "DE     136\n",
      "MT      96\n",
      "WY      87\n",
      "AK      86\n",
      "SD      67\n",
      "VT      57\n",
      "TN      32\n",
      "MS      26\n",
      "IN      19\n",
      "IA      12\n",
      "NE      11\n",
      "ID       9\n",
      "ME       3\n",
      "Name: addr_state, dtype: int64\n"
     ]
    }
   ],
   "source": [
    "print (categorical_handle['addr_state'].value_counts())"
   ]
  },
  {
   "cell_type": "code",
   "execution_count": 40,
   "metadata": {},
   "outputs": [
    {
     "name": "stdout",
     "output_type": "stream",
     "text": [
      "0     7429\n",
      "1     4065\n",
      "2     3104\n",
      "3     2915\n",
      "4     1988\n",
      "5     1672\n",
      "6     1651\n",
      "7     1503\n",
      "8     1487\n",
      "9     1438\n",
      "10    1329\n",
      "12    1125\n",
      "13     933\n",
      "14     888\n",
      "15     857\n",
      "16     830\n",
      "17     816\n",
      "18     796\n",
      "19     765\n",
      "20     652\n",
      "21     527\n",
      "22     516\n",
      "23     489\n",
      "24     484\n",
      "25     468\n",
      "26     461\n",
      "27     359\n",
      "28     317\n",
      "29     298\n",
      "31     278\n",
      "32     261\n",
      "33     224\n",
      "34     208\n",
      "35     205\n",
      "36     188\n",
      "37     187\n",
      "38     181\n",
      "39     136\n",
      "40      96\n",
      "41      87\n",
      "42      86\n",
      "43      67\n",
      "44      57\n",
      "45      32\n",
      "46      26\n",
      "47      19\n",
      "48      12\n",
      "49      11\n",
      "30       9\n",
      "11       3\n",
      "Name: addr_state, dtype: int64\n"
     ]
    }
   ],
   "source": [
    "corelation_dict = {\"addr_state\": {\"CA\": 0,\"NY\": 1,\"FL\": 2,\"TX\": 3,\"NJ\": 4,\"IL\": 5,\"PA\": 6,\"GA\": 7,\"VA\": 8,\"MA\": 9,\"OH\": 10,\"MD\": 12,\"AZ\": 13,\"WA\": 14,\"CO\": 15,\"NC\": 16,\"CT\": 17,\"MI\": 18,\"MO\": 19,\"MN\": 20,\"NV\": 21,\"WI\": 22,\"SC\": 23,\"AL\": 24,\"OR\": 25,\"LA\": 26,\"KY\": 27,\"OK\": 28,\"KS\": 29,\"UT\": 31,\"AR\": 32,\"DC\": 33,\"RI\": 34,\"NM\": 35,\"NH\": 36,\"WV\": 37,\"HI\": 38,\"DE\": 39,\"MT\": 40,\"WY\": 41,\"AK\": 42,\"SD\": 43,\"VT\": 44,\"TN\": 45,\"MS\": 46,\"IN\": 47,\"IA\": 48,\"NE\": 49,\"ID\": 30,\"ME\": 11}}\n",
    "categorical_handle = categorical_handle.replace(corelation_dict)\n",
    "print (categorical_handle['addr_state'].value_counts())"
   ]
  },
  {
   "cell_type": "markdown",
   "metadata": {},
   "source": [
    "# Target class :"
   ]
  },
  {
   "cell_type": "markdown",
   "metadata": {},
   "source": [
    "### Replacing categorical values for 'loan_status' as shown in the output. The taget class for the dataset is 'loan_status'."
   ]
  },
  {
   "cell_type": "code",
   "execution_count": 41,
   "metadata": {
    "scrolled": true
   },
   "outputs": [
    {
     "name": "stdout",
     "output_type": "stream",
     "text": [
      "Fully Paid                                             33586\n",
      "Charged Off                                             5653\n",
      "Does not meet the credit policy. Status:Fully Paid      1988\n",
      "Does not meet the credit policy. Status:Charged Off      761\n",
      "Current                                                  513\n",
      "In Grace Period                                           16\n",
      "Late (31-120 days)                                        12\n",
      "Late (16-30 days)                                          5\n",
      "Default                                                    1\n",
      "Name: loan_status, dtype: int64\n"
     ]
    }
   ],
   "source": [
    "print (categorical_handle['loan_status'].value_counts())"
   ]
  },
  {
   "cell_type": "code",
   "execution_count": 42,
   "metadata": {},
   "outputs": [],
   "source": [
    "corelation_dict = {\"loan_status\": {\"Fully Paid\": 0,\"Charged Off\": 1,\"Does not meet the credit policy. Status:Fully Paid\": 2,\"Does not meet the credit policy. Status:Charged Off\": 3,\"Current\": 4,\"In Grace Period\": 5,\"Late (31-120 days)\": 6,\"Late (16-30 days)\": 7,\"Default\": 8}}\n",
    "categorical_handle = categorical_handle.replace(corelation_dict)"
   ]
  },
  {
   "cell_type": "code",
   "execution_count": 43,
   "metadata": {},
   "outputs": [
    {
     "name": "stdout",
     "output_type": "stream",
     "text": [
      "0    33586\n",
      "1     5653\n",
      "2     1988\n",
      "3      761\n",
      "4      513\n",
      "5       16\n",
      "6       12\n",
      "7        5\n",
      "8        1\n",
      "Name: loan_status, dtype: int64\n"
     ]
    }
   ],
   "source": [
    "print (categorical_handle['loan_status'].value_counts())"
   ]
  },
  {
   "cell_type": "code",
   "execution_count": 44,
   "metadata": {},
   "outputs": [
    {
     "name": "stdout",
     "output_type": "stream",
     "text": [
      "       loan_amnt        term  installment  grade  emp_length  home_ownership  \\\n",
      "0         5000.0   36 months       162.87      2        10.0               1   \n",
      "1         2500.0   60 months        59.83      3         0.0               1   \n",
      "2         2400.0   36 months        84.33      3        10.0               1   \n",
      "3        10000.0   36 months       339.31      3        10.0               1   \n",
      "4         3000.0   60 months        67.79      2         1.0               1   \n",
      "...          ...         ...          ...    ...         ...             ...   \n",
      "42532     3500.0   36 months       113.39      3         0.0               1   \n",
      "42533     1000.0   36 months        32.11      2         0.0               1   \n",
      "42534     2525.0   36 months        80.69      2         0.0               1   \n",
      "42535     6500.0   36 months       204.84      1         0.0               0   \n",
      "42550     5000.0   36 months       156.11      1        10.0               2   \n",
      "\n",
      "       annual_inc  verification_status  loan_status pymnt_plan  ...  \\\n",
      "0         24000.0                    1            0      False  ...   \n",
      "1         30000.0                    2            1      False  ...   \n",
      "2         12252.0                    0            0      False  ...   \n",
      "3         49200.0                    2            0      False  ...   \n",
      "4         80000.0                    2            4      False  ...   \n",
      "...           ...                  ...          ...        ...  ...   \n",
      "42532    180000.0                    0            2      False  ...   \n",
      "42533     12000.0                    0            2      False  ...   \n",
      "42534    110000.0                    0            2      False  ...   \n",
      "42535         NaN                    0            2      False  ...   \n",
      "42550     70000.0                    0            2      False  ...   \n",
      "\n",
      "       revol_bal revol_util  total_acc  last_credit_pull_d  \\\n",
      "0        13648.0      0.837        9.0              Sep-16   \n",
      "1         1687.0      0.094        4.0              Sep-16   \n",
      "2         2956.0      0.985       10.0              Sep-16   \n",
      "3         5598.0      0.210       37.0              Apr-16   \n",
      "4        27783.0      0.539       38.0              Sep-16   \n",
      "...          ...        ...        ...                 ...   \n",
      "42532        0.0        NaN        NaN              Feb-13   \n",
      "42533        0.0        NaN        NaN              Sep-14   \n",
      "42534        0.0        NaN        NaN              May-07   \n",
      "42535        0.0        NaN        NaN              Aug-07   \n",
      "42550        0.0        NaN        NaN              Feb-15   \n",
      "\n",
      "       last_fico_range_high last_fico_range_low  acc_now_delinq  delinq_amnt  \\\n",
      "0                     744.0               740.0           False          0.0   \n",
      "1                     499.0                 0.0           False          0.0   \n",
      "2                     719.0               715.0           False          0.0   \n",
      "3                     604.0               600.0           False          0.0   \n",
      "4                     694.0               690.0           False          0.0   \n",
      "...                     ...                 ...             ...          ...   \n",
      "42532                 819.0               815.0             NaN          NaN   \n",
      "42533                 784.0               780.0             NaN          NaN   \n",
      "42534                 714.0               710.0             NaN          NaN   \n",
      "42535                 724.0               720.0             NaN          NaN   \n",
      "42550                 794.0               790.0             NaN          NaN   \n",
      "\n",
      "       pub_rec_bankruptcies  tax_liens  \n",
      "0                       0.0      False  \n",
      "1                       0.0      False  \n",
      "2                       0.0      False  \n",
      "3                       0.0      False  \n",
      "4                       0.0      False  \n",
      "...                     ...        ...  \n",
      "42532                   NaN        NaN  \n",
      "42533                   NaN        NaN  \n",
      "42534                   NaN        NaN  \n",
      "42535                   NaN        NaN  \n",
      "42550                   NaN        NaN  \n",
      "\n",
      "[42535 rows x 31 columns]\n"
     ]
    }
   ],
   "source": [
    "print(categorical_handle)"
   ]
  },
  {
   "cell_type": "markdown",
   "metadata": {},
   "source": [
    "### Removing 'months' from 'term' column using rstrip and typecasting it to float data type as shown in the output."
   ]
  },
  {
   "cell_type": "code",
   "execution_count": 45,
   "metadata": {},
   "outputs": [],
   "source": [
    "categorical_handle['term'] = categorical_handle['term'].str.rstrip(' months').astype('float')"
   ]
  },
  {
   "cell_type": "code",
   "execution_count": 46,
   "metadata": {},
   "outputs": [
    {
     "name": "stdout",
     "output_type": "stream",
     "text": [
      "       loan_amnt  term  installment  grade  emp_length  home_ownership  \\\n",
      "0         5000.0  36.0       162.87      2        10.0               1   \n",
      "1         2500.0  60.0        59.83      3         0.0               1   \n",
      "2         2400.0  36.0        84.33      3        10.0               1   \n",
      "3        10000.0  36.0       339.31      3        10.0               1   \n",
      "4         3000.0  60.0        67.79      2         1.0               1   \n",
      "...          ...   ...          ...    ...         ...             ...   \n",
      "42532     3500.0  36.0       113.39      3         0.0               1   \n",
      "42533     1000.0  36.0        32.11      2         0.0               1   \n",
      "42534     2525.0  36.0        80.69      2         0.0               1   \n",
      "42535     6500.0  36.0       204.84      1         0.0               0   \n",
      "42550     5000.0  36.0       156.11      1        10.0               2   \n",
      "\n",
      "       annual_inc  verification_status  loan_status pymnt_plan  ...  \\\n",
      "0         24000.0                    1            0      False  ...   \n",
      "1         30000.0                    2            1      False  ...   \n",
      "2         12252.0                    0            0      False  ...   \n",
      "3         49200.0                    2            0      False  ...   \n",
      "4         80000.0                    2            4      False  ...   \n",
      "...           ...                  ...          ...        ...  ...   \n",
      "42532    180000.0                    0            2      False  ...   \n",
      "42533     12000.0                    0            2      False  ...   \n",
      "42534    110000.0                    0            2      False  ...   \n",
      "42535         NaN                    0            2      False  ...   \n",
      "42550     70000.0                    0            2      False  ...   \n",
      "\n",
      "       revol_bal revol_util  total_acc  last_credit_pull_d  \\\n",
      "0        13648.0      0.837        9.0              Sep-16   \n",
      "1         1687.0      0.094        4.0              Sep-16   \n",
      "2         2956.0      0.985       10.0              Sep-16   \n",
      "3         5598.0      0.210       37.0              Apr-16   \n",
      "4        27783.0      0.539       38.0              Sep-16   \n",
      "...          ...        ...        ...                 ...   \n",
      "42532        0.0        NaN        NaN              Feb-13   \n",
      "42533        0.0        NaN        NaN              Sep-14   \n",
      "42534        0.0        NaN        NaN              May-07   \n",
      "42535        0.0        NaN        NaN              Aug-07   \n",
      "42550        0.0        NaN        NaN              Feb-15   \n",
      "\n",
      "       last_fico_range_high last_fico_range_low  acc_now_delinq  delinq_amnt  \\\n",
      "0                     744.0               740.0           False          0.0   \n",
      "1                     499.0                 0.0           False          0.0   \n",
      "2                     719.0               715.0           False          0.0   \n",
      "3                     604.0               600.0           False          0.0   \n",
      "4                     694.0               690.0           False          0.0   \n",
      "...                     ...                 ...             ...          ...   \n",
      "42532                 819.0               815.0             NaN          NaN   \n",
      "42533                 784.0               780.0             NaN          NaN   \n",
      "42534                 714.0               710.0             NaN          NaN   \n",
      "42535                 724.0               720.0             NaN          NaN   \n",
      "42550                 794.0               790.0             NaN          NaN   \n",
      "\n",
      "       pub_rec_bankruptcies  tax_liens  \n",
      "0                       0.0      False  \n",
      "1                       0.0      False  \n",
      "2                       0.0      False  \n",
      "3                       0.0      False  \n",
      "4                       0.0      False  \n",
      "...                     ...        ...  \n",
      "42532                   NaN        NaN  \n",
      "42533                   NaN        NaN  \n",
      "42534                   NaN        NaN  \n",
      "42535                   NaN        NaN  \n",
      "42550                   NaN        NaN  \n",
      "\n",
      "[42535 rows x 31 columns]\n"
     ]
    }
   ],
   "source": [
    "print(categorical_handle)"
   ]
  },
  {
   "cell_type": "markdown",
   "metadata": {},
   "source": [
    "### Dropping the column 'paymt_plan', 'acc_now_delinq' and 'tax_liens' because they have 1, 4 and 1 True values respectively which do not impact the target variable. After dropping, we have 42535 Rows and 28 Columns in the dataset as shown in the output."
   ]
  },
  {
   "cell_type": "code",
   "execution_count": 47,
   "metadata": {},
   "outputs": [
    {
     "name": "stdout",
     "output_type": "stream",
     "text": [
      "False    42534\n",
      "True         1\n",
      "Name: pymnt_plan, dtype: int64\n"
     ]
    }
   ],
   "source": [
    "print (categorical_handle['pymnt_plan'].value_counts())"
   ]
  },
  {
   "cell_type": "code",
   "execution_count": 48,
   "metadata": {},
   "outputs": [],
   "source": [
    "drop_col=['pymnt_plan']\n",
    "categorical_handle = categorical_handle.drop(drop_col,axis=1)"
   ]
  },
  {
   "cell_type": "code",
   "execution_count": 49,
   "metadata": {},
   "outputs": [
    {
     "name": "stdout",
     "output_type": "stream",
     "text": [
      "False    42502\n",
      "True         4\n",
      "Name: acc_now_delinq, dtype: int64\n"
     ]
    }
   ],
   "source": [
    "print (categorical_handle['acc_now_delinq'].value_counts())"
   ]
  },
  {
   "cell_type": "code",
   "execution_count": 50,
   "metadata": {},
   "outputs": [],
   "source": [
    "drop_col=['acc_now_delinq']\n",
    "categorical_handle = categorical_handle.drop(drop_col,axis=1)"
   ]
  },
  {
   "cell_type": "code",
   "execution_count": 51,
   "metadata": {},
   "outputs": [
    {
     "name": "stdout",
     "output_type": "stream",
     "text": [
      "False    42429\n",
      "True         1\n",
      "Name: tax_liens, dtype: int64\n"
     ]
    }
   ],
   "source": [
    "print (categorical_handle['tax_liens'].value_counts())"
   ]
  },
  {
   "cell_type": "code",
   "execution_count": 52,
   "metadata": {},
   "outputs": [],
   "source": [
    "drop_col=['tax_liens']\n",
    "categorical_handle = categorical_handle.drop(drop_col,axis=1)"
   ]
  },
  {
   "cell_type": "code",
   "execution_count": 53,
   "metadata": {},
   "outputs": [
    {
     "name": "stdout",
     "output_type": "stream",
     "text": [
      "       loan_amnt  term  installment  grade  emp_length  home_ownership  \\\n",
      "0         5000.0  36.0       162.87      2        10.0               1   \n",
      "1         2500.0  60.0        59.83      3         0.0               1   \n",
      "2         2400.0  36.0        84.33      3        10.0               1   \n",
      "3        10000.0  36.0       339.31      3        10.0               1   \n",
      "4         3000.0  60.0        67.79      2         1.0               1   \n",
      "...          ...   ...          ...    ...         ...             ...   \n",
      "42532     3500.0  36.0       113.39      3         0.0               1   \n",
      "42533     1000.0  36.0        32.11      2         0.0               1   \n",
      "42534     2525.0  36.0        80.69      2         0.0               1   \n",
      "42535     6500.0  36.0       204.84      1         0.0               0   \n",
      "42550     5000.0  36.0       156.11      1        10.0               2   \n",
      "\n",
      "       annual_inc  verification_status  loan_status  purpose  ... open_acc  \\\n",
      "0         24000.0                    1            0        1  ...      3.0   \n",
      "1         30000.0                    2            1        5  ...      3.0   \n",
      "2         12252.0                    0            0        4  ...      2.0   \n",
      "3         49200.0                    2            0       13  ...     10.0   \n",
      "4         80000.0                    2            4       13  ...     15.0   \n",
      "...           ...                  ...          ...      ...  ...      ...   \n",
      "42532    180000.0                    0            2       13  ...      NaN   \n",
      "42533     12000.0                    0            2       13  ...      NaN   \n",
      "42534    110000.0                    0            2       13  ...      NaN   \n",
      "42535         NaN                    0            2       13  ...      NaN   \n",
      "42550     70000.0                    0            2       13  ...      NaN   \n",
      "\n",
      "       pub_rec  revol_bal  revol_util total_acc  last_credit_pull_d  \\\n",
      "0          0.0    13648.0       0.837       9.0              Sep-16   \n",
      "1          0.0     1687.0       0.094       4.0              Sep-16   \n",
      "2          0.0     2956.0       0.985      10.0              Sep-16   \n",
      "3          0.0     5598.0       0.210      37.0              Apr-16   \n",
      "4          0.0    27783.0       0.539      38.0              Sep-16   \n",
      "...        ...        ...         ...       ...                 ...   \n",
      "42532      NaN        0.0         NaN       NaN              Feb-13   \n",
      "42533      NaN        0.0         NaN       NaN              Sep-14   \n",
      "42534      NaN        0.0         NaN       NaN              May-07   \n",
      "42535      NaN        0.0         NaN       NaN              Aug-07   \n",
      "42550      NaN        0.0         NaN       NaN              Feb-15   \n",
      "\n",
      "       last_fico_range_high  last_fico_range_low  delinq_amnt  \\\n",
      "0                     744.0                740.0          0.0   \n",
      "1                     499.0                  0.0          0.0   \n",
      "2                     719.0                715.0          0.0   \n",
      "3                     604.0                600.0          0.0   \n",
      "4                     694.0                690.0          0.0   \n",
      "...                     ...                  ...          ...   \n",
      "42532                 819.0                815.0          NaN   \n",
      "42533                 784.0                780.0          NaN   \n",
      "42534                 714.0                710.0          NaN   \n",
      "42535                 724.0                720.0          NaN   \n",
      "42550                 794.0                790.0          NaN   \n",
      "\n",
      "       pub_rec_bankruptcies  \n",
      "0                       0.0  \n",
      "1                       0.0  \n",
      "2                       0.0  \n",
      "3                       0.0  \n",
      "4                       0.0  \n",
      "...                     ...  \n",
      "42532                   NaN  \n",
      "42533                   NaN  \n",
      "42534                   NaN  \n",
      "42535                   NaN  \n",
      "42550                   NaN  \n",
      "\n",
      "[42535 rows x 28 columns]\n"
     ]
    }
   ],
   "source": [
    "print(categorical_handle)"
   ]
  },
  {
   "cell_type": "markdown",
   "metadata": {},
   "source": [
    "### Dropping the column 'last_credit_pull_d', 'earliest_cr_line' and 'title' because dates, reasons do not impact the target variable. After dropping, we have 42535 Rows and 25 Columns in the dataset as shown in the output."
   ]
  },
  {
   "cell_type": "code",
   "execution_count": 54,
   "metadata": {
    "scrolled": true
   },
   "outputs": [
    {
     "name": "stdout",
     "output_type": "stream",
     "text": [
      "Sep-16    16232\n",
      "Mar-16      859\n",
      "Aug-16      771\n",
      "Apr-16      700\n",
      "Feb-13      696\n",
      "          ...  \n",
      "Feb-08        3\n",
      "Jul-08        1\n",
      "Jun-08        1\n",
      "May-08        1\n",
      "Jul-07        1\n",
      "Name: last_credit_pull_d, Length: 111, dtype: int64\n"
     ]
    }
   ],
   "source": [
    "print (categorical_handle['last_credit_pull_d'].value_counts())"
   ]
  },
  {
   "cell_type": "code",
   "execution_count": 55,
   "metadata": {},
   "outputs": [],
   "source": [
    "drop_col=['last_credit_pull_d']\n",
    "categorical_handle = categorical_handle.drop(drop_col,axis=1)"
   ]
  },
  {
   "cell_type": "code",
   "execution_count": 56,
   "metadata": {},
   "outputs": [
    {
     "name": "stdout",
     "output_type": "stream",
     "text": [
      "Oct-99    393\n",
      "Nov-98    390\n",
      "Oct-00    370\n",
      "Dec-98    366\n",
      "Dec-97    348\n",
      "         ... \n",
      "Dec-61      1\n",
      "Oct-68      1\n",
      "Aug-67      1\n",
      "Oct-08      1\n",
      "Sep-65      1\n",
      "Name: earliest_cr_line, Length: 530, dtype: int64\n"
     ]
    }
   ],
   "source": [
    "print (categorical_handle['earliest_cr_line'].value_counts())"
   ]
  },
  {
   "cell_type": "code",
   "execution_count": 57,
   "metadata": {},
   "outputs": [],
   "source": [
    "drop_col=['earliest_cr_line']\n",
    "categorical_handle = categorical_handle.drop(drop_col,axis=1)"
   ]
  },
  {
   "cell_type": "code",
   "execution_count": 58,
   "metadata": {},
   "outputs": [
    {
     "name": "stdout",
     "output_type": "stream",
     "text": [
      "Debt Consolidation            2259\n",
      "Debt Consolidation Loan       1760\n",
      "Personal Loan                  708\n",
      "Consolidation                  547\n",
      "debt consolidation             532\n",
      "                              ... \n",
      "shardebt                         1\n",
      "CAR REPAIRS                      1\n",
      "Debbie Debt Consolidation        1\n",
      "Purchase Ford Bronco             1\n",
      "Pagoda                           1\n",
      "Name: title, Length: 21253, dtype: int64\n"
     ]
    }
   ],
   "source": [
    "print (categorical_handle['title'].value_counts())"
   ]
  },
  {
   "cell_type": "code",
   "execution_count": 59,
   "metadata": {},
   "outputs": [],
   "source": [
    "drop_col=['title']\n",
    "categorical_handle = categorical_handle.drop(drop_col,axis=1)"
   ]
  },
  {
   "cell_type": "code",
   "execution_count": 60,
   "metadata": {},
   "outputs": [
    {
     "name": "stdout",
     "output_type": "stream",
     "text": [
      "       loan_amnt  term  installment  grade  emp_length  home_ownership  \\\n",
      "0         5000.0  36.0       162.87      2        10.0               1   \n",
      "1         2500.0  60.0        59.83      3         0.0               1   \n",
      "2         2400.0  36.0        84.33      3        10.0               1   \n",
      "3        10000.0  36.0       339.31      3        10.0               1   \n",
      "4         3000.0  60.0        67.79      2         1.0               1   \n",
      "...          ...   ...          ...    ...         ...             ...   \n",
      "42532     3500.0  36.0       113.39      3         0.0               1   \n",
      "42533     1000.0  36.0        32.11      2         0.0               1   \n",
      "42534     2525.0  36.0        80.69      2         0.0               1   \n",
      "42535     6500.0  36.0       204.84      1         0.0               0   \n",
      "42550     5000.0  36.0       156.11      1        10.0               2   \n",
      "\n",
      "       annual_inc  verification_status  loan_status  purpose  ...  \\\n",
      "0         24000.0                    1            0        1  ...   \n",
      "1         30000.0                    2            1        5  ...   \n",
      "2         12252.0                    0            0        4  ...   \n",
      "3         49200.0                    2            0       13  ...   \n",
      "4         80000.0                    2            4       13  ...   \n",
      "...           ...                  ...          ...      ...  ...   \n",
      "42532    180000.0                    0            2       13  ...   \n",
      "42533     12000.0                    0            2       13  ...   \n",
      "42534    110000.0                    0            2       13  ...   \n",
      "42535         NaN                    0            2       13  ...   \n",
      "42550     70000.0                    0            2       13  ...   \n",
      "\n",
      "       inq_last_6mths  open_acc  pub_rec  revol_bal  revol_util  total_acc  \\\n",
      "0                 1.0       3.0      0.0    13648.0       0.837        9.0   \n",
      "1                 5.0       3.0      0.0     1687.0       0.094        4.0   \n",
      "2                 2.0       2.0      0.0     2956.0       0.985       10.0   \n",
      "3                 1.0      10.0      0.0     5598.0       0.210       37.0   \n",
      "4                 0.0      15.0      0.0    27783.0       0.539       38.0   \n",
      "...               ...       ...      ...        ...         ...        ...   \n",
      "42532             NaN       NaN      NaN        0.0         NaN        NaN   \n",
      "42533             NaN       NaN      NaN        0.0         NaN        NaN   \n",
      "42534             NaN       NaN      NaN        0.0         NaN        NaN   \n",
      "42535             NaN       NaN      NaN        0.0         NaN        NaN   \n",
      "42550             NaN       NaN      NaN        0.0         NaN        NaN   \n",
      "\n",
      "       last_fico_range_high  last_fico_range_low  delinq_amnt  \\\n",
      "0                     744.0                740.0          0.0   \n",
      "1                     499.0                  0.0          0.0   \n",
      "2                     719.0                715.0          0.0   \n",
      "3                     604.0                600.0          0.0   \n",
      "4                     694.0                690.0          0.0   \n",
      "...                     ...                  ...          ...   \n",
      "42532                 819.0                815.0          NaN   \n",
      "42533                 784.0                780.0          NaN   \n",
      "42534                 714.0                710.0          NaN   \n",
      "42535                 724.0                720.0          NaN   \n",
      "42550                 794.0                790.0          NaN   \n",
      "\n",
      "       pub_rec_bankruptcies  \n",
      "0                       0.0  \n",
      "1                       0.0  \n",
      "2                       0.0  \n",
      "3                       0.0  \n",
      "4                       0.0  \n",
      "...                     ...  \n",
      "42532                   NaN  \n",
      "42533                   NaN  \n",
      "42534                   NaN  \n",
      "42535                   NaN  \n",
      "42550                   NaN  \n",
      "\n",
      "[42535 rows x 25 columns]\n"
     ]
    }
   ],
   "source": [
    "print(categorical_handle)"
   ]
  },
  {
   "cell_type": "code",
   "execution_count": 61,
   "metadata": {},
   "outputs": [
    {
     "data": {
      "text/plain": [
       "loan_amnt               float64\n",
       "term                    float64\n",
       "installment             float64\n",
       "grade                     int64\n",
       "emp_length              float64\n",
       "home_ownership            int64\n",
       "annual_inc              float64\n",
       "verification_status       int64\n",
       "loan_status               int64\n",
       "purpose                   int64\n",
       "addr_state                int64\n",
       "dti                     float64\n",
       "delinq_2yrs             float64\n",
       "fico_range_low          float64\n",
       "fico_range_high         float64\n",
       "inq_last_6mths          float64\n",
       "open_acc                float64\n",
       "pub_rec                 float64\n",
       "revol_bal               float64\n",
       "revol_util              float64\n",
       "total_acc               float64\n",
       "last_fico_range_high    float64\n",
       "last_fico_range_low     float64\n",
       "delinq_amnt             float64\n",
       "pub_rec_bankruptcies    float64\n",
       "dtype: object"
      ]
     },
     "execution_count": 61,
     "metadata": {},
     "output_type": "execute_result"
    }
   ],
   "source": [
    "categorical_handle.dtypes"
   ]
  },
  {
   "cell_type": "markdown",
   "metadata": {},
   "source": [
    "### Since we removed many columns, we are checking rows with more than half NULL values again. The data set had no such rows. So the number of rows and columns remains the same."
   ]
  },
  {
   "cell_type": "code",
   "execution_count": 62,
   "metadata": {},
   "outputs": [],
   "source": [
    "half_count_cols = categorical_handle.shape[1] / 2"
   ]
  },
  {
   "cell_type": "code",
   "execution_count": 63,
   "metadata": {},
   "outputs": [
    {
     "name": "stdout",
     "output_type": "stream",
     "text": [
      "12.5\n"
     ]
    }
   ],
   "source": [
    "print(half_count_cols)"
   ]
  },
  {
   "cell_type": "code",
   "execution_count": 64,
   "metadata": {},
   "outputs": [],
   "source": [
    "final = categorical_handle.dropna(thresh=half_count_cols,axis=0)"
   ]
  },
  {
   "cell_type": "code",
   "execution_count": 65,
   "metadata": {},
   "outputs": [
    {
     "name": "stdout",
     "output_type": "stream",
     "text": [
      "       loan_amnt  term  installment  grade  emp_length  home_ownership  \\\n",
      "0         5000.0  36.0       162.87      2        10.0               1   \n",
      "1         2500.0  60.0        59.83      3         0.0               1   \n",
      "2         2400.0  36.0        84.33      3        10.0               1   \n",
      "3        10000.0  36.0       339.31      3        10.0               1   \n",
      "4         3000.0  60.0        67.79      2         1.0               1   \n",
      "...          ...   ...          ...    ...         ...             ...   \n",
      "42532     3500.0  36.0       113.39      3         0.0               1   \n",
      "42533     1000.0  36.0        32.11      2         0.0               1   \n",
      "42534     2525.0  36.0        80.69      2         0.0               1   \n",
      "42535     6500.0  36.0       204.84      1         0.0               0   \n",
      "42550     5000.0  36.0       156.11      1        10.0               2   \n",
      "\n",
      "       annual_inc  verification_status  loan_status  purpose  ...  \\\n",
      "0         24000.0                    1            0        1  ...   \n",
      "1         30000.0                    2            1        5  ...   \n",
      "2         12252.0                    0            0        4  ...   \n",
      "3         49200.0                    2            0       13  ...   \n",
      "4         80000.0                    2            4       13  ...   \n",
      "...           ...                  ...          ...      ...  ...   \n",
      "42532    180000.0                    0            2       13  ...   \n",
      "42533     12000.0                    0            2       13  ...   \n",
      "42534    110000.0                    0            2       13  ...   \n",
      "42535         NaN                    0            2       13  ...   \n",
      "42550     70000.0                    0            2       13  ...   \n",
      "\n",
      "       inq_last_6mths  open_acc  pub_rec  revol_bal  revol_util  total_acc  \\\n",
      "0                 1.0       3.0      0.0    13648.0       0.837        9.0   \n",
      "1                 5.0       3.0      0.0     1687.0       0.094        4.0   \n",
      "2                 2.0       2.0      0.0     2956.0       0.985       10.0   \n",
      "3                 1.0      10.0      0.0     5598.0       0.210       37.0   \n",
      "4                 0.0      15.0      0.0    27783.0       0.539       38.0   \n",
      "...               ...       ...      ...        ...         ...        ...   \n",
      "42532             NaN       NaN      NaN        0.0         NaN        NaN   \n",
      "42533             NaN       NaN      NaN        0.0         NaN        NaN   \n",
      "42534             NaN       NaN      NaN        0.0         NaN        NaN   \n",
      "42535             NaN       NaN      NaN        0.0         NaN        NaN   \n",
      "42550             NaN       NaN      NaN        0.0         NaN        NaN   \n",
      "\n",
      "       last_fico_range_high  last_fico_range_low  delinq_amnt  \\\n",
      "0                     744.0                740.0          0.0   \n",
      "1                     499.0                  0.0          0.0   \n",
      "2                     719.0                715.0          0.0   \n",
      "3                     604.0                600.0          0.0   \n",
      "4                     694.0                690.0          0.0   \n",
      "...                     ...                  ...          ...   \n",
      "42532                 819.0                815.0          NaN   \n",
      "42533                 784.0                780.0          NaN   \n",
      "42534                 714.0                710.0          NaN   \n",
      "42535                 724.0                720.0          NaN   \n",
      "42550                 794.0                790.0          NaN   \n",
      "\n",
      "       pub_rec_bankruptcies  \n",
      "0                       0.0  \n",
      "1                       0.0  \n",
      "2                       0.0  \n",
      "3                       0.0  \n",
      "4                       0.0  \n",
      "...                     ...  \n",
      "42532                   NaN  \n",
      "42533                   NaN  \n",
      "42534                   NaN  \n",
      "42535                   NaN  \n",
      "42550                   NaN  \n",
      "\n",
      "[42535 rows x 25 columns]\n"
     ]
    }
   ],
   "source": [
    "print(final)"
   ]
  },
  {
   "cell_type": "markdown",
   "metadata": {},
   "source": [
    "### Since we removed many rows, we are checking columns with more than half NULL values again. The data set had no such columns. So the number of rows and columns remains the same."
   ]
  },
  {
   "cell_type": "code",
   "execution_count": 66,
   "metadata": {},
   "outputs": [],
   "source": [
    "half_count_rows = final.shape[0] / 2\n"
   ]
  },
  {
   "cell_type": "code",
   "execution_count": 67,
   "metadata": {},
   "outputs": [
    {
     "name": "stdout",
     "output_type": "stream",
     "text": [
      "21267.5\n"
     ]
    }
   ],
   "source": [
    "print(half_count_rows)\n"
   ]
  },
  {
   "cell_type": "code",
   "execution_count": 68,
   "metadata": {},
   "outputs": [],
   "source": [
    "final = final.dropna(thresh=half_count_rows,axis=1)\n"
   ]
  },
  {
   "cell_type": "code",
   "execution_count": 69,
   "metadata": {},
   "outputs": [
    {
     "name": "stdout",
     "output_type": "stream",
     "text": [
      "       loan_amnt  term  installment  grade  emp_length  home_ownership  \\\n",
      "0         5000.0  36.0       162.87      2        10.0               1   \n",
      "1         2500.0  60.0        59.83      3         0.0               1   \n",
      "2         2400.0  36.0        84.33      3        10.0               1   \n",
      "3        10000.0  36.0       339.31      3        10.0               1   \n",
      "4         3000.0  60.0        67.79      2         1.0               1   \n",
      "...          ...   ...          ...    ...         ...             ...   \n",
      "42532     3500.0  36.0       113.39      3         0.0               1   \n",
      "42533     1000.0  36.0        32.11      2         0.0               1   \n",
      "42534     2525.0  36.0        80.69      2         0.0               1   \n",
      "42535     6500.0  36.0       204.84      1         0.0               0   \n",
      "42550     5000.0  36.0       156.11      1        10.0               2   \n",
      "\n",
      "       annual_inc  verification_status  loan_status  purpose  ...  \\\n",
      "0         24000.0                    1            0        1  ...   \n",
      "1         30000.0                    2            1        5  ...   \n",
      "2         12252.0                    0            0        4  ...   \n",
      "3         49200.0                    2            0       13  ...   \n",
      "4         80000.0                    2            4       13  ...   \n",
      "...           ...                  ...          ...      ...  ...   \n",
      "42532    180000.0                    0            2       13  ...   \n",
      "42533     12000.0                    0            2       13  ...   \n",
      "42534    110000.0                    0            2       13  ...   \n",
      "42535         NaN                    0            2       13  ...   \n",
      "42550     70000.0                    0            2       13  ...   \n",
      "\n",
      "       inq_last_6mths  open_acc  pub_rec  revol_bal  revol_util  total_acc  \\\n",
      "0                 1.0       3.0      0.0    13648.0       0.837        9.0   \n",
      "1                 5.0       3.0      0.0     1687.0       0.094        4.0   \n",
      "2                 2.0       2.0      0.0     2956.0       0.985       10.0   \n",
      "3                 1.0      10.0      0.0     5598.0       0.210       37.0   \n",
      "4                 0.0      15.0      0.0    27783.0       0.539       38.0   \n",
      "...               ...       ...      ...        ...         ...        ...   \n",
      "42532             NaN       NaN      NaN        0.0         NaN        NaN   \n",
      "42533             NaN       NaN      NaN        0.0         NaN        NaN   \n",
      "42534             NaN       NaN      NaN        0.0         NaN        NaN   \n",
      "42535             NaN       NaN      NaN        0.0         NaN        NaN   \n",
      "42550             NaN       NaN      NaN        0.0         NaN        NaN   \n",
      "\n",
      "       last_fico_range_high  last_fico_range_low  delinq_amnt  \\\n",
      "0                     744.0                740.0          0.0   \n",
      "1                     499.0                  0.0          0.0   \n",
      "2                     719.0                715.0          0.0   \n",
      "3                     604.0                600.0          0.0   \n",
      "4                     694.0                690.0          0.0   \n",
      "...                     ...                  ...          ...   \n",
      "42532                 819.0                815.0          NaN   \n",
      "42533                 784.0                780.0          NaN   \n",
      "42534                 714.0                710.0          NaN   \n",
      "42535                 724.0                720.0          NaN   \n",
      "42550                 794.0                790.0          NaN   \n",
      "\n",
      "       pub_rec_bankruptcies  \n",
      "0                       0.0  \n",
      "1                       0.0  \n",
      "2                       0.0  \n",
      "3                       0.0  \n",
      "4                       0.0  \n",
      "...                     ...  \n",
      "42532                   NaN  \n",
      "42533                   NaN  \n",
      "42534                   NaN  \n",
      "42535                   NaN  \n",
      "42550                   NaN  \n",
      "\n",
      "[42535 rows x 25 columns]\n"
     ]
    }
   ],
   "source": [
    "print(final)"
   ]
  },
  {
   "cell_type": "markdown",
   "metadata": {},
   "source": [
    "### Finding and Replacing NULL values in 'loan_amnt', 'emp_length' and 'annual_inc' with 0."
   ]
  },
  {
   "cell_type": "code",
   "execution_count": 70,
   "metadata": {},
   "outputs": [
    {
     "data": {
      "text/plain": [
       "loan_amnt                  0\n",
       "term                       0\n",
       "installment                0\n",
       "grade                      0\n",
       "emp_length              1112\n",
       "home_ownership             0\n",
       "annual_inc                 4\n",
       "verification_status        0\n",
       "loan_status                0\n",
       "purpose                    0\n",
       "addr_state                 0\n",
       "dti                        0\n",
       "delinq_2yrs               29\n",
       "fico_range_low             0\n",
       "fico_range_high            0\n",
       "inq_last_6mths            29\n",
       "open_acc                  29\n",
       "pub_rec                   29\n",
       "revol_bal                  0\n",
       "revol_util                90\n",
       "total_acc                 29\n",
       "last_fico_range_high       0\n",
       "last_fico_range_low        0\n",
       "delinq_amnt               29\n",
       "pub_rec_bankruptcies    1365\n",
       "dtype: int64"
      ]
     },
     "execution_count": 70,
     "metadata": {},
     "output_type": "execute_result"
    }
   ],
   "source": [
    "final.isnull().sum(axis=0)"
   ]
  },
  {
   "cell_type": "code",
   "execution_count": 71,
   "metadata": {},
   "outputs": [],
   "source": [
    "final['loan_amnt'].fillna(0, inplace=True)"
   ]
  },
  {
   "cell_type": "code",
   "execution_count": 72,
   "metadata": {},
   "outputs": [],
   "source": [
    "final['emp_length'].fillna(0, inplace=True)"
   ]
  },
  {
   "cell_type": "code",
   "execution_count": 73,
   "metadata": {},
   "outputs": [],
   "source": [
    "final['annual_inc'].fillna(0, inplace=True)"
   ]
  },
  {
   "cell_type": "markdown",
   "metadata": {},
   "source": [
    "### Finding and Replacing NULL values in 'delinq_2yrs', 'inq_last_6mths', 'open_acc', 'pub_rec', 'revol_util', 'total_acc' and 'pub_rec_bankruptcies' with floor of the mean of rest of the column values."
   ]
  },
  {
   "cell_type": "code",
   "execution_count": 74,
   "metadata": {},
   "outputs": [
    {
     "name": "stdout",
     "output_type": "stream",
     "text": [
      "0        0.0\n",
      "1        0.0\n",
      "2        0.0\n",
      "3        0.0\n",
      "4        0.0\n",
      "        ... \n",
      "42532    NaN\n",
      "42533    NaN\n",
      "42534    NaN\n",
      "42535    NaN\n",
      "42550    NaN\n",
      "Name: delinq_2yrs, Length: 42535, dtype: float64\n"
     ]
    }
   ],
   "source": [
    "print(final['delinq_2yrs'])"
   ]
  },
  {
   "cell_type": "code",
   "execution_count": 75,
   "metadata": {},
   "outputs": [
    {
     "name": "stdout",
     "output_type": "stream",
     "text": [
      "0        1.0\n",
      "1        5.0\n",
      "2        2.0\n",
      "3        1.0\n",
      "4        0.0\n",
      "        ... \n",
      "42532    NaN\n",
      "42533    NaN\n",
      "42534    NaN\n",
      "42535    NaN\n",
      "42550    NaN\n",
      "Name: inq_last_6mths, Length: 42535, dtype: float64\n"
     ]
    }
   ],
   "source": [
    "print(final['inq_last_6mths'])"
   ]
  },
  {
   "cell_type": "code",
   "execution_count": 76,
   "metadata": {},
   "outputs": [
    {
     "name": "stdout",
     "output_type": "stream",
     "text": [
      "0         3.0\n",
      "1         3.0\n",
      "2         2.0\n",
      "3        10.0\n",
      "4        15.0\n",
      "         ... \n",
      "42532     NaN\n",
      "42533     NaN\n",
      "42534     NaN\n",
      "42535     NaN\n",
      "42550     NaN\n",
      "Name: open_acc, Length: 42535, dtype: float64\n"
     ]
    }
   ],
   "source": [
    "print(final['open_acc'])"
   ]
  },
  {
   "cell_type": "code",
   "execution_count": 77,
   "metadata": {},
   "outputs": [
    {
     "name": "stdout",
     "output_type": "stream",
     "text": [
      "0        0.0\n",
      "1        0.0\n",
      "2        0.0\n",
      "3        0.0\n",
      "4        0.0\n",
      "        ... \n",
      "42532    NaN\n",
      "42533    NaN\n",
      "42534    NaN\n",
      "42535    NaN\n",
      "42550    NaN\n",
      "Name: pub_rec, Length: 42535, dtype: float64\n"
     ]
    }
   ],
   "source": [
    "print(final['pub_rec'])"
   ]
  },
  {
   "cell_type": "code",
   "execution_count": 78,
   "metadata": {},
   "outputs": [
    {
     "name": "stdout",
     "output_type": "stream",
     "text": [
      "0        0.837\n",
      "1        0.094\n",
      "2        0.985\n",
      "3        0.210\n",
      "4        0.539\n",
      "         ...  \n",
      "42532      NaN\n",
      "42533      NaN\n",
      "42534      NaN\n",
      "42535      NaN\n",
      "42550      NaN\n",
      "Name: revol_util, Length: 42535, dtype: float64\n"
     ]
    }
   ],
   "source": [
    "print(final['revol_util'])"
   ]
  },
  {
   "cell_type": "code",
   "execution_count": 79,
   "metadata": {},
   "outputs": [
    {
     "name": "stdout",
     "output_type": "stream",
     "text": [
      "0         9.0\n",
      "1         4.0\n",
      "2        10.0\n",
      "3        37.0\n",
      "4        38.0\n",
      "         ... \n",
      "42532     NaN\n",
      "42533     NaN\n",
      "42534     NaN\n",
      "42535     NaN\n",
      "42550     NaN\n",
      "Name: total_acc, Length: 42535, dtype: float64\n"
     ]
    }
   ],
   "source": [
    "print(final['total_acc'])"
   ]
  },
  {
   "cell_type": "code",
   "execution_count": 80,
   "metadata": {},
   "outputs": [
    {
     "name": "stdout",
     "output_type": "stream",
     "text": [
      "0        0.0\n",
      "1        0.0\n",
      "2        0.0\n",
      "3        0.0\n",
      "4        0.0\n",
      "        ... \n",
      "42532    NaN\n",
      "42533    NaN\n",
      "42534    NaN\n",
      "42535    NaN\n",
      "42550    NaN\n",
      "Name: pub_rec_bankruptcies, Length: 42535, dtype: float64\n"
     ]
    }
   ],
   "source": [
    "print(final['pub_rec_bankruptcies'])"
   ]
  },
  {
   "cell_type": "code",
   "execution_count": 81,
   "metadata": {},
   "outputs": [
    {
     "name": "stdout",
     "output_type": "stream",
     "text": [
      "0.0     37771\n",
      "1.0      3595\n",
      "2.0       771\n",
      "3.0       244\n",
      "4.0        72\n",
      "5.0        27\n",
      "6.0        13\n",
      "7.0         6\n",
      "8.0         3\n",
      "11.0        2\n",
      "13.0        1\n",
      "9.0         1\n",
      "Name: delinq_2yrs, dtype: int64\n"
     ]
    }
   ],
   "source": [
    "print (final['delinq_2yrs'].value_counts())"
   ]
  },
  {
   "cell_type": "code",
   "execution_count": 82,
   "metadata": {},
   "outputs": [
    {
     "name": "stdout",
     "output_type": "stream",
     "text": [
      "0.0     19657\n",
      "1.0     11247\n",
      "2.0      5987\n",
      "3.0      3182\n",
      "4.0      1056\n",
      "5.0       596\n",
      "6.0       339\n",
      "7.0       182\n",
      "8.0       115\n",
      "9.0        50\n",
      "10.0       24\n",
      "12.0       15\n",
      "11.0       15\n",
      "15.0        9\n",
      "14.0        6\n",
      "13.0        6\n",
      "18.0        4\n",
      "16.0        3\n",
      "24.0        2\n",
      "17.0        2\n",
      "19.0        2\n",
      "28.0        1\n",
      "33.0        1\n",
      "27.0        1\n",
      "31.0        1\n",
      "25.0        1\n",
      "32.0        1\n",
      "20.0        1\n",
      "Name: inq_last_6mths, dtype: int64\n"
     ]
    }
   ],
   "source": [
    "print (final['inq_last_6mths'].value_counts())"
   ]
  },
  {
   "cell_type": "code",
   "execution_count": 83,
   "metadata": {},
   "outputs": [
    {
     "name": "stdout",
     "output_type": "stream",
     "text": [
      "7.0     4252\n",
      "8.0     4176\n",
      "6.0     4172\n",
      "9.0     3922\n",
      "10.0    3386\n",
      "5.0     3368\n",
      "11.0    2944\n",
      "4.0     2508\n",
      "12.0    2398\n",
      "13.0    2060\n",
      "3.0     1608\n",
      "14.0    1597\n",
      "15.0    1290\n",
      "16.0    1022\n",
      "17.0     812\n",
      "2.0      692\n",
      "18.0     588\n",
      "19.0     442\n",
      "20.0     335\n",
      "21.0     276\n",
      "22.0     170\n",
      "23.0     121\n",
      "24.0      87\n",
      "25.0      63\n",
      "26.0      40\n",
      "1.0       39\n",
      "28.0      29\n",
      "27.0      29\n",
      "30.0      17\n",
      "29.0      16\n",
      "31.0      13\n",
      "34.0       8\n",
      "32.0       6\n",
      "33.0       5\n",
      "35.0       4\n",
      "38.0       2\n",
      "36.0       2\n",
      "41.0       1\n",
      "46.0       1\n",
      "39.0       1\n",
      "47.0       1\n",
      "44.0       1\n",
      "37.0       1\n",
      "42.0       1\n",
      "Name: open_acc, dtype: int64\n"
     ]
    }
   ],
   "source": [
    "print (final['open_acc'].value_counts())"
   ]
  },
  {
   "cell_type": "code",
   "execution_count": 84,
   "metadata": {},
   "outputs": [
    {
     "name": "stdout",
     "output_type": "stream",
     "text": [
      "0.0    40130\n",
      "1.0     2298\n",
      "2.0       64\n",
      "3.0       11\n",
      "4.0        2\n",
      "5.0        1\n",
      "Name: pub_rec, dtype: int64\n"
     ]
    }
   ],
   "source": [
    "print (final['pub_rec'].value_counts())"
   ]
  },
  {
   "cell_type": "code",
   "execution_count": 85,
   "metadata": {},
   "outputs": [
    {
     "name": "stdout",
     "output_type": "stream",
     "text": [
      "0.0000    1070\n",
      "0.4070      65\n",
      "0.0020      64\n",
      "0.6300      63\n",
      "0.6660      62\n",
      "          ... \n",
      "0.3329       1\n",
      "1.0620       1\n",
      "1.0350       1\n",
      "0.3019       1\n",
      "0.2463       1\n",
      "Name: revol_util, Length: 1119, dtype: int64\n"
     ]
    }
   ],
   "source": [
    "print (final['revol_util'].value_counts())"
   ]
  },
  {
   "cell_type": "code",
   "execution_count": 86,
   "metadata": {},
   "outputs": [
    {
     "name": "stdout",
     "output_type": "stream",
     "text": [
      "15.0    1552\n",
      "16.0    1547\n",
      "17.0    1543\n",
      "14.0    1531\n",
      "20.0    1504\n",
      "        ... \n",
      "77.0       1\n",
      "72.0       1\n",
      "80.0       1\n",
      "70.0       1\n",
      "74.0       1\n",
      "Name: total_acc, Length: 83, dtype: int64\n"
     ]
    }
   ],
   "source": [
    "print (final['total_acc'].value_counts())"
   ]
  },
  {
   "cell_type": "code",
   "execution_count": 87,
   "metadata": {},
   "outputs": [
    {
     "name": "stdout",
     "output_type": "stream",
     "text": [
      "0.0    39316\n",
      "1.0     1846\n",
      "2.0        8\n",
      "Name: pub_rec_bankruptcies, dtype: int64\n"
     ]
    }
   ],
   "source": [
    "print (final['pub_rec_bankruptcies'].value_counts())"
   ]
  },
  {
   "cell_type": "code",
   "execution_count": 88,
   "metadata": {},
   "outputs": [],
   "source": [
    "import numpy as np\n",
    "final['delinq_2yrs'].fillna(np.floor(final[\"delinq_2yrs\"].mean()), inplace=True)"
   ]
  },
  {
   "cell_type": "code",
   "execution_count": 89,
   "metadata": {},
   "outputs": [
    {
     "name": "stdout",
     "output_type": "stream",
     "text": [
      "0.0     37800\n",
      "1.0      3595\n",
      "2.0       771\n",
      "3.0       244\n",
      "4.0        72\n",
      "5.0        27\n",
      "6.0        13\n",
      "7.0         6\n",
      "8.0         3\n",
      "11.0        2\n",
      "13.0        1\n",
      "9.0         1\n",
      "Name: delinq_2yrs, dtype: int64\n"
     ]
    }
   ],
   "source": [
    "print (final['delinq_2yrs'].value_counts())"
   ]
  },
  {
   "cell_type": "code",
   "execution_count": 90,
   "metadata": {},
   "outputs": [],
   "source": [
    "final['total_acc'].fillna(np.floor(final[\"total_acc\"].mean()), inplace=True)"
   ]
  },
  {
   "cell_type": "code",
   "execution_count": 91,
   "metadata": {},
   "outputs": [
    {
     "name": "stdout",
     "output_type": "stream",
     "text": [
      "15.0    1552\n",
      "16.0    1547\n",
      "17.0    1543\n",
      "14.0    1531\n",
      "20.0    1504\n",
      "        ... \n",
      "77.0       1\n",
      "72.0       1\n",
      "80.0       1\n",
      "70.0       1\n",
      "74.0       1\n",
      "Name: total_acc, Length: 83, dtype: int64\n"
     ]
    }
   ],
   "source": [
    "print (final['total_acc'].value_counts())"
   ]
  },
  {
   "cell_type": "code",
   "execution_count": 92,
   "metadata": {},
   "outputs": [],
   "source": [
    "final['revol_util'].fillna(np.floor(final[\"revol_util\"].mean()), inplace=True)"
   ]
  },
  {
   "cell_type": "code",
   "execution_count": 93,
   "metadata": {},
   "outputs": [
    {
     "name": "stdout",
     "output_type": "stream",
     "text": [
      "0.0000    1160\n",
      "0.4070      65\n",
      "0.0020      64\n",
      "0.6300      63\n",
      "0.6660      62\n",
      "          ... \n",
      "0.3329       1\n",
      "1.0620       1\n",
      "1.0350       1\n",
      "0.3019       1\n",
      "0.2463       1\n",
      "Name: revol_util, Length: 1119, dtype: int64\n"
     ]
    }
   ],
   "source": [
    "print (final['revol_util'].value_counts())"
   ]
  },
  {
   "cell_type": "code",
   "execution_count": 94,
   "metadata": {},
   "outputs": [],
   "source": [
    "final['pub_rec'].fillna(np.floor(final[\"pub_rec\"].mean()), inplace=True)"
   ]
  },
  {
   "cell_type": "code",
   "execution_count": 95,
   "metadata": {},
   "outputs": [
    {
     "name": "stdout",
     "output_type": "stream",
     "text": [
      "0.0    40159\n",
      "1.0     2298\n",
      "2.0       64\n",
      "3.0       11\n",
      "4.0        2\n",
      "5.0        1\n",
      "Name: pub_rec, dtype: int64\n"
     ]
    }
   ],
   "source": [
    "print (final['pub_rec'].value_counts())"
   ]
  },
  {
   "cell_type": "code",
   "execution_count": 96,
   "metadata": {},
   "outputs": [],
   "source": [
    "final['open_acc'].fillna(np.floor(final[\"open_acc\"].mean()), inplace=True)"
   ]
  },
  {
   "cell_type": "code",
   "execution_count": 97,
   "metadata": {},
   "outputs": [
    {
     "name": "stdout",
     "output_type": "stream",
     "text": [
      "7.0     4252\n",
      "8.0     4176\n",
      "6.0     4172\n",
      "9.0     3951\n",
      "10.0    3386\n",
      "5.0     3368\n",
      "11.0    2944\n",
      "4.0     2508\n",
      "12.0    2398\n",
      "13.0    2060\n",
      "3.0     1608\n",
      "14.0    1597\n",
      "15.0    1290\n",
      "16.0    1022\n",
      "17.0     812\n",
      "2.0      692\n",
      "18.0     588\n",
      "19.0     442\n",
      "20.0     335\n",
      "21.0     276\n",
      "22.0     170\n",
      "23.0     121\n",
      "24.0      87\n",
      "25.0      63\n",
      "26.0      40\n",
      "1.0       39\n",
      "28.0      29\n",
      "27.0      29\n",
      "30.0      17\n",
      "29.0      16\n",
      "31.0      13\n",
      "34.0       8\n",
      "32.0       6\n",
      "33.0       5\n",
      "35.0       4\n",
      "38.0       2\n",
      "36.0       2\n",
      "41.0       1\n",
      "46.0       1\n",
      "39.0       1\n",
      "47.0       1\n",
      "44.0       1\n",
      "37.0       1\n",
      "42.0       1\n",
      "Name: open_acc, dtype: int64\n"
     ]
    }
   ],
   "source": [
    "print (final['open_acc'].value_counts())"
   ]
  },
  {
   "cell_type": "code",
   "execution_count": 98,
   "metadata": {},
   "outputs": [],
   "source": [
    "final['inq_last_6mths'].fillna(np.floor(final[\"inq_last_6mths\"].mean()), inplace=True)"
   ]
  },
  {
   "cell_type": "code",
   "execution_count": 99,
   "metadata": {},
   "outputs": [
    {
     "name": "stdout",
     "output_type": "stream",
     "text": [
      "0.0     19657\n",
      "1.0     11276\n",
      "2.0      5987\n",
      "3.0      3182\n",
      "4.0      1056\n",
      "5.0       596\n",
      "6.0       339\n",
      "7.0       182\n",
      "8.0       115\n",
      "9.0        50\n",
      "10.0       24\n",
      "12.0       15\n",
      "11.0       15\n",
      "15.0        9\n",
      "14.0        6\n",
      "13.0        6\n",
      "18.0        4\n",
      "16.0        3\n",
      "24.0        2\n",
      "17.0        2\n",
      "19.0        2\n",
      "28.0        1\n",
      "33.0        1\n",
      "27.0        1\n",
      "31.0        1\n",
      "25.0        1\n",
      "32.0        1\n",
      "20.0        1\n",
      "Name: inq_last_6mths, dtype: int64\n"
     ]
    }
   ],
   "source": [
    "print (final['inq_last_6mths'].value_counts())"
   ]
  },
  {
   "cell_type": "code",
   "execution_count": 100,
   "metadata": {},
   "outputs": [],
   "source": [
    "final['pub_rec_bankruptcies'].fillna(np.floor(final[\"pub_rec_bankruptcies\"].mean()), inplace=True)"
   ]
  },
  {
   "cell_type": "code",
   "execution_count": 101,
   "metadata": {
    "scrolled": false
   },
   "outputs": [
    {
     "name": "stdout",
     "output_type": "stream",
     "text": [
      "0.0    40681\n",
      "1.0     1846\n",
      "2.0        8\n",
      "Name: pub_rec_bankruptcies, dtype: int64\n"
     ]
    }
   ],
   "source": [
    "print (final['pub_rec_bankruptcies'].value_counts())"
   ]
  },
  {
   "cell_type": "markdown",
   "metadata": {},
   "source": [
    "### Removing the column 'deling_amnt' becuase it has 2 Outliers. After removing we have 42535 Rows and 24 Columns in the dataset."
   ]
  },
  {
   "cell_type": "code",
   "execution_count": 102,
   "metadata": {},
   "outputs": [
    {
     "name": "stdout",
     "output_type": "stream",
     "text": [
      "0        0.0\n",
      "1        0.0\n",
      "2        0.0\n",
      "3        0.0\n",
      "4        0.0\n",
      "        ... \n",
      "42532    NaN\n",
      "42533    NaN\n",
      "42534    NaN\n",
      "42535    NaN\n",
      "42550    NaN\n",
      "Name: delinq_amnt, Length: 42535, dtype: float64\n"
     ]
    }
   ],
   "source": [
    "print(final['delinq_amnt'])"
   ]
  },
  {
   "cell_type": "code",
   "execution_count": 103,
   "metadata": {},
   "outputs": [
    {
     "name": "stdout",
     "output_type": "stream",
     "text": [
      "0.0       42504\n",
      "6053.0        1\n",
      "27.0          1\n",
      "Name: delinq_amnt, dtype: int64\n"
     ]
    }
   ],
   "source": [
    "print (final['delinq_amnt'].value_counts())"
   ]
  },
  {
   "cell_type": "code",
   "execution_count": 104,
   "metadata": {},
   "outputs": [],
   "source": [
    "drop_col=['delinq_amnt']\n",
    "final = final.drop(drop_col,axis=1)"
   ]
  },
  {
   "cell_type": "markdown",
   "metadata": {},
   "source": [
    "# RESULT"
   ]
  },
  {
   "cell_type": "markdown",
   "metadata": {},
   "source": [
    "### Finally, the data set has 42535 Rows, 24 Columns, no null values and all the columns are of type float or int as shown in the output. "
   ]
  },
  {
   "cell_type": "code",
   "execution_count": 105,
   "metadata": {},
   "outputs": [
    {
     "data": {
      "text/plain": [
       "loan_amnt               0\n",
       "term                    0\n",
       "installment             0\n",
       "grade                   0\n",
       "emp_length              0\n",
       "home_ownership          0\n",
       "annual_inc              0\n",
       "verification_status     0\n",
       "loan_status             0\n",
       "purpose                 0\n",
       "addr_state              0\n",
       "dti                     0\n",
       "delinq_2yrs             0\n",
       "fico_range_low          0\n",
       "fico_range_high         0\n",
       "inq_last_6mths          0\n",
       "open_acc                0\n",
       "pub_rec                 0\n",
       "revol_bal               0\n",
       "revol_util              0\n",
       "total_acc               0\n",
       "last_fico_range_high    0\n",
       "last_fico_range_low     0\n",
       "pub_rec_bankruptcies    0\n",
       "dtype: int64"
      ]
     },
     "execution_count": 105,
     "metadata": {},
     "output_type": "execute_result"
    }
   ],
   "source": [
    "final.isnull().sum(axis=0)"
   ]
  },
  {
   "cell_type": "code",
   "execution_count": 106,
   "metadata": {},
   "outputs": [
    {
     "data": {
      "text/plain": [
       "loan_amnt               float64\n",
       "term                    float64\n",
       "installment             float64\n",
       "grade                     int64\n",
       "emp_length              float64\n",
       "home_ownership            int64\n",
       "annual_inc              float64\n",
       "verification_status       int64\n",
       "loan_status               int64\n",
       "purpose                   int64\n",
       "addr_state                int64\n",
       "dti                     float64\n",
       "delinq_2yrs             float64\n",
       "fico_range_low          float64\n",
       "fico_range_high         float64\n",
       "inq_last_6mths          float64\n",
       "open_acc                float64\n",
       "pub_rec                 float64\n",
       "revol_bal               float64\n",
       "revol_util              float64\n",
       "total_acc               float64\n",
       "last_fico_range_high    float64\n",
       "last_fico_range_low     float64\n",
       "pub_rec_bankruptcies    float64\n",
       "dtype: object"
      ]
     },
     "execution_count": 106,
     "metadata": {},
     "output_type": "execute_result"
    }
   ],
   "source": [
    "final.dtypes"
   ]
  },
  {
   "cell_type": "code",
   "execution_count": 107,
   "metadata": {},
   "outputs": [
    {
     "name": "stdout",
     "output_type": "stream",
     "text": [
      "       loan_amnt  term  installment  grade  emp_length  home_ownership  \\\n",
      "0         5000.0  36.0       162.87      2        10.0               1   \n",
      "1         2500.0  60.0        59.83      3         0.0               1   \n",
      "2         2400.0  36.0        84.33      3        10.0               1   \n",
      "3        10000.0  36.0       339.31      3        10.0               1   \n",
      "4         3000.0  60.0        67.79      2         1.0               1   \n",
      "...          ...   ...          ...    ...         ...             ...   \n",
      "42532     3500.0  36.0       113.39      3         0.0               1   \n",
      "42533     1000.0  36.0        32.11      2         0.0               1   \n",
      "42534     2525.0  36.0        80.69      2         0.0               1   \n",
      "42535     6500.0  36.0       204.84      1         0.0               0   \n",
      "42550     5000.0  36.0       156.11      1        10.0               2   \n",
      "\n",
      "       annual_inc  verification_status  loan_status  purpose  ...  \\\n",
      "0         24000.0                    1            0        1  ...   \n",
      "1         30000.0                    2            1        5  ...   \n",
      "2         12252.0                    0            0        4  ...   \n",
      "3         49200.0                    2            0       13  ...   \n",
      "4         80000.0                    2            4       13  ...   \n",
      "...           ...                  ...          ...      ...  ...   \n",
      "42532    180000.0                    0            2       13  ...   \n",
      "42533     12000.0                    0            2       13  ...   \n",
      "42534    110000.0                    0            2       13  ...   \n",
      "42535         0.0                    0            2       13  ...   \n",
      "42550     70000.0                    0            2       13  ...   \n",
      "\n",
      "       fico_range_high  inq_last_6mths  open_acc  pub_rec  revol_bal  \\\n",
      "0                739.0             1.0       3.0      0.0    13648.0   \n",
      "1                744.0             5.0       3.0      0.0     1687.0   \n",
      "2                739.0             2.0       2.0      0.0     2956.0   \n",
      "3                694.0             1.0      10.0      0.0     5598.0   \n",
      "4                699.0             0.0      15.0      0.0    27783.0   \n",
      "...                ...             ...       ...      ...        ...   \n",
      "42532            689.0             1.0       9.0      0.0        0.0   \n",
      "42533            699.0             1.0       9.0      0.0        0.0   \n",
      "42534            714.0             1.0       9.0      0.0        0.0   \n",
      "42535            744.0             1.0       9.0      0.0        0.0   \n",
      "42550            774.0             1.0       9.0      0.0        0.0   \n",
      "\n",
      "       revol_util  total_acc  last_fico_range_high  last_fico_range_low  \\\n",
      "0           0.837        9.0                 744.0                740.0   \n",
      "1           0.094        4.0                 499.0                  0.0   \n",
      "2           0.985       10.0                 719.0                715.0   \n",
      "3           0.210       37.0                 604.0                600.0   \n",
      "4           0.539       38.0                 694.0                690.0   \n",
      "...           ...        ...                   ...                  ...   \n",
      "42532       0.000       22.0                 819.0                815.0   \n",
      "42533       0.000       22.0                 784.0                780.0   \n",
      "42534       0.000       22.0                 714.0                710.0   \n",
      "42535       0.000       22.0                 724.0                720.0   \n",
      "42550       0.000       22.0                 794.0                790.0   \n",
      "\n",
      "       pub_rec_bankruptcies  \n",
      "0                       0.0  \n",
      "1                       0.0  \n",
      "2                       0.0  \n",
      "3                       0.0  \n",
      "4                       0.0  \n",
      "...                     ...  \n",
      "42532                   0.0  \n",
      "42533                   0.0  \n",
      "42534                   0.0  \n",
      "42535                   0.0  \n",
      "42550                   0.0  \n",
      "\n",
      "[42535 rows x 24 columns]\n"
     ]
    }
   ],
   "source": [
    "print(final)"
   ]
  }
 ],
 "metadata": {
  "kernelspec": {
   "display_name": "Python 3",
   "language": "python",
   "name": "python3"
  },
  "language_info": {
   "codemirror_mode": {
    "name": "ipython",
    "version": 3
   },
   "file_extension": ".py",
   "mimetype": "text/x-python",
   "name": "python",
   "nbconvert_exporter": "python",
   "pygments_lexer": "ipython3",
   "version": "3.7.6"
  }
 },
 "nbformat": 4,
 "nbformat_minor": 4
}
